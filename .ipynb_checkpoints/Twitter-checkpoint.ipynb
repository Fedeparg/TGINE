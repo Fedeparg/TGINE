{
 "cells": [
  {
   "cell_type": "markdown",
   "metadata": {},
   "source": [
    "# Práctica 2: Clasificador de tweets\n",
    "## por Federico Pardo García\n",
    "\n",
    "## Máster en BIG DATA: Tecnologías de Gestión de Información No Estructurada 2020/2021\n"
   ]
  },
  {
   "cell_type": "markdown",
   "metadata": {},
   "source": [
    "## Introducción\n",
    "¿Empezamos?"
   ]
  },
  {
   "cell_type": "code",
   "execution_count": 2,
   "metadata": {},
   "outputs": [],
   "source": [
    "import twitter\n",
    "api = twitter.Api(consumer_key='vJx3WkjUjATxveo8NK3tsVniM',\n",
    "                  consumer_secret='DLuw7WXYXwLIAVG2GtQHcVjOWM8Mq5a1qn3ZynniQSbSfKWSvM',\n",
    "                  access_token_key='769542991832907780-yM58uOw32rNLJe0OD3EBmD5KwdsScwv',\n",
    "                  access_token_secret='wBAtr8mhrOBQZE1ccv1y3tSAO8om2afmodatnj8gKLswn')"
   ]
  },
  {
   "cell_type": "code",
   "execution_count": 5,
   "metadata": {},
   "outputs": [
    {
     "data": {
      "text/plain": [
       "[Status(ID=1325390624397398016, ScreenName=Fedeparg, Created=Sun Nov 08 10:52:04 +0000 2020, Text='RT @OutOfContextEv: https://t.co/QmUUDj5trv'),\n",
       " Status(ID=1322865036562518016, ScreenName=Fedeparg, Created=Sun Nov 01 11:36:17 +0000 2020, Text='@Paulaparpi1 Ojalá ganar algo de verdad en la vida xd'),\n",
       " Status(ID=1322864706026168322, ScreenName=Fedeparg, Created=Sun Nov 01 11:34:58 +0000 2020, Text='@Paulaparpi1 Pues no se como, pero estoy el 3º'),\n",
       " Status(ID=1322863597572231169, ScreenName=Fedeparg, Created=Sun Nov 01 11:30:33 +0000 2020, Text='Estarías con una persona? https://t.co/4hlwJgZXdI'),\n",
       " Status(ID=1322863425349947395, ScreenName=Fedeparg, Created=Sun Nov 01 11:29:52 +0000 2020, Text='@Paulaparpi1 Se supone que a más arriba más suerte?'),\n",
       " Status(ID=1322693703153143815, ScreenName=Fedeparg, Created=Sun Nov 01 00:15:27 +0000 2020, Text=\"Maybe I'm done with the violence\\nMaybe with love it'll make sense\\nMaybe it's all in our intent\\nDeep down we are innocent\"),\n",
       " Status(ID=1321467843398033409, ScreenName=Fedeparg, Created=Wed Oct 28 15:04:20 +0000 2020, Text='@Anuko50 Tranqui, solo puede ser gente que tweetee en inglés exclusivamente'),\n",
       " Status(ID=1321464194655543297, ScreenName=Fedeparg, Created=Wed Oct 28 14:49:50 +0000 2020, Text='Nunca pensé que diría esto, pero la situación lo merece.\\n\\nTodas las personas a las que ahora mismo sigo, sois susce… https://t.co/nmt1kZSzlc'),\n",
       " Status(ID=1321222970375872512, ScreenName=Fedeparg, Created=Tue Oct 27 22:51:17 +0000 2020, Text='@__mjxss Drogas, pollas, besitos y perretes')]"
      ]
     },
     "execution_count": 5,
     "metadata": {},
     "output_type": "execute_result"
    }
   ],
   "source": [
    "thing = api.GetUserTimeline(screen_name='Fedeparg', count=100)\n"
   ]
  }
 ],
 "metadata": {
  "kernelspec": {
   "display_name": "Python 3",
   "language": "python",
   "name": "python3"
  },
  "language_info": {
   "codemirror_mode": {
    "name": "ipython",
    "version": 3
   },
   "file_extension": ".py",
   "mimetype": "text/x-python",
   "name": "python",
   "nbconvert_exporter": "python",
   "pygments_lexer": "ipython3",
   "version": "3.8.5"
  }
 },
 "nbformat": 4,
 "nbformat_minor": 4
}
