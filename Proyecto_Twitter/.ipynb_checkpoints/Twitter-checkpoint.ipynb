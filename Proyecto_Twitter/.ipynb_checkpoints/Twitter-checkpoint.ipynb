{
 "cells": [
  {
   "cell_type": "markdown",
   "metadata": {},
   "source": [
    "# Práctica 2: Clasificador de tweets\n",
    "## por Federico Pardo García\n",
    "\n",
    "## Máster en BIG DATA: Tecnologías de Gestión de Información No Estructurada 2020/2021\n"
   ]
  },
  {
   "cell_type": "markdown",
   "metadata": {},
   "source": [
    "## Introducción\n",
    "\n",
    "En este trabajo, se nos pide desarrollar un algoritmo de aprendizaje basado en máquinas de soporte vectorial que nos permita clasificar si un tweet pertenece a una persona u otra.\n",
    "El objetivo principal es comprobar si varias personalidades son más o menos difíciles de clasificar en base a lo parecidas que sean, que sería lo normal.\n",
    "Por tanto, partímos de la hipótesis de que dos personalidades parecidas serán más difíciles de diferenciar respecto a dos personalidades bien diferenciadas.\n",
    "\n",
    "### ¿Por qué hacemos comprobaciones dos a dos?\n",
    "\n",
    "Debido a la naturaleza del algoritmo de aprendizaje a utilizar, solo podemos comparar cada par de personalidades por separado.\n",
    "Las máquinas de soporte vectorial (SVM) son algoritmos de aprendizaje que separan los datos en dos grupos lo más diferenciados posibles, por lo que este es el factor limitante a la hora de realizar la experimentación.\n",
    "\n",
    "Podríamos haber utilizado otro algoritmo de aprendizaje, pero las máquinas de soporte vectorial tienen la peculiaridad de que son muy eficientes a la hora de clasificar texto, ya que se suele representar en forma de vectores mediante _bag of words_.\n",
    "\n",
    "### Importe de librerías"
   ]
  },
  {
   "cell_type": "code",
   "execution_count": 1,
   "metadata": {},
   "outputs": [],
   "source": [
    "import twitter\n",
    "import xml.etree.ElementTree as ET\n",
    "import numpy as np\n",
    "from datetime import datetime\n",
    "from sklearn.feature_extraction.text import CountVectorizer\n",
    "from sklearn.feature_extraction import text\n",
    "from sklearn.model_selection import train_test_split\n",
    "from sklearn.model_selection import GridSearchCV\n",
    "from sklearn.metrics import precision_score, accuracy_score\n",
    "from sklearn.svm import SVC\n",
    "import matplotlib.pyplot as plt\n",
    "%matplotlib inline\n",
    "from sklearn.model_selection import PredefinedSplit\n",
    "import pandas as pd\n",
    "import os.path\n",
    "\n",
    "# Para el opcional\n",
    "from vaderSentiment.vaderSentiment import SentimentIntensityAnalyzer\n",
    "from datetime import timedelta\n",
    "from statistics import mean"
   ]
  },
  {
   "cell_type": "markdown",
   "metadata": {},
   "source": [
    "Para garantizar la reproducibilidad de los experimentos, establecemos una semilla para todas las operaciones aleatorias."
   ]
  },
  {
   "cell_type": "code",
   "execution_count": 2,
   "metadata": {},
   "outputs": [],
   "source": [
    "SEED_VALUE = 1234"
   ]
  },
  {
   "cell_type": "markdown",
   "metadata": {},
   "source": [
    "Comenzamos cargando la API de Twitter, que nos permitirá comunicarnos con la misma para obtener los tweets.\n",
    "Incluimos el parámetro `sleep_on_rate_limit` a `True` para que en caso de llegar al límite de tweets que podemos pedir de una tirada, sea la propia librería la que haga una parada hasta que sea posible volver a obtener los tweets.\n",
    "Esto es así ya que Twitter limita el número de peticiones que se pueden realizar desde su API, para evitar un uso indebido de la misma o un ataque, y asegurando de esta forma los recursos para todos los usuarios que quieran utilizarla."
   ]
  },
  {
   "cell_type": "code",
   "execution_count": 3,
   "metadata": {},
   "outputs": [],
   "source": [
    "api = twitter.Api(consumer_key='vJx3WkjUjATxveo8NK3tsVniM',\n",
    "                  consumer_secret='DLuw7WXYXwLIAVG2GtQHcVjOWM8Mq5a1qn3ZynniQSbSfKWSvM',\n",
    "                  access_token_key='769542991832907780-yM58uOw32rNLJe0OD3EBmD5KwdsScwv',\n",
    "                  access_token_secret='wBAtr8mhrOBQZE1ccv1y3tSAO8om2afmodatnj8gKLswn',\n",
    "                  sleep_on_rate_limit=True, # Nos permite despreocuparnos de rate_limits\n",
    "                  tweet_mode='extended')\n"
   ]
  },
  {
   "cell_type": "markdown",
   "metadata": {},
   "source": [
    "A continuación, definimos una serie de funciones que nos serán útiles para obtener los tweets de un usuario, así como almacenarlos y extraerlos de un fichero XML, evitando tener que conectarnos a twitter en cada ocasión para obtener la _timeline_ de un usuario.\n",
    "\n",
    "La función `get_tweets` ha sido obtenida y adaptada de la siguiente [fuente](\n",
    "https://medium.com/agatha-codes/0-to-280-getting-twitter-timeline-data-for-your-awesome-nlp-project-ff41b941ed6)."
   ]
  },
  {
   "cell_type": "code",
   "execution_count": 4,
   "metadata": {},
   "outputs": [],
   "source": [
    "def get_tweets(first_200, screen_name, last_id):\n",
    "    '''\n",
    "    Get all tweets from a user account\n",
    "    '''\n",
    "    all_tweets = []\n",
    "    all_tweets.extend(first_200)\n",
    "    for i in range(5000):\n",
    "        new = api.GetUserTimeline(screen_name=screen_name, max_id = last_id-1)\n",
    "        if len(new) > 0:\n",
    "            all_tweets.extend(new)\n",
    "            last_id = new[-1].id\n",
    "        else:\n",
    "            break\n",
    "    return all_tweets\n",
    "\n",
    "\n",
    "def dump_XML(tweets, name):\n",
    "    '''\n",
    "    Takes a collection of tweets and a name\n",
    "    and saves the collection in an XML file named as 'name'.\n",
    "    '''\n",
    "    items = ET.Element(\"data\")\n",
    "    for tweet in tweets:\n",
    "        element = ET.SubElement(items, 'tweet')\n",
    "        element.set('id', str(tweet.id))\n",
    "        element.set('user_id', str(tweet.user.id))\n",
    "        element.set('user_name', tweet.user.screen_name)\n",
    "        element.set('date', str(tweet.created_at_in_seconds))\n",
    "        element.text = tweet.full_text + '\\n'\n",
    "            \n",
    "\n",
    "    mydata = ET.ElementTree(items)\n",
    "    mydata.write(\"./extracted_users/\" + name + \".xml\")\n",
    "\n",
    "\n",
    "def extract_XML(filename, include_date = False):\n",
    "    '''\n",
    "    Retrives de tweets collection from the \n",
    "    xml file including the date.\n",
    "    '''\n",
    "    tree = ET.ElementTree(file = \"./extracted_users/\" + filename)\n",
    "    root = tree.getroot()\n",
    "    collection = []\n",
    "    for doc in root:\n",
    "        text = doc.text\n",
    "        if include_date:\n",
    "            date = datetime.fromtimestamp(int(doc.attrib['date']))\n",
    "            collection.append((text, date))\n",
    "        else:\n",
    "            collection.append(text)\n",
    "    return collection\n",
    "\n",
    "\n",
    "def timeline(name):\n",
    "    first200 = api.GetUserTimeline(screen_name=name, count=200)\n",
    "    all_tweets = get_tweets(first200, name, first200[-1].id)\n",
    "    dump_XML(all_tweets, name)"
   ]
  },
  {
   "cell_type": "markdown",
   "metadata": {},
   "source": [
    "### Usuarios seleccionados\n",
    "Los usuarios seleccionados son:\n",
    "\n",
    "* _George Russell_: Joven piloto de Formula 1.\n",
    "* _Lando Norris_: Joven piloto de Formula 1.\n",
    "* _Bill Gates_: Cofundador de Microsoft y de Bill & Melinda Gates Foundation. Filántropo.\n",
    "\n",
    "Podría haber seleccionado un cuarto usuario, pero para la experimentación no es necesario, ya que vamos reutilizar uno de ellos en ambos ejercicios.\n",
    "He escogido a George Russell y a Lando Norris como usuarios \"similares\", ya que ambos son pilotos jovenes procedentes de Reino Unido y comenzando sus trayectorias en la Formula 1.\n",
    "Podemos decir que son perfiles similares, a la hora de ser clasificados.\n",
    "\n",
    "Por otro lado, he decidido esocger al filántropo y magnate Bill Gates, como contrapunto a cualquiera de los otros dos usuarios.\n",
    "El contenido y probablemnte el lenguaje utilizado será diferente en el caso de Gates respecto a cualquiera de los jovenes pilotos, por lo que es de esperar que sea sencillo distinguirlos.\n",
    "\n"
   ]
  },
  {
   "cell_type": "code",
   "execution_count": 5,
   "metadata": {},
   "outputs": [],
   "source": [
    "# Introducimos los nombres de usuario\n",
    "users = ['GeorgeRussell63','LandoNorris', 'BillGates']\n",
    "for user in users:\n",
    "    if not os.path.exists(\"./extracted_users/\" + user + \".xml\"):\n",
    "        timeline(user)"
   ]
  },
  {
   "cell_type": "markdown",
   "metadata": {},
   "source": [
    "## Clasificación de personalidades similares\n",
    "\n",
    "### División en 70% train y 30% test\n",
    "\n",
    "Primero debemos separar los datos de entrenamiento de los de test.\n",
    "Para la experimentación, se nos pide expresamente que reservemos el __30% más reciente__ para el conjunto de test, por lo que a la hora de seleccionar los mejores hiperparámetros para el algoritmo, trabajaremos con datos que pueden pertenecer a hace unas semanas o meses en función de la frecuencia de las publicaciones de los perfiles seleccionados."
   ]
  },
  {
   "cell_type": "code",
   "execution_count": 6,
   "metadata": {},
   "outputs": [],
   "source": [
    "def split_TrainTest(vectorizedDS, corpus1_len, corpus2_len):\n",
    "    '''\n",
    "    Dado el vector de un corpus y las longitudes de los corpus que lo componen,\n",
    "    lo separará en train y test con sus correspondientes etiquetas.\n",
    "    '''\n",
    "    \n",
    "    # Separamos el data frame según el autor del tweet\n",
    "    corpus1vectorized = vectorizedDS[:corpus1_len]\n",
    "    corpus2vectorized = vectorizedDS[corpus2_len:]\n",
    "    \n",
    "    # Punto de corte para cada autor\n",
    "    nCorpus1 = int(corpus1_len*0.7)\n",
    "    nCorpus2 = int(corpus2_len*0.7)\n",
    "    \n",
    "    # Predictores de entrenamiento (usamos los más antiguos)\n",
    "    x1train = corpus1vectorized[-nCorpus1:]\n",
    "    x2train = corpus2vectorized[-nCorpus2:]\n",
    "    frames = [x1train,x2train]\n",
    "    xTrain = pd.concat(frames)\n",
    "\n",
    "    # Predictores de test (usamos los más modernos)\n",
    "    x1test = corpus1vectorized[:corpus1_len-nCorpus1]\n",
    "    x2test = corpus2vectorized[:corpus2_len-nCorpus2]\n",
    "    frames = [x1test,x2test]\n",
    "    xTest = pd.concat(frames)\n",
    "    \n",
    "    # Salida de entrenamiento\n",
    "    y1train = (np.zeros((nCorpus1, 1))).tolist()\n",
    "    y2train = (np.ones((nCorpus2, 1))).tolist()\n",
    "    y1train.extend(y2train)\n",
    "    yTrain = y1train\n",
    "    \n",
    "    # Salida de test\n",
    "    y1test = (np.zeros((corpus1_len-nCorpus1, 1))).tolist()\n",
    "    y2test = (np.ones((corpus2_len-nCorpus2, 1))).tolist()\n",
    "    y1test.extend(y2test)\n",
    "    yTest = y1test\n",
    "    \n",
    "    return (xTrain, yTrain, xTest, yTest)\n",
    "\n",
    "def get_bag_of_words(corpus):\n",
    "    '''\n",
    "    Devuelve una representación \"bag of words\" para un corpus de documentos.\n",
    "    '''\n",
    "    english_stop_words = text.ENGLISH_STOP_WORDS\n",
    "    vectorizer = CountVectorizer(stop_words = english_stop_words, min_df=20)\n",
    "    corpusVectorized = vectorizer.fit_transform(corpus)\n",
    "    df_tf = pd.DataFrame(corpusVectorized.todense(), columns=vectorizer.get_feature_names())\n",
    "    return df_tf"
   ]
  },
  {
   "cell_type": "code",
   "execution_count": 7,
   "metadata": {},
   "outputs": [],
   "source": [
    "# Unificamos los corpus y lo procesamos\n",
    "russell = extract_XML('GeorgeRussell63.xml')\n",
    "norris = extract_XML('LandoNorris.xml')\n",
    "corpus = russell + norris\n",
    "\n",
    "df_tf = get_bag_of_words(corpus)\n",
    "(xTrain, yTrain, xTest, yTest) = split_TrainTest(df_tf, len(russell), len(norris))\n",
    "yTrain = pd.DataFrame(yTrain).values.ravel()\n",
    "yTest = pd.DataFrame(yTest).values.ravel()"
   ]
  },
  {
   "cell_type": "markdown",
   "metadata": {},
   "source": [
    "### Entrenamiento con SVC\n",
    "\n",
    "Comenzamos realizando un GridSearch, que nos perimte probar diversos hiperparámetros para intuir que combinación de los mismos puede funcionar mejor para este tipo de problema.\n",
    "En el propio enunciado se nos indica que solo podemos jugar con los hiperparámetros `C` y `kernel`, por lo que he decidido probar las siguientes combinaciones:"
   ]
  },
  {
   "cell_type": "code",
   "execution_count": 8,
   "metadata": {},
   "outputs": [],
   "source": [
    "hyperparameters ={'kernel':['linear', 'poly', 'rbf', 'sigmoid'],\n",
    "                 'C': [0.001, 0.005, 0.01, 0.05, 0.1, 0.5, 1, 2, 3, 4, 5, 10],\n",
    "                 'random_state':[SEED_VALUE]}"
   ]
  },
  {
   "cell_type": "markdown",
   "metadata": {},
   "source": [
    "Como métrica para puntuar los modelos, he decidido optar por `accuracy`, que se calcula como $\\dfrac{a}{\\left(samples\\right)}$ donde $a$ es el número de aciertos $samples$ el número de muestras que se han clasificado."
   ]
  },
  {
   "cell_type": "code",
   "execution_count": null,
   "metadata": {},
   "outputs": [],
   "source": [
    "clf = SVC()\n",
    "modelCV = GridSearchCV(clf,\n",
    "                       hyperparameters,\n",
    "                       cv=5,\n",
    "                       scoring='accuracy',\n",
    "                       n_jobs=-1,\n",
    "                       return_train_score=True)\n",
    "np.random.seed(SEED_VALUE)\n",
    "modelCV.fit(xTrain, yTrain)\n",
    "cv_results = pd.DataFrame(modelCV.cv_results_)"
   ]
  },
  {
   "cell_type": "markdown",
   "metadata": {},
   "source": [
    "Para no mostrar la lista completa de hiperparámetros, se incluyen unicamente los 10 primeros.\n",
    "De esta forma, podremos intentar extrapolar si algún hiperparámetro en particular funciona bien para este problema o si podemos descartar otros tantos."
   ]
  },
  {
   "cell_type": "code",
   "execution_count": null,
   "metadata": {},
   "outputs": [],
   "source": [
    "top10 = cv_results[cv_results['rank_test_score'] <= 10]\n",
    "display(top10.loc[:, ['param_kernel', 'param_C', 'mean_test_score', 'std_test_score', 'rank_test_score']])"
   ]
  },
  {
   "cell_type": "code",
   "execution_count": null,
   "metadata": {},
   "outputs": [],
   "source": [
    "rbf_kernel = cv_results[cv_results['param_kernel'] == 'rbf']\n",
    "linear_kernel = cv_results[cv_results['param_kernel'] == 'linear']\n",
    "\n",
    "plt.errorbar(linear_kernel[\"param_C\"],\n",
    "            1-linear_kernel['mean_test_score'],\n",
    "            linear_kernel['std_test_score'],\n",
    "            label = 'linear',\n",
    "            capsize=5)\n",
    "\n",
    "plt.errorbar(rbf_kernel[\"param_C\"],\n",
    "            1-rbf_kernel['mean_test_score'],\n",
    "            rbf_kernel['std_test_score'],\n",
    "            label = 'rbf',\n",
    "            capsize=3)\n",
    "\n",
    "plt.title(\"Error de predicción\")\n",
    "plt.xlabel(\"C\")\n",
    "plt.ylabel(\"Error\")\n",
    "plt.legend(loc='upper right')\n",
    "plt.xscale('log')\n",
    "plt.show()"
   ]
  },
  {
   "cell_type": "markdown",
   "metadata": {},
   "source": [
    "Con estos resultados podemos intuir varias cosas.\n",
    "El kernel `rbf` parece ser el que mejores resultados da para el problema en cuestión.\n",
    "También observamos que a mayor parámetro `C`, se obtiene una precisión similar con una desviación estandar mejor.\n",
    "Esto nos puede llevar a pensar que estos modelos generalizarán mejor que aquellos con un `C` inferior.\n",
    "Por ello, __personalmente__ he seleccionado la __mejor combinación de hiperparámetros__ con `kernel = rbf` y `C = 10`."
   ]
  },
  {
   "cell_type": "code",
   "execution_count": null,
   "metadata": {},
   "outputs": [],
   "source": [
    "clf = SVC(kernel = 'rbf', C = 10, random_state = SEED_VALUE)\n",
    "\n",
    "clf.fit(xTrain, yTrain)\n",
    "result = clf.predict(xTest)\n",
    "print(\"Exactitud del algoritmo ('Accuracy'): {}\".format(accuracy_score(yTest, result)))"
   ]
  },
  {
   "cell_type": "markdown",
   "metadata": {},
   "source": [
    "## Clasificación de personalidades diferentes\n",
    "\n",
    "Para las personalidades diferentes, seguimos la misma metodología que para las similares, cambiando esta vez las colecciones de tweets.\n",
    "En este caso, se compararán Bill Gates frente a Lando Norris."
   ]
  },
  {
   "cell_type": "code",
   "execution_count": null,
   "metadata": {},
   "outputs": [],
   "source": [
    "gates = extract_XML('BillGates.xml')\n",
    "norris = extract_XML('LandoNorris.xml')\n",
    "corpus = gates + norris\n",
    "\n",
    "df_tf = get_bag_of_words(corpus)\n",
    "(xTrain, yTrain, xTest, yTest) = split_TrainTest(df_tf, len(gates), len(norris))\n",
    "yTrain = pd.DataFrame(yTrain).values.ravel()\n",
    "yTest = pd.DataFrame(yTest).values.ravel()"
   ]
  },
  {
   "cell_type": "markdown",
   "metadata": {},
   "source": [
    "Basándonos en la experiencia de las personalidades similares y dado que el problema sigue siendo del mismo tipo, vamos a reducir el número de hiperparámetros a probar."
   ]
  },
  {
   "cell_type": "code",
   "execution_count": null,
   "metadata": {},
   "outputs": [],
   "source": [
    "clf = SVC()\n",
    "hyperparameters ={'kernel':['rbf',],\n",
    "                 'C': [0.1, 0.5, 1, 2, 3, 4, 5, 10],\n",
    "                 'random_state':[SEED_VALUE]}\n",
    "\n",
    "modelCV = GridSearchCV(clf,\n",
    "                       hyperparameters,\n",
    "                       cv=5,\n",
    "                       scoring='accuracy',\n",
    "                       n_jobs=-1,\n",
    "                       return_train_score=True)\n",
    "np.random.seed(SEED_VALUE)\n",
    "modelCV.fit(xTrain, yTrain)\n",
    "cv_results = pd.DataFrame(modelCV.cv_results_)"
   ]
  },
  {
   "cell_type": "code",
   "execution_count": null,
   "metadata": {},
   "outputs": [],
   "source": [
    "top10 = cv_results[cv_results['rank_test_score'] <= 10]\n",
    "display(top10.loc[:, ['param_kernel', 'param_C', 'mean_test_score', 'std_test_score', 'rank_test_score']])\n",
    "\n",
    "plt.errorbar(cv_results[\"param_C\"],\n",
    "            1-cv_results['mean_test_score'],\n",
    "            cv_results['std_test_score'],\n",
    "             label = 'rbf',\n",
    "            capsize=3)\n",
    "\n",
    "plt.title(\"Error de predicción\")\n",
    "plt.xlabel(\"C\")\n",
    "plt.ylabel(\"Error\")\n",
    "plt.legend(loc='upper right')\n",
    "plt.show()"
   ]
  },
  {
   "cell_type": "markdown",
   "metadata": {},
   "source": [
    "Obtenemos unos resultados bastante similares al caso anterior, como era de esperar.\n",
    "Habiendo confirmado esto, lo más justo es comparar ambos casos con los mismos hiperparámetros para el algoritmos, a pesar de que los datos no sean los mismos.\n",
    "Por tanto, volvemos a elegir `C = 10` y `kernel = rbf` y entrenamos."
   ]
  },
  {
   "cell_type": "code",
   "execution_count": null,
   "metadata": {},
   "outputs": [],
   "source": [
    "clf = SVC(kernel = 'rbf', C = 10, random_state = SEED_VALUE)\n",
    "\n",
    "clf.fit(xTrain, yTrain)\n",
    "result = clf.predict(xTest)\n",
    "print(\"Exactitud del algoritmo ('Accuracy'): {}\".format(accuracy_score(yTest, result)))"
   ]
  },
  {
   "cell_type": "markdown",
   "metadata": {},
   "source": [
    "Obtenemos un `accuracy` de 0.89, frente al 0.72 que obtuvimos para diferenciar personalidades similares.\n",
    "Por tanto, podemos confirmar que la hipótesis de que es más sencillo diferenciar personalidades diferentes que similares es correcta.\n",
    "Probablemente venga determinada en este caso por el vocabulario específico y la posible diferencia de edad.\n",
    "La forma de escribir no es la misma para personas de edades muy diferentes, además de que unas se dedican al automovilismo y tendrán una mayor cantdidad de palabras dedicadas al mismo, meintras que Bill Gates está más enfocado en la tecnología en general y actividades humanitarias.\n",
    "Estas podrían ser las razones de que la puntuación obtenida a la hora de diferenciar las personalidades sea más alta, mientras que en las personalidades similares, al hablar de los mismos temas y siendo de la misma edad, pueden complicar notablemente la eficacia del algoritmo."
   ]
  },
  {
   "cell_type": "markdown",
   "metadata": {},
   "source": [
    "### Análisis de sentimientos mediante VADER\n",
    "\n",
    "Se nos pide realizar un análisis de los sentimientos utilizando la herramienta `VADER`.\n",
    "No se nos propone un objetivo particular más allá de la utilización de la herramienta, por lo que planteo la idea de utilizarla para medir estado emocional de un piloto a lo largo de su carrera, utilizando ventanas temporales de una semana.\n",
    "\n",
    "Es importante destacar que esta experimentación habría sido más eficaz e interesante en caso de contar con cuentas que no perteneciesen a personajes públicos.\n",
    "Esto es debido a que este tipo de perfiles suelen hablar de una forma muy similar y __neutra__ en diferentes situaciones, con el fin de mantener una imagen y reputación.\n",
    "Podría resultar más interesante aplicarla a un usuario corriente que utiliza la red social sin un propósito de promoción o similar.\n",
    "\n",
    "\n",
    "Vamos a comenzar cargando el analizador y los tweets del perfil a analizar.\n",
    "En este caso utilizaremos a George Russell, el cual tiene tweets desde 2011."
   ]
  },
  {
   "cell_type": "code",
   "execution_count": null,
   "metadata": {},
   "outputs": [],
   "source": [
    "analyser = SentimentIntensityAnalyzer()\n",
    "collection = extract_XML('GeorgeRussell63.xml', include_date = True)"
   ]
  },
  {
   "cell_type": "markdown",
   "metadata": {},
   "source": [
    "Vamos a definir una serie de funciones que nos permitirán  realizar el procesamiento temporal de los tweets."
   ]
  },
  {
   "cell_type": "code",
   "execution_count": null,
   "metadata": {
    "scrolled": true
   },
   "outputs": [],
   "source": [
    "def sentiment_analyzer_scores(sentence):\n",
    "    score = analyser.polarity_scores(sentence)\n",
    "    return score\n",
    "\n",
    "def get_next_monday(date):\n",
    "    return date + timedelta(days=-date.weekday(), weeks=1)\n",
    "\n",
    "def sentiment_over_time(collection):\n",
    "    next_monday = None\n",
    "    prev_monday = None\n",
    "    sentiment = []\n",
    "    all_time = pd.DataFrame()\n",
    "    for tweet in reversed(collection):\n",
    "        if next_monday == None:\n",
    "            next_monday = get_next_monday(tweet[1])\n",
    "            prev_monday = tweet[1]\n",
    "        if tweet[1] > next_monday:\n",
    "            temp = {\n",
    "                'date':prev_monday,\n",
    "                'sentiment':mean(sentiment)}\n",
    "            all_time = all_time.append(temp, ignore_index = True)\n",
    "            # Limpiar array\n",
    "            sentiment = []\n",
    "            # Actualizar fechas\n",
    "            prev_monday = next_monday\n",
    "            next_monday = get_next_monday(tweet[1])\n",
    "\n",
    "        # Incluir nuevo dato\n",
    "        sentiment.append(sentiment_analyzer_scores(tweet[0])['compound'])\n",
    "        \n",
    "    return all_time\n",
    "\n",
    "def feeling_over_time(df):\n",
    "    plt.rcParams['figure.figsize'] = [20, 5]\n",
    "    \n",
    "    plt.plot(df[\"date\"],\n",
    "             df['sentiment'],\n",
    "             label=\"Feeling over time\")\n",
    "\n",
    "    plt.title(\"Feeling over time\")\n",
    "    plt.xlabel(\"Week\")\n",
    "    plt.ylabel(\"Feeling\")\n",
    "    plt.legend(loc='upper right')\n",
    "\n",
    "    plt.show()"
   ]
  },
  {
   "cell_type": "markdown",
   "metadata": {},
   "source": [
    "A continuación, solo tenemos que llamar a las funciones y todo irá sobre ruedas."
   ]
  },
  {
   "cell_type": "code",
   "execution_count": null,
   "metadata": {
    "scrolled": true
   },
   "outputs": [],
   "source": [
    "df = sentiment_over_time(collection)\n",
    "feeling_over_time(df)"
   ]
  },
  {
   "cell_type": "markdown",
   "metadata": {},
   "source": [
    "Como ya hemos comentado, estos perfiles de personajes públicos se suelen mantener bastante neutros o positivos, pero rara vez tienen mensajes negativos.\n",
    "Observamos dos picos muy negativos en el 2012, y dada la edad del piloto en esa época (14 años), podemos adjudicarsela a algún día malo durante la adolescencia, cuando aun no era un personaje público conocido.\n",
    "Para afinar esta experimentación un poco más, vamos a probar con otro perfil que no hayamos tenido en cuenta hasta ahora."
   ]
  },
  {
   "cell_type": "code",
   "execution_count": null,
   "metadata": {},
   "outputs": [],
   "source": [
    "user = 'hellomayuko'\n",
    "if not os.path.exists(\"./extracted_users/\" + user + \".xml\"):\n",
    "    timeline(user)\n",
    "collection = extract_XML('hellomayuko.xml', include_date = True)\n",
    "df = sentiment_over_time(collection)\n",
    "feeling_over_time(df)"
   ]
  },
  {
   "cell_type": "markdown",
   "metadata": {},
   "source": [
    "Mayuko es una desarrolladora de software especializada en iOS, y actualmente posee un canal de YouTube en el que cuenta su vida como desarrolladora y da consejos a personas adentrandose en la industria de la informática y la programación.\n",
    "No es extremadamente conocida y posee relativamente pocos seguidores en twitter.\n",
    "Esto da pie a que muestre más sus sentimientos de manera pública y sea más activa en la red social.\n",
    "\n",
    "Vemos un par de parones entre 2012 y 2014, donde parece que el usuario no utilizó la red social.\n",
    "Pero encontramos muchas más semanas negativas que con Russell, lo cual podría ser un indicativo de que mi hipótesis sobre lo abiertos que son los personajes públicos en las redes sociales es cierta, aunque mi intención no es probar esta teoría.\n",
    "\n",
    "Podemos encontrar muchas aplicaciones para el análisis de sentimientos, pero sería más eficaz respecto a un tema concreto.\n",
    "Por ejemplo, recogiendo tweets con un hashtag concreto podríamos medir la opinión de la gente respecto a un tema concreto, y de hecho, ya se usa para esto. \n",
    "\n",
    "Con esto, podemos dar por finalizado el análisis de sentimientos"
   ]
  }
 ],
 "metadata": {
  "kernelspec": {
   "display_name": "Python 3",
   "language": "python",
   "name": "python3"
  },
  "language_info": {
   "codemirror_mode": {
    "name": "ipython",
    "version": 3
   },
   "file_extension": ".py",
   "mimetype": "text/x-python",
   "name": "python",
   "nbconvert_exporter": "python",
   "pygments_lexer": "ipython3",
   "version": "3.8.5"
  }
 },
 "nbformat": 4,
 "nbformat_minor": 4
}
