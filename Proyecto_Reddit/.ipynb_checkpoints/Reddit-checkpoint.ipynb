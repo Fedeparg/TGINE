{
 "cells": [
  {
   "cell_type": "markdown",
   "metadata": {},
   "source": [
    "# Práctica 1: Extracción de datos de una red social\n",
    "## por Federico Pardo García\n",
    "\n",
    "## Máster en BIG DATA: Tecnologías de Gestión de Información No Estructurada 2020/2021\n"
   ]
  },
  {
   "cell_type": "markdown",
   "metadata": {},
   "source": [
    "## Introducción"
   ]
  },
  {
   "cell_type": "markdown",
   "metadata": {},
   "source": [
    "El objetivo de este trabajo es la de realizar un __análisis textual__ de una serie de contenidos. Para ello, utilizaremos Reddit, una red social de código abierto, que nos permitirá obtener parte de sus contenidos textuales con el fin de analizarlos en este trabajo. Por medio de este análisis, obtendremos información como las palabras más utilizadas o los términos más importantes.\n",
    "Además, se incluye una extracción de tópicos de los textos obtenidos de Reddit. Esta se realizará por medio de la herramienta _Gensim_, una librería para Python que nació con la intención de buscar los documentos académicos más similares a otro dado, y que en esta ocasión, nos permitirá obtener las palabras claves de los temas que se hablan en el subreddit elegido."
   ]
  },
  {
   "cell_type": "markdown",
   "metadata": {},
   "source": [
    "## Obtención de los datos de Reddit"
   ]
  },
  {
   "cell_type": "markdown",
   "metadata": {},
   "source": [
    "Lo primero que debemos hacer, es __conectarnos a Reddit__ para poder obtener los datos que queremos analizar. Para ello, debemos habernos dado de alta en la red social como desarrollador, y haber creado una aplicación. Esto tiene  como fin, el que se nos facilite un código con el que poder hacer peticiones al sitio web.\n",
    "Para acceder a la misma, utilizaremos un __wrapper para python llamado__ `PRAW`, que se encargará de realizar la comunicación con la plataforma."
   ]
  },
  {
   "cell_type": "markdown",
   "metadata": {},
   "source": [
    "Primero importamos las librerías necesarias para el procesamiento de los datos e inicializamos una instancia de `PRAW` para poder realizar peticiones a Reddit."
   ]
  },
  {
   "cell_type": "code",
   "execution_count": 1,
   "metadata": {},
   "outputs": [],
   "source": [
    "import praw\n",
    "from praw.models import MoreComments\n",
    "import datetime\n",
    "import xml.etree.ElementTree as ET\n",
    "\n",
    "reddit = praw.Reddit(client_id=\"EfIURuPhLtg1rQ\",\n",
    "                     client_secret=\"9ZAUICh4qEl5thBs2Y3tHETkm_E\",\n",
    "                     user_agent=\"Comment Extraction (by /u/Fedeparg)\")"
   ]
  },
  {
   "cell_type": "markdown",
   "metadata": {},
   "source": [
    "Dado que no vamos a enviar ningún dato a la red social, nos vale con el modo de \"Solo lectura\", así que comprobamos que al menos podemos __leer datos de Reddit:__"
   ]
  },
  {
   "cell_type": "code",
   "execution_count": 2,
   "metadata": {},
   "outputs": [
    {
     "name": "stdout",
     "output_type": "stream",
     "text": [
      "True\n"
     ]
    }
   ],
   "source": [
    "print(reddit.read_only)"
   ]
  },
  {
   "cell_type": "markdown",
   "metadata": {},
   "source": [
    "A continuación, definimos un método que nos permita extraer la información necesaria. He decidido que se le pase el subreddit, así como el nombre del fichero en el que se guardará la información. Cada post almacena su tipo, título, fecha y cuerpo del mensaje. Por su parte, los comentarios almacenan su tipo, el id del post al que pertenecen, su fecha y mensaje.\n",
    "\n",
    "Después de conformar el fichero ``xml``, este se exporta mediante las 2 líneas finales."
   ]
  },
  {
   "cell_type": "code",
   "execution_count": 3,
   "metadata": {},
   "outputs": [],
   "source": [
    "# Método para extraer posts y sus comentarios\n",
    "# de un subreddit dado y exportarlos en xml.\n",
    "def extraction(posts, name):\n",
    "    items = ET.Element(\"data\")\n",
    "    for submission in posts:\n",
    "        element = ET.SubElement(items, 'post')\n",
    "        element.set('id', submission.id)\n",
    "        element.set('title', submission.title)\n",
    "        element.set('date', datetime.datetime.fromtimestamp(int(submission.created_utc))\n",
    "                    .strftime('%Y-%m-%d %H:%M:%S'))\n",
    "        element.text = submission.selftext + \"\\n\"\n",
    "        for comment in submission.comments.list():\n",
    "            if isinstance(comment, MoreComments):\n",
    "                continue\n",
    "            element_c = ET.SubElement(items, 'comment')\n",
    "            element_c.set('id', comment.id)\n",
    "            element_c.set('postid', submission.id)\n",
    "            element_c.set('date', datetime.datetime.fromtimestamp(int(submission.created_utc))\n",
    "                          .strftime('%Y-%m-%d %H:%M:%S'))\n",
    "            element_c.text = comment.body + \"\\n\"\n",
    "            \n",
    "\n",
    "    mydata = ET.ElementTree(items)\n",
    "    mydata.write(name + \".xml\")"
   ]
  },
  {
   "cell_type": "markdown",
   "metadata": {},
   "source": [
    "A continuación, exportamos posts del subreddit ``r/teslamotors`` en 3 ficheros diferentes, dado que los exportamos de 3 subcategorías diferentes. Los \"top\", que son temas candentes con muchos comentarios. Los \"new\" o nuevos, que son los que se han creado recientemente. Y por último, los \"rising\", que son posts que empiezan a tener una gran cantidad de interacciones y puede que acaben convirtiendose en \"top\".\n",
    "\n",
    "El atributo `limit` se refiere al número máximo de post que permito descargar. Dado que algunos subreddits tienen una gran cantidad de usuarios muy activos, puede darse el caso de que con un millar de posts lleguemos a tener hasta 1 GB de texto, debido a la gran cantidad de comentarios en cada post. Este parámetro ha sido ajustado en base a la experiencia con el subreddit, y recomiendo que sea ajustado para cada caso particular."
   ]
  },
  {
   "cell_type": "code",
   "execution_count": 4,
   "metadata": {},
   "outputs": [],
   "source": [
    "import os.path\n",
    "if not os.path.exists(\"./top.xml\"):\n",
    "    top = reddit.subreddit(\"teslamotors\").top(limit=200)\n",
    "    extraction(top, \"top\")\n",
    "elif not os.path.exists(\"./new.xml\"):\n",
    "    new = reddit.subreddit(\"teslamotors\").new(limit=500)\n",
    "    extraction(new, \"new\")\n",
    "elif not os.path.exists(\"./rising.xml\"):\n",
    "    rising = reddit.subreddit(\"teslamotors\").rising(limit=None)\n",
    "    extraction(rising, \"rising\")"
   ]
  },
  {
   "cell_type": "markdown",
   "metadata": {},
   "source": [
    "## Extracción de las 100 palabras más repetidas y las 50 más centrales\n",
    "### Definición de funciones para el procesamiento de los datos\n",
    "\n",
    "Con el fin de mejorar la legibilidad del código, voy a definir una serie de funciones que aportarán la funcionalidad básica de la parte obligatoria de la práctica. Esta se basa en mostrar las 50 palabras más centrales de cada colección, entendiendo centrales como quellas cuya suma acumulada de __tf/idf__ sobre todos los documentos sea mayor, así como los 100 términos más repetidos a lo largo de la colección. Ambos se obtendrán después de haber realizado el filtrado de *Stopwords*."
   ]
  },
  {
   "cell_type": "markdown",
   "metadata": {},
   "source": [
    "Primero, vamos a definir una función que nos facilite la extracción del texto de los `xml` generados. Esta tomará como entrada el nombre del fichero que queremos leer, e introducirá todo el texto en una lista."
   ]
  },
  {
   "cell_type": "code",
   "execution_count": 5,
   "metadata": {},
   "outputs": [],
   "source": [
    "def extract_XML(filename):\n",
    "    tree = ET.ElementTree(file = filename)\n",
    "    root = tree.getroot()\n",
    "    collection = []\n",
    "    for doc in root:\n",
    "        if 'title' in doc.attrib:\n",
    "            collection.append(doc.attrib[\"title\"])\n",
    "        # Dado que pueden haber posts sin cuerpo, se debe\n",
    "        # comprobar si existe dicho cuerpo\n",
    "        if doc.text:\n",
    "            collection.append(doc.text)\n",
    "    return collection"
   ]
  },
  {
   "cell_type": "markdown",
   "metadata": {},
   "source": [
    "Las __StopWords__ se definen como las palabras que no aportan información sobre un tema y que aparecen en todo tipo de documentos. Algunos ejemplo serian las palabras 'de', 'y', 'por', que nos sirven para conformar cualquier tipo de oración, pero no nos permiten entender el tema del que se habla por si solas. Es por ello que queremos eliminarlas para que no interfieran en el análisis del texto. Para ello utilizaremos la lista proporcionada por `SciKit`, con algunas incorporaciones propuestas por mí, ya que durante el desarrollo se han observado dichas palabras en repetidas ocasiones y no aportan nada al estudio. La lista de la librería tiene algunos problemas conocidos, pero nos servirá para el objetivo de la práctica."
   ]
  },
  {
   "cell_type": "code",
   "execution_count": 6,
   "metadata": {},
   "outputs": [],
   "source": [
    "# Definición de StopWords\n",
    "from sklearn.feature_extraction import text\n",
    "my_stopwords = text.ENGLISH_STOP_WORDS.union([\"isn\", \"ll\", \"ve\", \"don\", \"doesn\",\n",
    "                                              \"oh\", \"deleted\", \"www\"])"
   ]
  },
  {
   "cell_type": "markdown",
   "metadata": {},
   "source": [
    "Ya que se tiene que realizar el mismo procedimiento para las tres colecciones que hemos seleccionado, vamos a crear dos funciones que realicen la tarea de extraer los datos que se nos piden. La función `top100_instances` se encargará de mostrar los __100 términos más repetidos__ a lo largo de todos los documentos de cada colección, mediante la función `countVecotrizer`. Por su parte, la función `top50_centered_terms` nos permitirá obtener los __términos más relevantes__, mediante la función `TfidfVectorizer`."
   ]
  },
  {
   "cell_type": "code",
   "execution_count": 7,
   "metadata": {},
   "outputs": [],
   "source": [
    "from sklearn.feature_extraction.text import TfidfVectorizer, CountVectorizer\n",
    "import pandas as pd\n",
    "pd.set_option('display.max_rows', 100)\n",
    "\n",
    "def top100_instances(filename):\n",
    "    collection = extract_XML(filename)\n",
    "    vectorizer = CountVectorizer(stop_words = my_stopwords, min_df = 10)\n",
    "    collectionVectorized = vectorizer.fit_transform(collection)\n",
    "    df = pd.DataFrame(collectionVectorized.todense(), columns = vectorizer.get_feature_names())\n",
    "    return df"
   ]
  },
  {
   "cell_type": "code",
   "execution_count": 8,
   "metadata": {},
   "outputs": [],
   "source": [
    "def top50_centered_terms(filename):\n",
    "    collection = extract_XML(filename)\n",
    "    tfidf_vectorizer = TfidfVectorizer(use_idf=True, stop_words = my_stopwords, min_df = 10) \n",
    "    tfidf_vectors = tfidf_vectorizer.fit_transform(collection)\n",
    "    df = pd.DataFrame(tfidf_vectors.todense(), columns = tfidf_vectorizer.get_feature_names())\n",
    "    return df"
   ]
  },
  {
   "cell_type": "markdown",
   "metadata": {},
   "source": [
    "### Procesamiento de los ficheros\n",
    "El procesamiento de los 3 ficheros se hacen de la misma manera, llamando a las dos funciones que acabamos de definir y realizando un pequeño procesamiento de suma acumulada sobre su resultado. Siempre se muestra primero las 100 palabras más repetidas y posteriormente las 50 más centrales.\n",
    "\n",
    "#### Top"
   ]
  },
  {
   "cell_type": "code",
   "execution_count": 9,
   "metadata": {},
   "outputs": [
    {
     "name": "stdout",
     "output_type": "stream",
     "text": [
      "tesla          12501\n",
      "car            10643\n",
      "like            9227\n",
      "just            9106\n",
      "people          6309\n",
      "model           5047\n",
      "cars            4730\n",
      "think           4625\n",
      "https           4487\n",
      "time            3974\n",
      "com             3930\n",
      "really          3449\n",
      "make            3411\n",
      "know            3318\n",
      "good            3042\n",
      "elon            2965\n",
      "way             2921\n",
      "going           2886\n",
      "need            2792\n",
      "right           2677\n",
      "drive           2506\n",
      "want            2502\n",
      "new             2501\n",
      "years           2416\n",
      "comments        2374\n",
      "work            2299\n",
      "did             2291\n",
      "electric        2273\n",
      "lot             2205\n",
      "better          2184\n",
      "thing           2181\n",
      "teslamotors     2171\n",
      "use             2161\n",
      "does            2150\n",
      "sure            2132\n",
      "actually        2075\n",
      "driving         2053\n",
      "probably        2035\n",
      "battery         2018\n",
      "truck           1955\n",
      "got             1877\n",
      "day             1856\n",
      "company         1846\n",
      "pretty          1832\n",
      "say             1804\n",
      "look            1793\n",
      "didn            1736\n",
      "looks           1704\n",
      "long            1691\n",
      "yeah            1656\n",
      "money           1645\n",
      "usage           1630\n",
      "buy             1618\n",
      "year            1585\n",
      "said            1576\n",
      "point           1564\n",
      "things          1536\n",
      "maybe           1512\n",
      "love            1491\n",
      "vehicle         1456\n",
      "power           1429\n",
      "used            1423\n",
      "lol             1414\n",
      "yes             1406\n",
      "mean            1396\n",
      "gas             1395\n",
      "great           1365\n",
      "range           1348\n",
      "reddit          1348\n",
      "miles           1343\n",
      "big             1330\n",
      "cost            1306\n",
      "price           1298\n",
      "getting         1298\n",
      "10              1295\n",
      "makes           1293\n",
      "bad             1256\n",
      "shit            1224\n",
      "doing           1216\n",
      "musk            1196\n",
      "guy             1191\n",
      "charge          1155\n",
      "different       1140\n",
      "thought         1140\n",
      "companies       1137\n",
      "seen            1135\n",
      "000             1097\n",
      "let             1096\n",
      "nice            1085\n",
      "world           1085\n",
      "road            1082\n",
      "pay             1070\n",
      "driver          1059\n",
      "production      1050\n",
      "making          1049\n",
      "vehicles        1045\n",
      "best            1035\n",
      "having          1030\n",
      "far             1029\n",
      "change          1021\n",
      "Name: 76893, dtype: int64\n"
     ]
    }
   ],
   "source": [
    "# Top 100 palabras más repetidas\n",
    "df = top100_instances(\"top.xml\")\n",
    "dfcumsum = df.cumsum()\n",
    "cumsum = dfcumsum.iloc[-1]\n",
    "cumsum = cumsum.sort_values(ascending=False)\n",
    "print(cumsum[0:100])"
   ]
  },
  {
   "cell_type": "code",
   "execution_count": 10,
   "metadata": {},
   "outputs": [
    {
     "data": {
      "text/plain": [
       "tesla       1540.179266\n",
       "car         1357.479227\n",
       "like        1287.014873\n",
       "just        1195.837366\n",
       "people       843.169039\n",
       "model        819.540888\n",
       "think        737.770967\n",
       "cars         670.377293\n",
       "good         621.182381\n",
       "https        609.787187\n",
       "know         606.917137\n",
       "elon         595.710098\n",
       "time         591.962014\n",
       "really       583.758171\n",
       "com          537.305476\n",
       "right        535.562178\n",
       "make         523.493102\n",
       "did          522.059460\n",
       "way          489.076826\n",
       "want         484.680836\n",
       "need         484.004145\n",
       "lol          477.009137\n",
       "going        464.610323\n",
       "looks        455.245155\n",
       "does         438.582584\n",
       "yeah         434.092406\n",
       "drive        427.986345\n",
       "thing        418.077356\n",
       "new          414.930968\n",
       "sure         413.758955\n",
       "yes          410.507220\n",
       "love         408.365731\n",
       "work         399.298017\n",
       "probably     397.261144\n",
       "years        396.254245\n",
       "better       394.065040\n",
       "got          391.393164\n",
       "actually     391.087094\n",
       "look         380.680279\n",
       "nice         371.581230\n",
       "pretty       366.882766\n",
       "electric     364.925150\n",
       "use          364.494307\n",
       "say          357.736476\n",
       "truck        356.898965\n",
       "lot          356.844828\n",
       "day          353.004950\n",
       "didn         346.766681\n",
       "driving      345.842683\n",
       "mean         337.724585\n",
       "Name: 76893, dtype: float64"
      ]
     },
     "execution_count": 10,
     "metadata": {},
     "output_type": "execute_result"
    }
   ],
   "source": [
    "# Top 50 términos más centrales\n",
    "df = top50_centered_terms(\"top.xml\")\n",
    "dfcumsum = df.cumsum()\n",
    "cumsum = dfcumsum.iloc[-1]\n",
    "cumsum = cumsum.sort_values(ascending=False)\n",
    "cumsum[0:50]"
   ]
  },
  {
   "cell_type": "markdown",
   "metadata": {},
   "source": [
    "#### New"
   ]
  },
  {
   "cell_type": "code",
   "execution_count": 11,
   "metadata": {},
   "outputs": [
    {
     "name": "stdout",
     "output_type": "stream",
     "text": [
      "tesla          9457\n",
      "car            7974\n",
      "just           6739\n",
      "like           5951\n",
      "model          5130\n",
      "https          3252\n",
      "think          3245\n",
      "new            3132\n",
      "people         3100\n",
      "time           2979\n",
      "cars           2835\n",
      "com            2707\n",
      "fsd            2310\n",
      "really         2267\n",
      "know           2205\n",
      "going          2160\n",
      "need           2121\n",
      "make           2116\n",
      "way            2020\n",
      "range          1974\n",
      "good           1972\n",
      "use            1896\n",
      "want           1890\n",
      "better         1868\n",
      "battery        1868\n",
      "right          1805\n",
      "driving        1789\n",
      "years          1772\n",
      "does           1661\n",
      "drive          1625\n",
      "sure           1608\n",
      "got            1558\n",
      "year           1550\n",
      "price          1542\n",
      "did            1461\n",
      "lot            1453\n",
      "probably       1389\n",
      "long           1355\n",
      "miles          1351\n",
      "used           1332\n",
      "vehicle        1331\n",
      "work           1319\n",
      "day            1302\n",
      "charging       1276\n",
      "point          1274\n",
      "said           1273\n",
      "maybe          1232\n",
      "actually       1223\n",
      "pretty         1210\n",
      "thing          1203\n",
      "didn           1192\n",
      "cost           1182\n",
      "charge         1139\n",
      "buy            1135\n",
      "autopilot      1119\n",
      "elon           1106\n",
      "say            1101\n",
      "yeah           1074\n",
      "look           1072\n",
      "getting        1060\n",
      "things         1055\n",
      "service        1041\n",
      "yes            1030\n",
      "10             1017\n",
      "software        981\n",
      "different       972\n",
      "road            964\n",
      "looks           953\n",
      "change          929\n",
      "teslamotors     929\n",
      "ev              899\n",
      "able            897\n",
      "great           889\n",
      "makes           887\n",
      "issue           863\n",
      "comments        862\n",
      "power           851\n",
      "2020            851\n",
      "100             843\n",
      "speed           840\n",
      "having          830\n",
      "using           811\n",
      "lane            809\n",
      "current         804\n",
      "vehicles        804\n",
      "company         801\n",
      "lol             801\n",
      "data            798\n",
      "mean            797\n",
      "performance     793\n",
      "money           793\n",
      "end             789\n",
      "big             785\n",
      "thanks          780\n",
      "won             775\n",
      "far             760\n",
      "wheel           753\n",
      "delivery        753\n",
      "heat            752\n",
      "doing           751\n",
      "Name: 40562, dtype: int64\n"
     ]
    }
   ],
   "source": [
    "# Top 100 palabras más repetidas\n",
    "df = top100_instances(\"new.xml\")\n",
    "dfcumsum = df.cumsum()\n",
    "cumsum = dfcumsum.iloc[-1]\n",
    "cumsum = cumsum.sort_values(ascending=False)\n",
    "print(cumsum[0:100])"
   ]
  },
  {
   "cell_type": "code",
   "execution_count": 12,
   "metadata": {},
   "outputs": [
    {
     "data": {
      "text/plain": [
       "tesla       890.647728\n",
       "car         796.641458\n",
       "just        733.988915\n",
       "like        714.602668\n",
       "model       656.090502\n",
       "think       455.128723\n",
       "new         417.098828\n",
       "people      413.246962\n",
       "time        385.644030\n",
       "cars        363.192231\n",
       "know        360.213991\n",
       "fsd         353.670942\n",
       "https       346.437578\n",
       "good        342.119169\n",
       "really      331.055893\n",
       "going       307.361865\n",
       "need        307.174831\n",
       "right       298.818244\n",
       "make        296.018127\n",
       "way         295.903168\n",
       "want        294.818687\n",
       "com         292.125271\n",
       "range       290.438594\n",
       "better      288.212095\n",
       "did         286.141978\n",
       "does        282.619787\n",
       "yes         276.192860\n",
       "sure        276.005242\n",
       "thanks      274.750185\n",
       "got         273.822415\n",
       "use         270.673809\n",
       "years       268.506803\n",
       "price       256.824630\n",
       "yeah        254.969889\n",
       "lol         254.544404\n",
       "battery     248.326160\n",
       "year        243.715222\n",
       "probably    236.688707\n",
       "driving     235.477036\n",
       "drive       232.310419\n",
       "looks       229.522845\n",
       "nice        223.603123\n",
       "said        219.579425\n",
       "elon        219.048050\n",
       "buy         216.008515\n",
       "maybe       214.633914\n",
       "pretty      212.250359\n",
       "didn        212.124524\n",
       "look        210.401619\n",
       "day         209.121545\n",
       "Name: 40562, dtype: float64"
      ]
     },
     "execution_count": 12,
     "metadata": {},
     "output_type": "execute_result"
    }
   ],
   "source": [
    "# Top 50 términos más centrales\n",
    "df = top50_centered_terms(\"new.xml\")\n",
    "dfcumsum = df.cumsum()\n",
    "cumsum = dfcumsum.iloc[-1]\n",
    "cumsum = cumsum.sort_values(ascending=False)\n",
    "cumsum[0:50]"
   ]
  },
  {
   "cell_type": "markdown",
   "metadata": {},
   "source": [
    "#### Rising"
   ]
  },
  {
   "cell_type": "code",
   "execution_count": 13,
   "metadata": {},
   "outputs": [
    {
     "name": "stdout",
     "output_type": "stream",
     "text": [
      "tesla        289\n",
      "car          271\n",
      "like         263\n",
      "just         257\n",
      "fsd          233\n",
      "https        185\n",
      "driving      139\n",
      "com          133\n",
      "people       125\n",
      "think        123\n",
      "time         113\n",
      "video        109\n",
      "lane         104\n",
      "going        101\n",
      "videos        93\n",
      "drive         92\n",
      "good          91\n",
      "new           91\n",
      "need          91\n",
      "cars          91\n",
      "right         85\n",
      "really        85\n",
      "twitter       81\n",
      "way           81\n",
      "stop          79\n",
      "know          77\n",
      "turn          76\n",
      "left          75\n",
      "want          75\n",
      "better        74\n",
      "autopilot     73\n",
      "model         70\n",
      "beta          68\n",
      "make          68\n",
      "traffic       66\n",
      "yeah          63\n",
      "does          61\n",
      "cameras       60\n",
      "status        57\n",
      "sure          57\n",
      "point         56\n",
      "road          55\n",
      "got           54\n",
      "price         53\n",
      "didn          51\n",
      "self          51\n",
      "use           50\n",
      "current       50\n",
      "sign          50\n",
      "maybe         50\n",
      "did           50\n",
      "year          49\n",
      "work          49\n",
      "thing         48\n",
      "lot           48\n",
      "pretty        47\n",
      "actually      47\n",
      "years         47\n",
      "elon          47\n",
      "software      46\n",
      "probably      46\n",
      "said          45\n",
      "10            45\n",
      "lidar         45\n",
      "data          45\n",
      "vehicle       44\n",
      "say           44\n",
      "driver        44\n",
      "light         43\n",
      "long          42\n",
      "wheel         42\n",
      "far           42\n",
      "day           41\n",
      "camera        40\n",
      "looks         40\n",
      "yes           40\n",
      "comments      40\n",
      "lol           39\n",
      "radar         39\n",
      "buy           38\n",
      "things        38\n",
      "lights        36\n",
      "hardware      36\n",
      "mean          36\n",
      "makes         36\n",
      "bit           35\n",
      "post          35\n",
      "bumper        35\n",
      "getting       35\n",
      "look          35\n",
      "used          35\n",
      "human         35\n",
      "100           34\n",
      "10k           34\n",
      "seen          34\n",
      "release       33\n",
      "doing         33\n",
      "vehicles      33\n",
      "real          32\n",
      "month         32\n",
      "Name: 1899, dtype: int64\n"
     ]
    }
   ],
   "source": [
    "# Top 100 palabras más repetidas\n",
    "df = top100_instances(\"rising.xml\")\n",
    "dfcumsum = df.cumsum()\n",
    "cumsum = dfcumsum.iloc[-1]\n",
    "cumsum = cumsum.sort_values(ascending=False)\n",
    "print(cumsum[0:100])"
   ]
  },
  {
   "cell_type": "code",
   "execution_count": 14,
   "metadata": {},
   "outputs": [
    {
     "data": {
      "text/plain": [
       "like         55.736849\n",
       "tesla        54.518381\n",
       "just         53.134117\n",
       "car          52.523110\n",
       "fsd          50.782075\n",
       "https        37.583910\n",
       "driving      32.471512\n",
       "think        31.567446\n",
       "people       31.143250\n",
       "video        30.427119\n",
       "good         29.844109\n",
       "time         29.083762\n",
       "com          27.888798\n",
       "videos       26.489075\n",
       "new          26.000397\n",
       "going        25.551834\n",
       "need         25.225578\n",
       "want         24.634878\n",
       "yeah         24.264651\n",
       "stop         23.323897\n",
       "drive        23.076202\n",
       "right        23.046160\n",
       "cars         23.007626\n",
       "know         22.798763\n",
       "lane         22.414171\n",
       "beta         21.335695\n",
       "really       21.172747\n",
       "way          20.535799\n",
       "model        19.681946\n",
       "twitter      19.353996\n",
       "yes          19.117531\n",
       "sure         18.813349\n",
       "got          18.713512\n",
       "elon         18.431931\n",
       "better       18.140295\n",
       "thanks       17.947850\n",
       "autopilot    17.885792\n",
       "lol          17.547770\n",
       "turn         17.331462\n",
       "left         17.186443\n",
       "did          17.176010\n",
       "make         16.941629\n",
       "maybe        16.800080\n",
       "traffic      16.665270\n",
       "does         16.606045\n",
       "pretty       15.589972\n",
       "price        15.509555\n",
       "cameras      15.214045\n",
       "didn         14.916170\n",
       "thing        14.822163\n",
       "Name: 1899, dtype: float64"
      ]
     },
     "execution_count": 14,
     "metadata": {},
     "output_type": "execute_result"
    }
   ],
   "source": [
    "# Top 50 términos más centrales\n",
    "df = top50_centered_terms(\"rising.xml\")\n",
    "dfcumsum = df.cumsum()\n",
    "cumsum = dfcumsum.iloc[-1]\n",
    "cumsum = cumsum.sort_values(ascending=False)\n",
    "cumsum[0:50]"
   ]
  },
  {
   "cell_type": "markdown",
   "metadata": {},
   "source": [
    "Sin realizar ninguna extracción de temas, podemos inferir que el __tema principal__ es Tesla y la movilidad eléctrica."
   ]
  },
  {
   "cell_type": "markdown",
   "metadata": {},
   "source": [
    "## Topic Modeling con Genism\n",
    "A continuación, vamos a intentar extraer los temas de conversación que se dan en la colección de documentos. Para ello y como ya hemos indicado, vamos a hacer uso de la librería `Gensim`. La extracción de tópicos se hará siguiendo los mismos pasos de un tutorial facilitado por el profesor de la asignatura, que podemos encontrar [aquí](https://www.machinelearningplus.com/nlp/topic-modeling-gensim-python/).\n",
    "\n",
    "Ya que `r/teslamotors` es una comunidad con un tema principal claramente diferenciado y que personalmente conozco en profunidad, vamos a realizar el análisis sobre un único fichero, con el fin de probar esta funcionalidad y medir su precisión. Si es capaz de extraer algunos tópicos de calidad, podemos decir que el rendimiento del modelo de selección de temas es bueno.\n",
    "\n",
    "### Importar las librerías necesarias\n",
    "Primero vamos a importar todas las librerías que necesitamos para la ejecución correcta del código de este punto en adelante."
   ]
  },
  {
   "cell_type": "code",
   "execution_count": 15,
   "metadata": {},
   "outputs": [
    {
     "name": "stderr",
     "output_type": "stream",
     "text": [
      "[nltk_data] Downloading package stopwords to\n",
      "[nltk_data]     /Users/fedeparg/nltk_data...\n",
      "[nltk_data]   Package stopwords is already up-to-date!\n"
     ]
    }
   ],
   "source": [
    "import nltk\n",
    "# Descargamos la lista de StopWords que nos facilitan\n",
    "nltk.download('stopwords')\n",
    "import re\n",
    "import numpy as np\n",
    "from pprint import pprint\n",
    "\n",
    "# Gensim\n",
    "import gensim\n",
    "import gensim.corpora as corpora\n",
    "from gensim.utils import simple_preprocess\n",
    "from gensim.models import CoherenceModel\n",
    "\n",
    "# spacy for lemmatization\n",
    "import spacy\n",
    "\n",
    "# Plotting tools\n",
    "import pyLDAvis\n",
    "import pyLDAvis.gensim  # don't skip this\n",
    "import matplotlib.pyplot as plt\n",
    "%matplotlib inline\n",
    "\n",
    "import warnings\n",
    "warnings.filterwarnings(\"ignore\",category=DeprecationWarning)"
   ]
  },
  {
   "cell_type": "markdown",
   "metadata": {},
   "source": [
    "### Preparación de los datos\n",
    "En primer lugar, vamos a importar y seleccionar la lista de __StopWords__ que queremos utilizar para filtrar el texto. Dado que Reddit es una red social en la que predomina el inglés, seleccionamos dicha lista de palabras."
   ]
  },
  {
   "cell_type": "code",
   "execution_count": 16,
   "metadata": {},
   "outputs": [],
   "source": [
    "# NLTK Stop words\n",
    "from nltk.corpus import stopwords\n",
    "stop_words = stopwords.words('english')"
   ]
  },
  {
   "cell_type": "markdown",
   "metadata": {},
   "source": [
    "Seleccionamos el fichero `top.xml` para realizar el análisis, dado que es el que mayor cantidad de texto contiene, lo que en un principio debería facilitar el reconocimiento de tópicos."
   ]
  },
  {
   "cell_type": "code",
   "execution_count": 17,
   "metadata": {},
   "outputs": [],
   "source": [
    "data = extract_XML('top.xml')"
   ]
  },
  {
   "cell_type": "markdown",
   "metadata": {},
   "source": [
    "Por medio de expresones regulares, eliminamos todos los caracteres que no sean texto como tal. Esto incluye nueas líneas, espacios y demás caracteres invisibles."
   ]
  },
  {
   "cell_type": "code",
   "execution_count": 18,
   "metadata": {},
   "outputs": [],
   "source": [
    "data = [re.sub('\\S*@\\S*\\s?', '', sent) for sent in data]\n",
    "data = [re.sub('\\s+', ' ', sent) for sent in data]\n",
    "data = [re.sub(\"\\'\", \"\", sent) for sent in data]"
   ]
  },
  {
   "cell_type": "markdown",
   "metadata": {},
   "source": [
    "A continuación, _tokenizamos_ cada frase en una lista de palabras, eliminando los signos de puntuación y cualquier caracter innecesario por el camino."
   ]
  },
  {
   "cell_type": "code",
   "execution_count": 19,
   "metadata": {},
   "outputs": [],
   "source": [
    "# Tokenize words\n",
    "def sent_to_words(sentences):\n",
    "    for sentence in sentences:\n",
    "        yield(gensim.utils.simple_preprocess(str(sentence), deacc=True))  # deacc=True removes punctuations\n",
    "\n",
    "data_words = list(sent_to_words(data))"
   ]
  },
  {
   "cell_type": "markdown",
   "metadata": {},
   "source": [
    "Usando el código que nos facilita la librería, configuramos los __bigramas__ y __trigramas__, que no son más que grupos de 2 y 3 palabras respectivamente que aparecen juntos con frecuencia. Un ejemplo podría ser \"Nueva York\", ya que ambas palabras pueden aparecer separadas, como en \"nueva pieza\" o \"jamón york\", por poner un ejemplo. Mediante esta técnica, si un par de o trío de palabras aparecen juntas un número mínimo arbitrario de veces, podemos indicarle a la librería que las tome como un único término."
   ]
  },
  {
   "cell_type": "code",
   "execution_count": 20,
   "metadata": {},
   "outputs": [],
   "source": [
    "# Build the bigram and trigram models\n",
    "bigram = gensim.models.Phrases(data_words, min_count=5, threshold=100) # higher threshold fewer phrases.\n",
    "trigram = gensim.models.Phrases(bigram[data_words], threshold=100)  \n",
    "\n",
    "# Faster way to get a sentence clubbed as a trigram/bigram\n",
    "bigram_mod = gensim.models.phrases.Phraser(bigram)\n",
    "trigram_mod = gensim.models.phrases.Phraser(trigram)"
   ]
  },
  {
   "cell_type": "markdown",
   "metadata": {},
   "source": [
    "A continuación, eliminamos las __StopWords__ y aplicamos la __lematización__, que no es más que convertir una palabra a su palabra raíz. Por ejemplo, \"coches\" procede de la palabra \"coche\", así que la transformamos en dicha palabra. Por último, generamos los __bigramas__ y __trigramas__ que hemos configurado en el paso anterior."
   ]
  },
  {
   "cell_type": "code",
   "execution_count": 21,
   "metadata": {},
   "outputs": [],
   "source": [
    "# Define functions for stopwords, bigrams, trigrams and lemmatization\n",
    "def remove_stopwords(texts):\n",
    "    return [[word for word in simple_preprocess(str(doc)) if word not in stop_words] for doc in texts]\n",
    "\n",
    "def make_bigrams(texts):\n",
    "    return [bigram_mod[doc] for doc in texts]\n",
    "\n",
    "def make_trigrams(texts):\n",
    "    return [trigram_mod[bigram_mod[doc]] for doc in texts]\n",
    "\n",
    "def lemmatization(texts, allowed_postags=['NOUN', 'ADJ', 'VERB', 'ADV']):\n",
    "    \"\"\"https://spacy.io/api/annotation\"\"\"\n",
    "    texts_out = []\n",
    "    for sent in texts:\n",
    "        doc = nlp(\" \".join(sent)) \n",
    "        texts_out.append([token.lemma_ for token in doc if token.pos_ in allowed_postags])\n",
    "    return texts_out"
   ]
  },
  {
   "cell_type": "code",
   "execution_count": 22,
   "metadata": {},
   "outputs": [
    {
     "name": "stdout",
     "output_type": "stream",
     "text": [
      "[['feature', 'useful', 'today'], []]\n"
     ]
    }
   ],
   "source": [
    "# Remove Stop Words\n",
    "data_words_nostops = remove_stopwords(data_words)\n",
    "\n",
    "# Form Bigrams\n",
    "data_words_bigrams = make_bigrams(data_words_nostops)\n",
    "\n",
    "# Initialize spacy 'en' model, keeping only tagger component (for efficiency)\n",
    "# python3 -m spacy download en\n",
    "nlp = spacy.load('en', disable=['parser', 'ner'])\n",
    "\n",
    "# Do lemmatization keeping only noun, adj, vb, adv\n",
    "data_lemmatized = lemmatization(data_words_bigrams, allowed_postags=['NOUN', 'ADJ', 'VERB', 'ADV'])\n",
    "\n",
    "print(data_lemmatized[:2])"
   ]
  },
  {
   "cell_type": "markdown",
   "metadata": {},
   "source": [
    "Por último antes de entrenar el modelo, debemos prearar su entrada. LDA recibe como entrada un diccionario y el corpus de los documentos. Vamos a prerar ambos"
   ]
  },
  {
   "cell_type": "code",
   "execution_count": 23,
   "metadata": {},
   "outputs": [
    {
     "data": {
      "text/plain": [
       "[[('feature', 1), ('today', 1), ('useful', 1)], []]"
      ]
     },
     "execution_count": 23,
     "metadata": {},
     "output_type": "execute_result"
    }
   ],
   "source": [
    "# Create Dictionary\n",
    "id2word = corpora.Dictionary(data_lemmatized)\n",
    "\n",
    "# Create Corpus\n",
    "texts = data_lemmatized\n",
    "\n",
    "# Term Document Frequency\n",
    "corpus = [id2word.doc2bow(text) for text in texts]\n",
    "\n",
    "# View\n",
    "# Human readable format of corpus (term-frequency)\n",
    "[[(id2word[id], freq) for id, freq in cp] for cp in corpus[:2]]\n"
   ]
  },
  {
   "cell_type": "markdown",
   "metadata": {},
   "source": [
    "## Entrenamiento del modelo LDA\n",
    "Llega el momento de entrenar el modelo después de toda la preparación de los datos. Los valores de configuración son los mismos que en el tutorial, salvo por el aumento del `chunksize`, que permite utilizar un mayor número de documentos por cada bloque de entrentamiento. El número de topics se ha dejado por defecto para probar su rendimiento."
   ]
  },
  {
   "cell_type": "code",
   "execution_count": 24,
   "metadata": {},
   "outputs": [],
   "source": [
    "# Build LDA model\n",
    "lda_model = gensim.models.ldamodel.LdaModel(corpus=corpus,\n",
    "                                           id2word=id2word,\n",
    "                                           num_topics=20,\n",
    "                                           random_state=100,\n",
    "                                           update_every=1,\n",
    "                                           chunksize=2000,\n",
    "                                           passes=10,\n",
    "                                           alpha='auto',\n",
    "                                           per_word_topics=True)\n"
   ]
  },
  {
   "cell_type": "markdown",
   "metadata": {},
   "source": [
    "Dentro de cada tema extraído, se adjunta una lista de duplas (número, palabra). El número indica el grado de importancia de la palabra a la que acompaña en dicho tema.\n",
    "Si analizamos el primero, vemos las palabras __charge__, __vehicle__, __battery__, __electric__... Solo con estas cuatro palabras podemos entender que se trata de un tema sobre la carga de vehículos eléctricos, por lo que podemos deducir de qué va.\n",
    "\n",
    "Aplicando la misma lógica en los demás temas extraídos, vemos una tendencia similar, en la que podemos percibir de lo que se habla en cada uno de los casos. Por tanto, podemos considerar que la extracción de tópicos ha sido un éxito."
   ]
  },
  {
   "cell_type": "code",
   "execution_count": 25,
   "metadata": {},
   "outputs": [
    {
     "name": "stdout",
     "output_type": "stream",
     "text": [
      "[(0,\n",
      "  '0.069*\"charge\" + 0.065*\"vehicle\" + 0.060*\"battery\" + 0.057*\"electric\" + '\n",
      "  '0.049*\"power\" + 0.045*\"less\" + 0.042*\"mile\" + 0.036*\"range\" + 0.030*\"owner\" '\n",
      "  '+ 0.027*\"gas\"'),\n",
      " (1,\n",
      "  '0.156*\"delete\" + 0.058*\"garage\" + 0.038*\"yet\" + 0.031*\"sit\" + '\n",
      "  '0.028*\"position\" + 0.025*\"launch\" + 0.024*\"happy\" + 0.023*\"thought\" + '\n",
      "  '0.021*\"notice\" + 0.016*\"team\"'),\n",
      " (2,\n",
      "  '0.173*\"car\" + 0.055*\"model\" + 0.046*\"year\" + 0.033*\"buy\" + 0.027*\"new\" + '\n",
      "  '0.026*\"cost\" + 0.024*\"pay\" + 0.022*\"long\" + 0.019*\"high\" + 0.019*\"price\"'),\n",
      " (3,\n",
      "  '0.133*\"good\" + 0.095*\"company\" + 0.059*\"love\" + 0.041*\"help\" + 0.028*\"idea\" '\n",
      "  '+ 0.026*\"future\" + 0.026*\"hear\" + 0.024*\"stock\" + 0.023*\"check\" + '\n",
      "  '0.021*\"option\"'),\n",
      " (4,\n",
      "  '0.094*\"com\" + 0.073*\"comment\" + 0.057*\"reddit\" + 0.056*\"https\" + '\n",
      "  '0.039*\"teslamotors_comment\" + 0.030*\"support\" + 0.030*\"autopilot\" + '\n",
      "  '0.029*\"sub\" + 0.025*\"last_usage\" + 0.023*\"https_www\"'),\n",
      " (5,\n",
      "  '0.039*\"guess\" + 0.038*\"believe\" + 0.035*\"energy\" + 0.035*\"cheap\" + '\n",
      "  '0.033*\"spend\" + 0.024*\"possible\" + 0.024*\"allow\" + 0.024*\"question\" + '\n",
      "  '0.022*\"include\" + 0.022*\"require\"'),\n",
      " (6,\n",
      "  '0.218*\"truck\" + 0.059*\"least\" + 0.045*\"hope\" + 0.034*\"short\" + 0.028*\"semi\" '\n",
      "  '+ 0.026*\"op\" + 0.026*\"screen\" + 0.022*\"hate\" + 0.022*\"own\" + 0.021*\"bed\"'),\n",
      " (7,\n",
      "  '0.122*\"work\" + 0.106*\"take\" + 0.074*\"day\" + 0.043*\"job\" + 0.039*\"hour\" + '\n",
      "  '0.036*\"elon\" + 0.031*\"build\" + 0.030*\"week\" + 0.027*\"home\" + 0.024*\"do\"'),\n",
      " (8,\n",
      "  '0.040*\"driver\" + 0.039*\"move\" + 0.035*\"fast\" + 0.030*\"problem\" + '\n",
      "  '0.029*\"speed\" + 0.029*\"road\" + 0.023*\"hit\" + 0.021*\"huge\" + 0.021*\"likely\" '\n",
      "  '+ 0.018*\"human\"'),\n",
      " (9,\n",
      "  '0.095*\"money\" + 0.055*\"issue\" + 0.050*\"space\" + 0.039*\"lose\" + '\n",
      "  '0.033*\"picture\" + 0.031*\"fact\" + 0.029*\"trailer\" + 0.029*\"especially\" + '\n",
      "  '0.027*\"sense\" + 0.026*\"normal\"'),\n",
      " (10,\n",
      "  '0.052*\"leave\" + 0.041*\"far\" + 0.041*\"break\" + 0.039*\"system\" + '\n",
      "  '0.037*\"little\" + 0.034*\"bit\" + 0.033*\"second\" + 0.032*\"park\" + 0.030*\"away\" '\n",
      "  '+ 0.024*\"night\"'),\n",
      " (11,\n",
      "  '0.067*\"live\" + 0.044*\"video\" + 0.041*\"agree\" + 0.040*\"state\" + 0.038*\"true\" '\n",
      "  '+ 0.037*\"test\" + 0.035*\"area\" + 0.033*\"pull\" + 0.030*\"window\" + '\n",
      "  '0.030*\"share\"'),\n",
      " (12,\n",
      "  '0.101*\"pretty\" + 0.066*\"already\" + 0.053*\"cool\" + 0.043*\"exactly\" + '\n",
      "  '0.041*\"edit\" + 0.041*\"else\" + 0.036*\"oil\" + 0.035*\"though\" + 0.030*\"super\" '\n",
      "  '+ 0.025*\"color\"'),\n",
      " (13,\n",
      "  '0.060*\"ever\" + 0.057*\"different\" + 0.045*\"line\" + 0.041*\"ice\" + '\n",
      "  '0.037*\"kind\" + 0.030*\"become\" + 0.028*\"level\" + 0.026*\"compare\" + '\n",
      "  '0.023*\"panel\" + 0.023*\"camera\"'),\n",
      " (14,\n",
      "  '0.085*\"call\" + 0.057*\"ask\" + 0.047*\"awesome\" + 0.044*\"order\" + 0.042*\"plan\" '\n",
      "  '+ 0.041*\"phone\" + 0.036*\"friend\" + 0.029*\"name\" + 0.029*\"kid\" + '\n",
      "  '0.029*\"send\"'),\n",
      " (15,\n",
      "  '0.083*\"thank\" + 0.074*\"nice\" + 0.062*\"read\" + 0.059*\"parking\" + '\n",
      "  '0.038*\"worth\" + 0.036*\"seat\" + 0.033*\"extra\" + 0.029*\"black\" + '\n",
      "  '0.027*\"write\" + 0.027*\"article\"'),\n",
      " (16,\n",
      "  '0.109*\"mean\" + 0.071*\"part\" + 0.059*\"roof\" + 0.054*\"month\" + 0.033*\"weight\" '\n",
      "  '+ 0.032*\"amazing\" + 0.028*\"hold\" + 0.027*\"hand\" + 0.026*\"wonder\" + '\n",
      "  '0.023*\"ton\"'),\n",
      " (17,\n",
      "  '0.064*\"run\" + 0.052*\"design\" + 0.050*\"full\" + 0.043*\"small\" + '\n",
      "  '0.043*\"production\" + 0.041*\"tire\" + 0.033*\"large\" + 0.026*\"amount\" + '\n",
      "  '0.024*\"air\" + 0.023*\"size\"'),\n",
      " (18,\n",
      "  '0.036*\"would\" + 0.031*\"be\" + 0.031*\"go\" + 0.029*\"get\" + 0.029*\"make\" + '\n",
      "  '0.029*\"people\" + 0.025*\"think\" + 0.022*\"tesla\" + 0.021*\"see\" + 0.021*\"say\"'),\n",
      " (19,\n",
      "  '0.205*\"look\" + 0.049*\"wheel\" + 0.041*\"side\" + 0.040*\"turn\" + 0.037*\"front\" '\n",
      "  '+ 0.034*\"light\" + 0.034*\"open\" + 0.027*\"man\" + 0.027*\"literally\" + '\n",
      "  '0.026*\"trump\"')]\n"
     ]
    }
   ],
   "source": [
    "# Print the Keyword in the 20 topics\n",
    "pprint(lda_model.print_topics())\n",
    "doc_lda = lda_model[corpus]\n"
   ]
  },
  {
   "cell_type": "markdown",
   "metadata": {},
   "source": [
    "La perplejidad y la coherencia son dos medidas que nos permiten conocer la calidad del modelo. La __perplejidad__ es una medida de lo buena que es una distribución de probabilidad o la probabilidad de un modelo a la hora de predecir una muestra. Por su parte, la __coherencia__ es una medida de la cantidad de información media que se puede extraer por cada documento por separado."
   ]
  },
  {
   "cell_type": "code",
   "execution_count": 26,
   "metadata": {},
   "outputs": [
    {
     "name": "stdout",
     "output_type": "stream",
     "text": [
      "\n",
      "Perplexity:  -10.919636409379128\n",
      "\n",
      "Coherence Score:  0.4541883999840876\n"
     ]
    }
   ],
   "source": [
    "# Compute Perplexity\n",
    "print('\\nPerplexity: ', lda_model.log_perplexity(corpus))  # a measure of how good the model is. lower the better.\n",
    "\n",
    "# Compute Coherence Score\n",
    "coherence_model_lda = CoherenceModel(model=lda_model, texts=data_lemmatized, dictionary=id2word, coherence='c_v')\n",
    "coherence_lda = coherence_model_lda.get_coherence()\n",
    "print('\\nCoherence Score: ', coherence_lda)\n"
   ]
  },
  {
   "cell_type": "markdown",
   "metadata": {},
   "source": [
    "A continuación, se incluye una visualización de los temas extraidos junto con sus palabras clave."
   ]
  },
  {
   "cell_type": "code",
   "execution_count": 27,
   "metadata": {},
   "outputs": [
    {
     "data": {
      "text/html": [
       "\n",
       "<link rel=\"stylesheet\" type=\"text/css\" href=\"https://cdn.rawgit.com/bmabey/pyLDAvis/files/ldavis.v1.0.0.css\">\n",
       "\n",
       "\n",
       "<div id=\"ldavis_el421451404063142147847714307500\"></div>\n",
       "<script type=\"text/javascript\">\n",
       "\n",
       "var ldavis_el421451404063142147847714307500_data = {\"mdsDat\": {\"x\": [-0.37426615189533907, -0.2737814986520155, -0.021365627762677728, -0.019992346335620047, -0.004387705847294187, 0.016519493454467852, 0.032763201031111966, 0.019222706438237324, 0.039268344335799094, 0.04440367473551747, 0.049683672418574944, 0.05571333627217222, 0.06277919501254561, 0.05955025900297761, 0.06515244249316691, 0.060867754439264635, -0.06475282252759933, 0.07907397126545133, 0.08600138050979825, 0.08754672161146071], \"y\": [-0.20475146763006055, 0.13853973504303607, -0.07506636399194355, 0.2708472165342316, 0.09998057452660691, -0.13716363842744458, -0.03230640436183706, 0.0840839220649067, -0.04349877852274418, 0.05721529782568073, 0.002756202476428158, -0.05514984058028297, -0.04998849335174309, -0.05144038953075475, -0.022349099963515258, -0.047989722324004135, 0.17216260408675504, -0.034540542948394856, -0.0404959423395811, -0.03084486858533808], \"topics\": [1, 2, 3, 4, 5, 6, 7, 8, 9, 10, 11, 12, 13, 14, 15, 16, 17, 18, 19, 20], \"cluster\": [1, 1, 1, 1, 1, 1, 1, 1, 1, 1, 1, 1, 1, 1, 1, 1, 1, 1, 1, 1], \"Freq\": [34.040879947949534, 11.74470244615021, 4.74030737577735, 4.533623177804163, 4.451834072468943, 4.120043371235894, 3.480458098657698, 3.2214518620096757, 3.2071884417840923, 2.864460647731502, 2.8475561556728914, 2.8157980283819937, 2.6566579006683257, 2.5913208414526205, 2.4137635091316185, 2.2936975525212233, 2.2388822991973387, 1.9379187088241914, 1.9358772398150963, 1.8635783227656348]}, \"tinfo\": {\"Term\": [\"car\", \"look\", \"truck\", \"good\", \"work\", \"take\", \"model\", \"would\", \"company\", \"year\", \"delete\", \"be\", \"go\", \"get\", \"make\", \"people\", \"day\", \"mean\", \"pretty\", \"charge\", \"think\", \"money\", \"vehicle\", \"battery\", \"buy\", \"com\", \"electric\", \"love\", \"see\", \"say\", \"would\", \"be\", \"go\", \"people\", \"think\", \"say\", \"s\", \"know\", \"need\", \"well\", \"could\", \"much\", \"want\", \"thing\", \"really\", \"way\", \"lot\", \"right\", \"give\", \"actually\", \"get\", \"probably\", \"sure\", \"make\", \"point\", \"back\", \"never\", \"try\", \"many\", \"can\", \"use\", \"even\", \"time\", \"also\", \"still\", \"may\", \"see\", \"come\", \"drive\", \"tesla\", \"year\", \"buy\", \"new\", \"cost\", \"pay\", \"price\", \"wait\", \"sell\", \"last\", \"old\", \"next\", \"able\", \"market\", \"close\", \"add\", \"base\", \"expensive\", \"one\", \"save\", \"product\", \"instead\", \"almost\", \"feature\", \"consider\", \"top\", \"set\", \"difference\", \"afford\", \"expect\", \"standard\", \"car\", \"model\", \"long\", \"low\", \"high\", \"tesla\", \"driver\", \"move\", \"fast\", \"problem\", \"speed\", \"road\", \"hit\", \"huge\", \"likely\", \"human\", \"cause\", \"safe\", \"pass\", \"mph\", \"brake\", \"law\", \"rate\", \"slow\", \"handle\", \"pick\", \"risk\", \"cut\", \"ev\", \"mostly\", \"safety\", \"acceleration\", \"major\", \"limit\", \"accident\", \"avoid\", \"due\", \"traffic\", \"charge\", \"battery\", \"electric\", \"power\", \"less\", \"mile\", \"range\", \"owner\", \"gas\", \"house\", \"country\", \"business\", \"fuel\", \"city\", \"depend\", \"average\", \"government\", \"police\", \"station\", \"efficient\", \"marketing\", \"beat\", \"prove\", \"tile\", \"pump\", \"room\", \"factor\", \"town\", \"advantage\", \"generation\", \"vehicle\", \"motor\", \"minute\", \"engine\", \"work\", \"take\", \"day\", \"job\", \"hour\", \"elon\", \"week\", \"home\", \"do\", \"definitely\", \"easy\", \"basically\", \"mention\", \"service\", \"account\", \"twitter\", \"course\", \"industry\", \"record\", \"couple\", \"report\", \"fire\", \"crazy\", \"musk\", \"crash\", \"fix\", \"sometimes\", \"ago\", \"prototype\", \"generate\", \"die\", \"single\", \"build\", \"good\", \"company\", \"love\", \"help\", \"idea\", \"future\", \"hear\", \"stock\", \"check\", \"option\", \"imagine\", \"employee\", \"learn\", \"stay\", \"interesting\", \"purchase\", \"follow\", \"force\", \"quick\", \"grow\", \"camping\", \"chance\", \"miss\", \"tweet\", \"lack\", \"certain\", \"enjoy\", \"late\", \"decision\", \"process\", \"guess\", \"believe\", \"energy\", \"cheap\", \"spend\", \"possible\", \"allow\", \"question\", \"include\", \"similar\", \"mind\", \"create\", \"rather\", \"public\", \"technology\", \"type\", \"correct\", \"location\", \"easily\", \"american\", \"paint\", \"plug\", \"green\", \"site\", \"computer\", \"answer\", \"main\", \"result\", \"access\", \"sorry\", \"require\", \"improve\", \"medium\", \"look\", \"side\", \"turn\", \"front\", \"light\", \"open\", \"man\", \"literally\", \"trump\", \"door\", \"remove\", \"lock\", \"brand\", \"honestly\", \"stand\", \"view\", \"button\", \"demand\", \"forward\", \"body\", \"eye\", \"sweet\", \"exact\", \"mirror\", \"music\", \"impossible\", \"mission\", \"ugly\", \"vision\", \"mass\", \"wheel\", \"control\", \"leave\", \"far\", \"break\", \"little\", \"bit\", \"second\", \"park\", \"away\", \"night\", \"experience\", \"app\", \"load\", \"sleep\", \"sale\", \"suck\", \"hopefully\", \"impact\", \"engineer\", \"hot\", \"diesel\", \"fair\", \"sensor\", \"sort\", \"style\", \"lay\", \"fall\", \"effect\", \"nee\", \"thousand\", \"self\", \"system\", \"design\", \"full\", \"run\", \"small\", \"production\", \"tire\", \"amount\", \"size\", \"provide\", \"version\", \"step\", \"burn\", \"massive\", \"profit\", \"personal\", \"eat\", \"planet\", \"instal\", \"nearly\", \"street\", \"choice\", \"action\", \"scale\", \"necessary\", \"flat\", \"none\", \"hell\", \"interested\", \"policy\", \"special\", \"air\", \"large\", \"ever\", \"different\", \"line\", \"kind\", \"become\", \"level\", \"compare\", \"panel\", \"camera\", \"increase\", \"produce\", \"cover\", \"drop\", \"suppose\", \"fully\", \"face\", \"lead\", \"security\", \"otherwise\", \"argument\", \"efficiency\", \"fan\", \"beautiful\", \"reach\", \"sport\", \"concept\", \"interior\", \"supply\", \"begin\", \"reality\", \"meet\", \"ice\", \"live\", \"video\", \"agree\", \"state\", \"true\", \"test\", \"area\", \"pull\", \"share\", \"window\", \"source\", \"link\", \"rear\", \"around\", \"seriously\", \"actual\", \"play\", \"pack\", \"quality\", \"roll\", \"class\", \"manufacture\", \"downvote\", \"drag\", \"cash\", \"response\", \"ground\", \"spin\", \"makes_sense\", \"truly\", \"pretty\", \"already\", \"cool\", \"exactly\", \"edit\", \"else\", \"oil\", \"though\", \"super\", \"color\", \"there\", \"doubt\", \"gate\", \"fit\", \"damage\", \"moment\", \"apparently\", \"dog\", \"certainly\", \"walk\", \"capacity\", \"info\", \"yesterday\", \"together\", \"listen\", \"file\", \"involve\", \"touch\", \"prevent\", \"ad\", \"money\", \"issue\", \"space\", \"lose\", \"picture\", \"fact\", \"trailer\", \"especially\", \"sense\", \"normal\", \"spot\", \"local\", \"travel\", \"damn\", \"benefit\", \"common\", \"lie\", \"curious\", \"waste\", \"invest\", \"should\", \"cold\", \"list\", \"gain\", \"ahead\", \"bunch\", \"modern\", \"folk\", \"game\", \"inside\", \"mean\", \"part\", \"roof\", \"month\", \"weight\", \"amazing\", \"hold\", \"hand\", \"wonder\", \"ton\", \"self_driving\", \"co\", \"sign\", \"foot\", \"throw\", \"repair\", \"worry\", \"generally\", \"recently\", \"trust\", \"perhaps\", \"deep\", \"fly\", \"willing\", \"traditional\", \"temperature\", \"lbs\", \"field\", \"immediately\", \"target\", \"maintain\", \"truck\", \"least\", \"hope\", \"short\", \"semi\", \"op\", \"screen\", \"hate\", \"bed\", \"store\", \"event\", \"trip\", \"saving\", \"entire\", \"pickup\", \"rich\", \"apple\", \"dude\", \"install\", \"white\", \"solution\", \"gear\", \"insurance\", \"aerodynamic\", \"steal\", \"enter\", \"morning\", \"utility\", \"piece\", \"confirm\", \"own\", \"com\", \"comment\", \"reddit\", \"https\", \"teslamotors_comment\", \"support\", \"autopilot\", \"sub\", \"last_usage\", \"https_www\", \"http\", \"delivery\", \"letter\", \"expand\", \"code\", \"wiki\", \"network\", \"phrase\", \"rent\", \"acronym_bot\", \"thread_fewer\", \"practical\", \"trunk\", \"acronym\", \"bottom\", \"display\", \"mpg\", \"context\", \"brain\", \"german\", \"large\", \"today\", \"first\", \"thank\", \"nice\", \"read\", \"parking\", \"worth\", \"seat\", \"extra\", \"black\", \"write\", \"article\", \"lol\", \"status\", \"original\", \"explain\", \"double\", \"somewhere\", \"message\", \"anyway\", \"rule\", \"match\", \"debt\", \"food\", \"appreciate\", \"remind\", \"summon\", \"function\", \"remain\", \"subject\", \"reliable\", \"jump\", \"call\", \"ask\", \"awesome\", \"order\", \"phone\", \"friend\", \"name\", \"kid\", \"send\", \"remember\", \"rest\", \"race\", \"joke\", \"weird\", \"term\", \"mine\", \"user\", \"clear\", \"multiple\", \"wear\", \"dream\", \"movie\", \"school\", \"middle\", \"rocket\", \"machine\", \"here\", \"stage\", \"fight\", \"thinking\", \"plan\", \"datum\", \"delete\", \"garage\", \"yet\", \"sit\", \"position\", \"launch\", \"happy\", \"thought\", \"notice\", \"team\", \"empty\", \"project\", \"anymore\", \"somehow\", \"fucking\", \"ass\", \"terrible\", \"dumb\", \"passenger\", \"technically\", \"package\", \"significant\", \"engineering\", \"popular\", \"online\", \"congrat\", \"silver\", \"setup\", \"silly\", \"warm\"], \"Freq\": [16716.0, 5419.0, 4103.0, 4513.0, 4450.0, 3879.0, 5333.0, 10106.0, 3213.0, 4479.0, 2390.0, 8773.0, 8582.0, 8200.0, 8168.0, 8081.0, 2714.0, 2151.0, 2203.0, 2578.0, 7020.0, 2026.0, 2518.0, 2238.0, 3161.0, 1728.0, 2115.0, 2011.0, 5968.0, 5739.0, 10105.479951356905, 8772.049768181916, 8580.959302866127, 8080.555592609918, 7019.363210248034, 5738.558908107612, 5189.425255147507, 4736.501080878159, 4546.997830416757, 4531.898726824939, 4488.66286925492, 4297.462303597478, 4231.334945205304, 4164.129488432209, 4131.541349009648, 3609.8851494003, 2897.8243341211646, 2708.919217430733, 2472.3255563034454, 2451.5132080324274, 8196.519623381428, 2402.326466038693, 2344.3415875234855, 8165.137121742651, 2299.197584315962, 2242.629434310499, 2198.3737820865795, 2174.9415402247423, 2171.685901753333, 2171.721170302492, 5396.01097705747, 4822.137282787207, 5444.647737911927, 4005.5378849569793, 3337.2022620996577, 2436.5255062047418, 5903.02435179585, 2945.1469185571577, 4432.463282095277, 6107.318008437245, 4478.0623457741585, 3160.425682549063, 2598.4524110756265, 2518.2822810628763, 2357.957467106944, 1830.471856475948, 1782.998720868467, 1645.1914026558643, 1379.8327768186002, 1340.7166832694504, 1281.6271155165207, 1273.8113145121927, 1241.3001219553944, 1094.0585779375263, 1042.3408264915636, 1027.9156343583818, 958.201236205201, 898.1081229439769, 886.893468212766, 876.4573133483473, 861.4934844403335, 832.4311657310552, 826.4900865192238, 797.6954697482206, 760.4937009955189, 753.2571725013701, 751.2010491941752, 749.6208354548734, 736.3024170681767, 696.9274222482967, 16690.752648974307, 5301.102929826752, 2149.1504940687037, 1121.1230553114112, 1862.3622427599198, 1040.7533836324928, 1575.5342171320947, 1503.224746299185, 1359.811474750231, 1165.3168483906543, 1142.0238265675662, 1128.1160680134988, 881.551092290366, 831.8969400567548, 820.3728301789005, 711.089040816183, 608.0297626520454, 581.5562712097076, 555.5928263608201, 540.8903491023759, 535.7525503089146, 524.7461348237729, 485.5725846919048, 485.2286511980695, 465.7849733429756, 455.25438870482196, 454.72201488698516, 434.3786151310088, 417.3481985208352, 399.3268301010444, 396.9989632403033, 385.51573827983185, 376.31942277173033, 370.5696550553145, 368.6042431359111, 365.60101398297553, 533.4270394052921, 481.5419407622535, 2577.3538885654116, 2237.839222416927, 2114.4367366815322, 1837.9328930076354, 1671.5396729761774, 1579.283814293331, 1355.2410821266808, 1130.9647762559905, 995.2389724007597, 831.6677719743032, 664.2049244255012, 643.938921753587, 599.7987607910701, 575.5512936226389, 553.8707453040844, 532.5520663676128, 488.43398709839863, 460.31868775785597, 454.2927080505074, 423.0408376371003, 385.5833527680015, 338.97233005473163, 329.2518438683853, 311.15480425495844, 288.723357036127, 279.2830345001299, 276.39471781751234, 264.3930575189568, 249.75270420100622, 232.50496048383692, 2432.6530029996397, 624.9748723580662, 760.6759946345976, 850.2921723415981, 4449.250170072255, 3878.470111526713, 2713.6303386786617, 1586.098279032997, 1440.766476501601, 1304.68491069135, 1109.4615083731344, 990.32078227801, 879.0087925232552, 843.5322822539196, 779.6476859745592, 573.8328803882019, 559.5304624765699, 558.8401021024677, 531.4363592134868, 519.6989053031049, 506.88865431416633, 494.28992639434034, 489.4199600395407, 476.83944339135536, 474.0682324838044, 450.03347272906996, 431.651525731364, 420.46861355238104, 409.62232056079006, 389.7178091346427, 376.12586909531785, 310.18217368919744, 249.32362698119738, 240.42277435747258, 322.73865826676905, 516.1129527381337, 1141.6001478489331, 4512.598754952283, 3212.5314214021487, 2010.5513665225703, 1379.9117123430021, 933.2276831665272, 889.0998054818347, 883.1586273297518, 795.0696478423613, 788.5749022935256, 697.6810385165107, 631.7069694198358, 546.5370404095174, 481.5897739380281, 449.6572329858382, 425.9026327798719, 423.83151196652597, 411.20203499417295, 410.3516796139915, 395.87207404820043, 382.4860570671393, 373.6217645753517, 373.20892023580893, 363.34683920786426, 353.57309206226057, 353.2098016445874, 329.5115284648784, 309.8317853726484, 300.50424404354857, 297.07919541449354, 293.32157160859356, 1100.271192447834, 1092.7396722835563, 1010.8391807278036, 995.3054203889805, 951.377407490522, 693.5410541144347, 691.7864990331973, 683.4738519047986, 626.5040631633016, 572.5931561167475, 554.9525990607813, 520.2739895300596, 507.4099312485635, 505.30904248270264, 483.55958514715365, 466.6395320236828, 403.74010289956914, 402.97731187433766, 382.7196388499345, 375.4177304138671, 349.21596647735976, 339.7770296455161, 333.40873718639347, 306.9735559494533, 300.9215783954663, 288.12474301910004, 287.35271749344105, 283.08315819633316, 258.5689127226856, 248.83335415664698, 615.6049043186034, 298.8149679650754, 439.68748488673066, 5418.62614372981, 1088.3934010977775, 1048.1172709435584, 975.3635912320606, 896.082045051792, 892.198371423037, 705.0484971416697, 703.3410089009025, 685.7168828003179, 667.0656527663301, 642.506099602172, 476.4286795918736, 430.64755020324776, 428.159918171921, 388.9116801741823, 353.63790925089216, 329.2142506716202, 286.1715314126946, 287.5200086738142, 283.8397951268355, 233.3559544364345, 213.6413622074968, 209.06390447906705, 185.35659288505184, 178.6080855346211, 175.6775829778345, 165.52962960368512, 160.81298892221938, 159.1854560598354, 149.79044046409996, 1305.2153419492563, 539.852162739742, 1370.7138265755088, 1089.9336708954754, 1072.7920589049368, 986.9105729346569, 885.8825608175565, 868.0556806376175, 835.0181223790131, 785.9190391658688, 627.751323148644, 608.9210145485116, 570.9479754783298, 514.5188964562632, 447.72089360613325, 434.1955279755193, 425.65503229667206, 389.2581296804389, 380.5102927998532, 329.0579666464337, 328.1073850967012, 326.9935545369186, 325.0465581191745, 324.6085053827281, 305.37903738097566, 292.8318660964464, 286.53644280307026, 283.56330975072586, 270.05280500340626, 259.2760161407701, 256.5229762032221, 242.34108323340732, 1033.3853124404984, 1230.961939123343, 1184.4618839953168, 1514.6316721105818, 1020.5678635983094, 1008.6291646002455, 952.7624452662271, 622.1550485336724, 533.753683569807, 464.40975774458593, 447.0172901709638, 404.6708373152146, 356.38624578524013, 326.90688802713856, 311.75132764533, 307.6504223867268, 306.7627646268907, 299.1511562823626, 286.66794337867094, 284.3889399024514, 264.0498200297445, 257.46218956687494, 255.6133479146581, 253.9729726698169, 223.03093329610704, 208.12197128377127, 200.66836637093132, 198.94228729628756, 197.0871377721098, 194.33679608547595, 193.00502471539025, 573.2311497999905, 770.5168103202042, 1393.4186961814055, 1327.483024266897, 1045.36655904812, 866.3577216922524, 701.7590908663627, 649.8384876710965, 597.7605522177095, 527.4706131695135, 527.097814536308, 501.48840785590073, 495.78812907025844, 479.6797966787588, 469.54882725735274, 424.55241108098164, 423.00521619279147, 391.6377449790181, 384.98554724443585, 334.7136232516555, 331.60076990554273, 323.7820577700362, 311.58116541546855, 303.68082601235966, 292.46649357305773, 288.59136478315753, 285.8568404319391, 273.43037899431977, 272.72203546353603, 234.92584538279067, 234.37899276793303, 224.4651009293479, 314.01881385477486, 946.83911577119, 1554.3068031154348, 1022.8055160231705, 940.3966852625061, 933.1505512924911, 889.0510927153533, 860.4962144539528, 800.6310168589896, 772.4789264673968, 682.0494756744592, 682.1942450584975, 632.6600783526111, 519.7425854929589, 495.7264987022761, 486.9450858451402, 461.49056322049, 438.08210307411525, 372.8937670928315, 359.2657232865456, 352.8967100685137, 349.94624801470115, 283.6131272447948, 234.0688197923465, 232.98733393130755, 228.2618321544655, 225.3444836212733, 219.67412693388408, 209.79385330599496, 207.47308640015495, 207.44027430299934, 201.42605803314805, 2202.258520382112, 1443.7955327228526, 1155.6839694150574, 936.3725952688594, 891.3791714311882, 889.5152928069017, 785.1158263330644, 767.9137680135901, 646.777542533325, 545.9778587305614, 512.4527446182063, 461.01691804183207, 455.02531083072586, 375.23247110360876, 349.69260498554536, 326.0293540092432, 306.14801587256346, 299.1101860202649, 295.37761448996713, 273.46172433215224, 250.17276852489738, 210.25126158146404, 202.77072094471868, 199.70698924596607, 196.50073855741448, 191.34651166507714, 185.9035091229419, 176.2663124673873, 171.4790475976723, 168.32107176363286, 2025.9265737017258, 1164.9701736689317, 1066.1726479331812, 821.6405846574247, 692.0944320776788, 663.3047602267445, 626.9094259995452, 611.1605516964854, 582.5219405817561, 557.3268960606069, 523.4008025295409, 463.26844520490306, 431.51537542266396, 409.6547628498937, 380.33455554872063, 354.20786414714775, 301.45150694886024, 301.38477392688515, 271.81855795562825, 251.87511298181448, 246.51156522362433, 243.0706536849563, 238.22630785902112, 233.69761636001132, 226.20451642372257, 212.01986574086575, 211.89034265159881, 211.76848751942939, 209.72435281690517, 202.06455902257713, 2150.866110697268, 1405.816863646531, 1173.6327261264894, 1079.7499600412116, 657.5887948915149, 636.7125464798564, 554.2859115650646, 542.1127201931421, 509.405827442884, 451.2020663954826, 398.10591047178036, 369.76556958649405, 342.2151539720171, 338.39542233890376, 302.9643578638325, 274.5845022588078, 267.2345613692911, 235.76439998519348, 219.8450618412492, 213.18392471415953, 209.26744569156997, 205.13187314351833, 201.47001582737937, 199.66752817029862, 198.63924110340272, 185.7509827994186, 180.70103483800926, 175.01656279224417, 172.7717723521039, 148.66219185562156, 159.4214077646963, 4102.876318971859, 1109.8739775271774, 853.1261182437731, 642.2134309395522, 523.1104106227455, 498.0764615212161, 484.8504548180929, 415.2957826775942, 399.2194414670598, 333.2180327116445, 328.7025565035919, 324.9088100653488, 305.4250176126693, 302.4645435505729, 289.6438258552872, 282.71987118134217, 270.7564180454531, 244.01548122776023, 242.54304867152655, 235.27259285396448, 233.78146463446734, 228.82674556859783, 228.71383498689988, 223.66114783942666, 216.4929569491527, 215.96916269115476, 210.58952943246484, 210.04677643901869, 178.23179101245032, 174.17356933779763, 409.59083435523314, 1727.1533560070623, 1349.0362118890055, 1039.7866072485656, 1022.9329365301343, 711.537155159752, 557.2034445783805, 556.8869139825615, 525.6186556301284, 464.9699897119428, 415.1727253122937, 365.55202643807877, 330.2410098711389, 291.76985728867754, 288.6159868328136, 282.00518799043226, 234.03596053745352, 323.8702025064637, 194.43216253524244, 193.27620101643893, 171.47561416306965, 170.9323593265245, 168.444007715607, 162.7972833477601, 161.50510582295703, 151.57479293113988, 149.82154896300565, 144.6967149004123, 143.42359939932174, 129.03539216814065, 124.09476727138343, 227.7353582551717, 217.1864497397786, 206.81006666217155, 1315.290914816531, 1177.6124218574305, 989.4454925614833, 934.5089371554285, 612.086065935497, 570.9106621898061, 526.3299553023077, 466.68964452518685, 431.67156087737675, 430.3824438481051, 397.4148146507025, 367.8653504262003, 308.86033705261735, 302.21554170209885, 297.14637993155435, 293.9851255893985, 292.3726846494771, 257.9151278986449, 252.13500915133707, 203.75866922036576, 191.38317241135783, 180.54464960015676, 174.0232715205733, 172.27481819862373, 164.6626442272634, 153.08209155934335, 151.83329370334752, 145.35620596147862, 144.81673512669283, 135.11620282942351, 1357.8367571877054, 907.3239456494704, 739.3319479227448, 692.9435513893836, 654.7263661681922, 574.4190972268901, 460.1494375031122, 456.6679971446527, 456.55893476928753, 440.8598143753184, 430.5430583855664, 389.54241424565043, 349.5291339339587, 338.74412615507794, 316.57503724555494, 307.0631343500081, 305.1883509333079, 294.55500616989826, 270.0312771546703, 253.01319476025517, 234.2875342412306, 223.4613764347283, 209.71136114403757, 207.1950665593203, 205.52473068992512, 195.38799866993298, 160.46069894840625, 153.53007215601494, 141.5124434238522, 138.5151967896827, 663.5401692066582, 293.8881684920753, 2389.7429472854246, 881.9305841857595, 582.5897910220789, 481.62063654531215, 429.9972224483538, 379.63476217248376, 362.8785194970737, 354.70905144782625, 327.436614637251, 239.84694795741697, 213.42831818031132, 211.365752708914, 210.32364046428765, 207.66055022414346, 201.45177901560407, 191.6769930107224, 184.0330553808978, 183.26837805577367, 183.16004021843543, 179.12616213771022, 177.55257749310476, 174.81235550055868, 169.65014233504752, 169.22038182286533, 161.70842170841973, 155.3294419681159, 154.76367137341455, 154.3742650313418, 136.0913323348538, 126.39568724126723], \"Total\": [16716.0, 5419.0, 4103.0, 4513.0, 4450.0, 3879.0, 5333.0, 10106.0, 3213.0, 4479.0, 2390.0, 8773.0, 8582.0, 8200.0, 8168.0, 8081.0, 2714.0, 2151.0, 2203.0, 2578.0, 7020.0, 2026.0, 2518.0, 2238.0, 3161.0, 1728.0, 2115.0, 2011.0, 5968.0, 5739.0, 10106.540031175298, 8773.109575529228, 8582.01911060808, 8081.615399957228, 7020.423017595344, 5739.6187154549225, 5190.485062589045, 4737.560888225469, 4548.057637823109, 4532.958548554718, 4489.722676733777, 4298.527064836248, 4232.394752552615, 4165.189295779519, 4132.601156356958, 3610.944956747609, 2898.8841414684734, 2709.979024778042, 2473.3853636507542, 2452.5730153797363, 8200.064759710996, 2403.386286951783, 2345.401394880713, 8168.839480026453, 2300.257391800299, 2243.689241657808, 2199.4335894338883, 2176.001347572051, 2172.7457091006418, 2172.7848465557477, 5400.209749333667, 4830.840436597213, 5461.173686198632, 4017.1609492903867, 3341.423228693947, 2438.032685512579, 5968.048984945638, 2957.4607896681437, 4505.277346111262, 7149.070737045608, 4479.120086741597, 3161.4834235165013, 2599.510152043065, 2519.340385555293, 2359.015208873877, 1831.5295974433868, 1784.0564618359058, 1646.249143623303, 1380.8905205118792, 1341.7744242368892, 1282.6848564839595, 1274.8699250883228, 1242.3578629228332, 1095.1163727068704, 1043.3985681759439, 1028.9733753258206, 959.2589771726398, 899.1658639233899, 887.9512091802048, 877.5150543157861, 862.5512254207666, 833.4889319535331, 827.5478274866626, 798.7532107200839, 761.5514419629577, 754.3149457190812, 752.2587902368305, 750.6785764223122, 737.3601580356155, 697.9851632157355, 16716.89461582391, 5333.9150440113335, 2163.1726993403036, 1141.211251727769, 1943.2902924664718, 7149.070737045608, 1576.5931127593535, 1504.2836458424672, 1360.8703703774897, 1166.3757440179131, 1143.082722194825, 1129.1749636407576, 882.609987917625, 832.9558356882956, 821.4317258061594, 712.147936443442, 609.0886582793044, 582.6151668369665, 556.6517219880791, 541.9492447296349, 536.8114460740953, 525.8050304510318, 486.6314803191637, 486.2875468253284, 466.8438689702345, 456.31328433208085, 455.78091051424406, 435.4375107582677, 418.4070941480941, 400.38572572830327, 398.0578588675622, 386.57463390709074, 377.3783183989892, 371.6285506825734, 369.66313876316997, 366.6599096102344, 541.1100914187838, 496.04708700607864, 2578.4143947831376, 2238.8997288230707, 2115.4972428992583, 1838.9933992253618, 1672.6018857673344, 1580.3443205110575, 1356.3015883444073, 1132.025282473717, 996.2994786184863, 832.7282782014825, 665.2654306432278, 644.9994279713136, 600.8592670087967, 576.6117998403655, 554.931251521811, 533.6125725897639, 489.4944933161251, 461.37919397558244, 455.35321426823384, 424.1013438548268, 386.64385898572795, 340.0328362724581, 330.3123500861118, 312.2153105614052, 289.7838632538535, 280.34354071785634, 277.45582951928486, 265.4535637366833, 250.8132104187328, 233.5654667015635, 2518.799477168665, 653.6238051431928, 832.2961462847179, 951.081806779548, 4450.310118049836, 3879.53007554911, 2714.690286656242, 1587.158627086919, 1441.8264246780657, 1305.7448586689304, 1110.5214563507147, 991.3807302555904, 880.0687405008356, 844.5922302314999, 780.7076339521395, 574.8928283657823, 560.5904104541503, 559.9000634180018, 532.4963071910671, 520.7588532806852, 507.9528645893362, 495.34987437192063, 490.479908017121, 477.89939136893565, 475.1281804613847, 451.09342070665025, 432.7114737089443, 421.52856152996134, 410.68226853837035, 390.777757112223, 377.18581707289815, 311.24212166677773, 250.38357495877779, 241.48272233505298, 325.87820225006044, 530.3728823903609, 1220.5131337756898, 4513.659224829838, 3213.5918912797024, 2011.6118397269645, 1380.9721822205565, 934.3217250843421, 890.1602753758324, 884.2190972073062, 796.1301177199157, 789.63537217108, 698.7415083940651, 632.7674392973902, 547.5975102870718, 482.6502438155824, 450.7177065622736, 426.96310265742625, 424.8919818440803, 412.26250487588254, 411.4121495877963, 396.9325439934601, 383.54652694469365, 374.6822346782738, 374.2693901177878, 364.4073090854186, 354.6335619398149, 354.27027152214174, 330.5719983424327, 310.89225525020277, 301.5647139211029, 298.1396652920479, 294.3820414861479, 1101.331795505351, 1093.8002753410733, 1011.8997838699522, 996.3660234464973, 952.4380105480388, 694.6016571719515, 692.8509091330048, 684.5344549623154, 627.5646662208184, 573.6537591919624, 556.0132021182981, 521.3345925875764, 508.47053430608037, 506.3696455402195, 484.6201882046705, 467.7001350811997, 404.800705957086, 404.0379149360861, 383.78024190745134, 376.47833347138396, 350.2765695348766, 340.83763270303297, 334.4693402439103, 308.03415901114965, 301.9821814529832, 289.1853460766169, 288.4133205509579, 284.14376125385, 259.62951578020244, 249.89395721416386, 618.5334643205106, 300.10335029230293, 464.67677286924487, 5419.691541691356, 1089.4587990593238, 1049.1826689051047, 976.4289891936065, 897.1474430133379, 893.2637693845829, 706.1138951032157, 704.4064068624484, 686.7822807851709, 668.1310507278761, 643.5714975637179, 477.49407755689856, 431.71294816479383, 429.22531613346706, 389.9770781357284, 354.70330721243823, 330.2796486331663, 287.2369293742407, 288.59822707191944, 284.90519308838157, 234.42135239798063, 214.70676016904292, 210.12930244061317, 186.42199084659796, 179.67348349616722, 176.74298094380512, 166.59502756523125, 161.8783868837655, 160.2508540213815, 150.85583842982552, 1398.4514975450115, 658.0963324845906, 1371.7759169703068, 1090.9957612842597, 1073.854149293721, 987.9726633234411, 886.9446512063407, 869.1177710264017, 836.0802127677973, 786.981129554653, 628.8134135374282, 609.9831049372958, 572.010065867114, 515.5809868450474, 448.78298401378186, 435.25761836430354, 426.7171226854563, 390.3202200692231, 381.5723831886374, 330.12009123622454, 329.1694754854854, 328.05564492570284, 326.1086485079587, 325.6705957715123, 306.4411277697599, 293.8939564852306, 287.59853323503097, 284.6254001395101, 271.1148953921905, 260.3381065295543, 257.58506660068923, 243.4031736221916, 1074.5965921097934, 1232.0227644457764, 1185.5227093177502, 1516.1621281040286, 1021.6286889207425, 1009.6899899226787, 953.8232705886603, 623.2158738561055, 534.8145088922402, 465.4705830670191, 448.078115493397, 405.7316626376478, 357.4470711076733, 327.96771334957174, 312.81215296776315, 308.71124770916, 307.8235899493239, 300.21198160479577, 287.7287687011041, 285.4497654726565, 265.1106453521777, 258.5230148893081, 256.6741732370913, 255.03379799225013, 224.09175861854027, 209.1827966062045, 201.72919169336456, 200.0031126187208, 198.14796309454303, 195.39762140790918, 194.06585003782348, 594.0715542291351, 999.2627507493261, 1394.479096421976, 1328.5434245074675, 1046.4269592886906, 867.4181219328229, 702.8194911069332, 650.898887911667, 598.82095245828, 528.531013410084, 528.1582147768785, 502.54888459163084, 496.8485293108289, 480.74019691932926, 470.6092274979232, 425.6128113215521, 424.06561644172086, 392.6981452195886, 386.0481260156607, 335.77402349640545, 332.6611701461132, 324.84245801060666, 312.641565656039, 304.7412262529301, 293.5268938136282, 289.651765023728, 286.91724067250954, 274.4907792348902, 273.7824357161338, 235.98624562336116, 235.43939300850352, 225.52550116991839, 317.8184972418439, 1038.2161130817103, 1555.3682629162683, 1023.8669758240039, 941.4581450633395, 934.2120110933245, 890.1125525161867, 861.5577003394537, 801.692476659823, 773.5403862982986, 683.1109354752926, 683.2565473557331, 633.7215381534445, 520.8040452937923, 496.7879585072889, 488.0065456459736, 462.55202302132335, 439.1435629204288, 373.95522689366487, 360.32718308737896, 353.95816986934705, 351.0077078155345, 284.67458704562813, 235.13027959735933, 234.04879373214095, 229.3232919552989, 226.4059434221067, 220.7355867347175, 210.85531310682836, 208.53454620098836, 208.50173410383275, 202.48751783398146, 2203.3186641019242, 1444.855676442666, 1156.7441131348708, 937.4327389886726, 892.4393151510013, 890.5761587513985, 786.1759700528776, 768.9739117334033, 647.8376862531381, 547.0380024503745, 513.5128883380195, 462.0770617616452, 456.08545463005385, 376.2926148234219, 350.7527487053585, 327.08949777695267, 307.2081595923766, 300.17032974007805, 296.4377582142048, 274.5218680519654, 251.23291224471055, 211.3114053012772, 203.83086466453184, 200.76713296577924, 197.56088227722765, 192.4066553848903, 186.96365284275507, 177.32645618720048, 172.53919131748546, 169.38121548344603, 2026.990653989379, 1166.034253956585, 1067.2367282208345, 822.7046649450779, 693.158512365332, 664.3688405143977, 627.9735062871983, 612.2247123241876, 583.5860208694093, 558.3909763482601, 524.464882817194, 464.3325254925563, 432.57945571474164, 410.7188431375469, 381.39863583637384, 355.27194443480096, 302.51558723651345, 302.44885421453836, 272.88263824328146, 252.93919326946767, 247.57564551127751, 244.1347339726095, 239.2903881466743, 234.7616966476645, 227.26859671137575, 213.08394602851894, 212.954422939252, 212.83256780708257, 210.78843310455835, 203.12863931518964, 2151.9301329995455, 1406.880885948809, 1174.6967484775143, 1080.8139823434897, 658.6528171937928, 637.7765687821343, 555.3499338728235, 543.17674249542, 510.46984974516187, 452.26608869776044, 399.1699327740582, 370.8295918887719, 343.27917627429497, 339.4594446411816, 304.02838016611037, 275.64852456108565, 268.29858367156896, 236.82842228747134, 220.90908414352705, 214.2479471433408, 210.33146799384784, 206.1958954457962, 202.53403812965723, 200.7315504725765, 199.7032634056806, 186.81500510169647, 181.76505714028713, 176.08058509452204, 173.83579465438177, 149.72621415789942, 179.05845930548608, 4103.944895632846, 1110.942554194151, 854.1946949047594, 643.2820076005385, 524.1789872837318, 499.1450381822025, 485.91903147907925, 416.3643593385806, 400.2880181280462, 334.2866093726309, 329.77113316457826, 325.97738672633517, 306.4935942736557, 303.53313316794436, 290.7124025162736, 283.78844784232854, 271.82499470643944, 245.08405788874663, 243.61162533251294, 236.34116951495088, 234.85004129545374, 229.89532222958422, 229.78241164788628, 224.72972450041306, 217.5615336101391, 217.037739366593, 211.65810609345124, 211.11535311073382, 179.3003676734367, 175.24214599878403, 412.742203212211, 1728.2213187594587, 1350.1041746414019, 1040.854570000962, 1024.0008992825308, 712.6051179121484, 558.2714073307769, 557.9548767349579, 526.6866183825248, 466.0379524643392, 416.2406880646901, 366.61998919047517, 331.3089726235353, 292.83782004107394, 289.68394958521, 283.07315074282866, 235.1039232898499, 325.38347824624753, 195.5001252876388, 194.3441637688353, 172.54357691546602, 172.00032207892087, 169.51197049640766, 163.86524610015647, 162.5730685753534, 152.64275568353625, 150.88951171540202, 145.76467765280867, 144.4915621517181, 130.10335492053702, 125.1627300237798, 999.2627507493261, 862.5689019852658, 2279.659915340275, 1316.3577862049492, 1178.6792932458486, 990.5123639499012, 935.5758085438464, 613.1529373239149, 571.977533578224, 527.3968266907256, 467.75651591360474, 432.73843226579464, 431.4493198610609, 398.4816860391204, 368.9322218146182, 309.92720844103525, 303.28241309051674, 298.21325131997224, 295.0519969778164, 293.439556037895, 258.9819992870628, 253.20203060494916, 204.82554060878368, 192.45004380461313, 181.61152098857468, 175.09014290899123, 173.34168958704166, 165.72951575583417, 154.14896294776128, 152.90016509176544, 146.42307734989654, 145.88360651511076, 136.18307421784144, 1358.899071532496, 908.386259994261, 740.3942622675354, 694.0058657341742, 655.7886805129828, 575.4814115716807, 461.2117518479028, 457.7303114894433, 457.6212491140781, 441.922128720109, 431.605372730357, 390.604728590441, 350.5914482787493, 339.80644049986853, 317.63735159034553, 308.1254486947987, 306.2506652780985, 295.6243123510331, 271.0935914994609, 254.07550910504574, 235.34984858602115, 224.52369077951886, 210.77367548882813, 208.25738090411087, 206.5870450347157, 196.45031301472355, 161.52301329737625, 154.5923865008055, 142.57475776864277, 139.57751113447327, 697.1228618058269, 320.88859581267155, 2390.8067431592444, 882.9943800896096, 583.6535868958987, 482.68443241913195, 431.0610183221736, 380.69855804630356, 363.9423153708935, 355.77284732164605, 328.5004105110708, 240.91074383123677, 214.49211405413112, 212.4295485827338, 211.38743633810745, 208.72434609796326, 202.51557488942387, 192.7407888845422, 185.0968512547176, 184.33217392959347, 184.22383609225523, 180.18995801153002, 178.61637336692456, 175.87615137437848, 170.71393820886732, 170.28417769668513, 162.77221758223953, 156.3932378419357, 155.82746724723435, 155.4380609051616, 137.1551282086736, 127.45948311508702], \"Category\": [\"Default\", \"Default\", \"Default\", \"Default\", \"Default\", \"Default\", \"Default\", \"Default\", \"Default\", \"Default\", \"Default\", \"Default\", \"Default\", \"Default\", \"Default\", \"Default\", \"Default\", \"Default\", \"Default\", \"Default\", \"Default\", \"Default\", \"Default\", \"Default\", \"Default\", \"Default\", \"Default\", \"Default\", \"Default\", \"Default\", \"Topic1\", \"Topic1\", \"Topic1\", \"Topic1\", \"Topic1\", \"Topic1\", \"Topic1\", \"Topic1\", \"Topic1\", \"Topic1\", \"Topic1\", \"Topic1\", \"Topic1\", \"Topic1\", \"Topic1\", \"Topic1\", \"Topic1\", \"Topic1\", \"Topic1\", \"Topic1\", \"Topic1\", \"Topic1\", \"Topic1\", \"Topic1\", \"Topic1\", \"Topic1\", \"Topic1\", \"Topic1\", \"Topic1\", \"Topic1\", \"Topic1\", \"Topic1\", \"Topic1\", \"Topic1\", \"Topic1\", \"Topic1\", \"Topic1\", \"Topic1\", \"Topic1\", \"Topic1\", \"Topic2\", \"Topic2\", \"Topic2\", \"Topic2\", \"Topic2\", \"Topic2\", \"Topic2\", \"Topic2\", \"Topic2\", \"Topic2\", \"Topic2\", \"Topic2\", \"Topic2\", \"Topic2\", \"Topic2\", \"Topic2\", \"Topic2\", \"Topic2\", \"Topic2\", \"Topic2\", \"Topic2\", \"Topic2\", \"Topic2\", \"Topic2\", \"Topic2\", \"Topic2\", \"Topic2\", \"Topic2\", \"Topic2\", \"Topic2\", \"Topic2\", \"Topic2\", \"Topic2\", \"Topic2\", \"Topic2\", \"Topic2\", \"Topic3\", \"Topic3\", \"Topic3\", \"Topic3\", \"Topic3\", \"Topic3\", \"Topic3\", \"Topic3\", \"Topic3\", \"Topic3\", \"Topic3\", \"Topic3\", \"Topic3\", \"Topic3\", \"Topic3\", \"Topic3\", \"Topic3\", \"Topic3\", \"Topic3\", \"Topic3\", \"Topic3\", \"Topic3\", \"Topic3\", \"Topic3\", \"Topic3\", \"Topic3\", \"Topic3\", \"Topic3\", \"Topic3\", \"Topic3\", \"Topic3\", \"Topic3\", \"Topic4\", \"Topic4\", \"Topic4\", \"Topic4\", \"Topic4\", \"Topic4\", \"Topic4\", \"Topic4\", \"Topic4\", \"Topic4\", \"Topic4\", \"Topic4\", \"Topic4\", \"Topic4\", \"Topic4\", \"Topic4\", \"Topic4\", \"Topic4\", \"Topic4\", \"Topic4\", \"Topic4\", \"Topic4\", \"Topic4\", \"Topic4\", \"Topic4\", \"Topic4\", \"Topic4\", \"Topic4\", \"Topic4\", \"Topic4\", \"Topic4\", \"Topic4\", \"Topic4\", \"Topic4\", \"Topic5\", \"Topic5\", \"Topic5\", \"Topic5\", \"Topic5\", \"Topic5\", \"Topic5\", \"Topic5\", \"Topic5\", \"Topic5\", \"Topic5\", \"Topic5\", \"Topic5\", \"Topic5\", \"Topic5\", \"Topic5\", \"Topic5\", \"Topic5\", \"Topic5\", \"Topic5\", \"Topic5\", \"Topic5\", \"Topic5\", \"Topic5\", \"Topic5\", \"Topic5\", \"Topic5\", \"Topic5\", \"Topic5\", \"Topic5\", \"Topic5\", \"Topic5\", \"Topic5\", \"Topic6\", \"Topic6\", \"Topic6\", \"Topic6\", \"Topic6\", \"Topic6\", \"Topic6\", \"Topic6\", \"Topic6\", \"Topic6\", \"Topic6\", \"Topic6\", \"Topic6\", \"Topic6\", \"Topic6\", \"Topic6\", \"Topic6\", \"Topic6\", \"Topic6\", \"Topic6\", \"Topic6\", \"Topic6\", \"Topic6\", \"Topic6\", \"Topic6\", \"Topic6\", \"Topic6\", \"Topic6\", \"Topic6\", \"Topic6\", \"Topic7\", \"Topic7\", \"Topic7\", \"Topic7\", \"Topic7\", \"Topic7\", \"Topic7\", \"Topic7\", \"Topic7\", \"Topic7\", \"Topic7\", \"Topic7\", \"Topic7\", \"Topic7\", \"Topic7\", \"Topic7\", \"Topic7\", \"Topic7\", \"Topic7\", \"Topic7\", \"Topic7\", \"Topic7\", \"Topic7\", \"Topic7\", \"Topic7\", \"Topic7\", \"Topic7\", \"Topic7\", \"Topic7\", \"Topic7\", \"Topic7\", \"Topic7\", \"Topic7\", \"Topic8\", \"Topic8\", \"Topic8\", \"Topic8\", \"Topic8\", \"Topic8\", \"Topic8\", \"Topic8\", \"Topic8\", \"Topic8\", \"Topic8\", \"Topic8\", \"Topic8\", \"Topic8\", \"Topic8\", \"Topic8\", \"Topic8\", \"Topic8\", \"Topic8\", \"Topic8\", \"Topic8\", \"Topic8\", \"Topic8\", \"Topic8\", \"Topic8\", \"Topic8\", \"Topic8\", \"Topic8\", \"Topic8\", \"Topic8\", \"Topic8\", \"Topic8\", \"Topic9\", \"Topic9\", \"Topic9\", \"Topic9\", \"Topic9\", \"Topic9\", \"Topic9\", \"Topic9\", \"Topic9\", \"Topic9\", \"Topic9\", \"Topic9\", \"Topic9\", \"Topic9\", \"Topic9\", \"Topic9\", \"Topic9\", \"Topic9\", \"Topic9\", \"Topic9\", \"Topic9\", \"Topic9\", \"Topic9\", \"Topic9\", \"Topic9\", \"Topic9\", \"Topic9\", \"Topic9\", \"Topic9\", \"Topic9\", \"Topic9\", \"Topic10\", \"Topic10\", \"Topic10\", \"Topic10\", \"Topic10\", \"Topic10\", \"Topic10\", \"Topic10\", \"Topic10\", \"Topic10\", \"Topic10\", \"Topic10\", \"Topic10\", \"Topic10\", \"Topic10\", \"Topic10\", \"Topic10\", \"Topic10\", \"Topic10\", \"Topic10\", \"Topic10\", \"Topic10\", \"Topic10\", \"Topic10\", \"Topic10\", \"Topic10\", \"Topic10\", \"Topic10\", \"Topic10\", \"Topic10\", \"Topic10\", \"Topic10\", \"Topic11\", \"Topic11\", \"Topic11\", \"Topic11\", \"Topic11\", \"Topic11\", \"Topic11\", \"Topic11\", \"Topic11\", \"Topic11\", \"Topic11\", \"Topic11\", \"Topic11\", \"Topic11\", \"Topic11\", \"Topic11\", \"Topic11\", \"Topic11\", \"Topic11\", \"Topic11\", \"Topic11\", \"Topic11\", \"Topic11\", \"Topic11\", \"Topic11\", \"Topic11\", \"Topic11\", \"Topic11\", \"Topic11\", \"Topic11\", \"Topic11\", \"Topic11\", \"Topic12\", \"Topic12\", \"Topic12\", \"Topic12\", \"Topic12\", \"Topic12\", \"Topic12\", \"Topic12\", \"Topic12\", \"Topic12\", \"Topic12\", \"Topic12\", \"Topic12\", \"Topic12\", \"Topic12\", \"Topic12\", \"Topic12\", \"Topic12\", \"Topic12\", \"Topic12\", \"Topic12\", \"Topic12\", \"Topic12\", \"Topic12\", \"Topic12\", \"Topic12\", \"Topic12\", \"Topic12\", \"Topic12\", \"Topic12\", \"Topic13\", \"Topic13\", \"Topic13\", \"Topic13\", \"Topic13\", \"Topic13\", \"Topic13\", \"Topic13\", \"Topic13\", \"Topic13\", \"Topic13\", \"Topic13\", \"Topic13\", \"Topic13\", \"Topic13\", \"Topic13\", \"Topic13\", \"Topic13\", \"Topic13\", \"Topic13\", \"Topic13\", \"Topic13\", \"Topic13\", \"Topic13\", \"Topic13\", \"Topic13\", \"Topic13\", \"Topic13\", \"Topic13\", \"Topic13\", \"Topic14\", \"Topic14\", \"Topic14\", \"Topic14\", \"Topic14\", \"Topic14\", \"Topic14\", \"Topic14\", \"Topic14\", \"Topic14\", \"Topic14\", \"Topic14\", \"Topic14\", \"Topic14\", \"Topic14\", \"Topic14\", \"Topic14\", \"Topic14\", \"Topic14\", \"Topic14\", \"Topic14\", \"Topic14\", \"Topic14\", \"Topic14\", \"Topic14\", \"Topic14\", \"Topic14\", \"Topic14\", \"Topic14\", \"Topic14\", \"Topic15\", \"Topic15\", \"Topic15\", \"Topic15\", \"Topic15\", \"Topic15\", \"Topic15\", \"Topic15\", \"Topic15\", \"Topic15\", \"Topic15\", \"Topic15\", \"Topic15\", \"Topic15\", \"Topic15\", \"Topic15\", \"Topic15\", \"Topic15\", \"Topic15\", \"Topic15\", \"Topic15\", \"Topic15\", \"Topic15\", \"Topic15\", \"Topic15\", \"Topic15\", \"Topic15\", \"Topic15\", \"Topic15\", \"Topic15\", \"Topic15\", \"Topic16\", \"Topic16\", \"Topic16\", \"Topic16\", \"Topic16\", \"Topic16\", \"Topic16\", \"Topic16\", \"Topic16\", \"Topic16\", \"Topic16\", \"Topic16\", \"Topic16\", \"Topic16\", \"Topic16\", \"Topic16\", \"Topic16\", \"Topic16\", \"Topic16\", \"Topic16\", \"Topic16\", \"Topic16\", \"Topic16\", \"Topic16\", \"Topic16\", \"Topic16\", \"Topic16\", \"Topic16\", \"Topic16\", \"Topic16\", \"Topic16\", \"Topic17\", \"Topic17\", \"Topic17\", \"Topic17\", \"Topic17\", \"Topic17\", \"Topic17\", \"Topic17\", \"Topic17\", \"Topic17\", \"Topic17\", \"Topic17\", \"Topic17\", \"Topic17\", \"Topic17\", \"Topic17\", \"Topic17\", \"Topic17\", \"Topic17\", \"Topic17\", \"Topic17\", \"Topic17\", \"Topic17\", \"Topic17\", \"Topic17\", \"Topic17\", \"Topic17\", \"Topic17\", \"Topic17\", \"Topic17\", \"Topic17\", \"Topic17\", \"Topic17\", \"Topic18\", \"Topic18\", \"Topic18\", \"Topic18\", \"Topic18\", \"Topic18\", \"Topic18\", \"Topic18\", \"Topic18\", \"Topic18\", \"Topic18\", \"Topic18\", \"Topic18\", \"Topic18\", \"Topic18\", \"Topic18\", \"Topic18\", \"Topic18\", \"Topic18\", \"Topic18\", \"Topic18\", \"Topic18\", \"Topic18\", \"Topic18\", \"Topic18\", \"Topic18\", \"Topic18\", \"Topic18\", \"Topic18\", \"Topic18\", \"Topic19\", \"Topic19\", \"Topic19\", \"Topic19\", \"Topic19\", \"Topic19\", \"Topic19\", \"Topic19\", \"Topic19\", \"Topic19\", \"Topic19\", \"Topic19\", \"Topic19\", \"Topic19\", \"Topic19\", \"Topic19\", \"Topic19\", \"Topic19\", \"Topic19\", \"Topic19\", \"Topic19\", \"Topic19\", \"Topic19\", \"Topic19\", \"Topic19\", \"Topic19\", \"Topic19\", \"Topic19\", \"Topic19\", \"Topic19\", \"Topic19\", \"Topic19\", \"Topic20\", \"Topic20\", \"Topic20\", \"Topic20\", \"Topic20\", \"Topic20\", \"Topic20\", \"Topic20\", \"Topic20\", \"Topic20\", \"Topic20\", \"Topic20\", \"Topic20\", \"Topic20\", \"Topic20\", \"Topic20\", \"Topic20\", \"Topic20\", \"Topic20\", \"Topic20\", \"Topic20\", \"Topic20\", \"Topic20\", \"Topic20\", \"Topic20\", \"Topic20\", \"Topic20\", \"Topic20\", \"Topic20\", \"Topic20\"], \"logprob\": [30.0, 29.0, 28.0, 27.0, 26.0, 25.0, 24.0, 23.0, 22.0, 21.0, 20.0, 19.0, 18.0, 17.0, 16.0, 15.0, 14.0, 13.0, 12.0, 11.0, 10.0, 9.0, 8.0, 7.0, 6.0, 5.0, 4.0, 3.0, 2.0, 1.0, -3.3197999000549316, -3.461400032043457, -3.4834001064300537, -3.5434999465942383, -3.684299945831299, -3.885699987411499, -3.986299991607666, -4.077600002288818, -4.118500232696533, -4.121799945831299, -4.131400108337402, -4.174900054931641, -4.190400123596191, -4.206399917602539, -4.214300155639648, -4.3491997718811035, -4.568999767303467, -4.63640022277832, -4.727799892425537, -4.736199855804443, -3.5292000770568848, -4.756499767303467, -4.780900001525879, -3.533099889755249, -4.8003997802734375, -4.825300216674805, -4.845200061798096, -4.855899810791016, -4.857399940490723, -4.857399940490723, -3.9472999572753906, -4.059700012207031, -3.9382998943328857, -4.245200157165527, -4.427800178527832, -4.742400169372559, -3.8575000762939453, -4.552800178527832, -4.144000053405762, -3.8234000205993652, -3.0696001052856445, -3.418100118637085, -3.613800048828125, -3.64520001411438, -3.7109999656677246, -3.964200019836426, -3.990499973297119, -4.070899963378906, -4.246799945831299, -4.275599956512451, -4.3206000328063965, -4.3267998695373535, -4.35260009765625, -4.478899955749512, -4.527299880981445, -4.541200160980225, -4.611499786376953, -4.676199913024902, -4.688799858093262, -4.7006001472473145, -4.717899799346924, -4.752200126647949, -4.759300231933594, -4.7947998046875, -4.842599868774414, -4.852099895477295, -4.854800224304199, -4.85699987411499, -4.874899864196777, -4.929800033569336, -1.7539000511169434, -2.9007999897003174, -3.8036999702453613, -4.454400062561035, -3.946899890899658, -4.528800010681152, -3.206899881362915, -3.2539000511169434, -3.354099988937378, -3.508500099182129, -3.528700113296509, -3.5408999919891357, -3.7874999046325684, -3.8454999923706055, -3.859499931335449, -4.002399921417236, -4.158999919891357, -4.203499794006348, -4.249199867248535, -4.276000022888184, -4.2855000495910645, -4.306300163269043, -4.383900165557861, -4.3846001625061035, -4.42549991607666, -4.448400020599365, -4.44950008392334, -4.495299816131592, -4.535299777984619, -4.579400062561035, -4.585299968719482, -4.61460018157959, -4.638800144195557, -4.654200077056885, -4.6595001220703125, -4.667699813842773, -4.289899826049805, -4.392199993133545, -2.670099973678589, -2.8113999366760254, -2.8680999279022217, -3.00819993019104, -3.103100061416626, -3.159899950027466, -3.3129000663757324, -3.493799924850464, -3.6217000484466553, -3.8011999130249023, -4.026000022888184, -4.057000160217285, -4.127999782562256, -4.169300079345703, -4.207699775695801, -4.247000217437744, -4.333399772644043, -4.3927001953125, -4.405900001525879, -4.477200031280518, -4.569900035858154, -4.698699951171875, -4.727799892425537, -4.784299850463867, -4.8592000007629395, -4.892399787902832, -4.9028000831604, -4.947199821472168, -5.004199981689453, -5.075699806213379, -2.7279000282287598, -4.086900234222412, -3.890399932861328, -3.779099941253662, -2.1059000492095947, -2.2432000637054443, -2.600399971008301, -3.137399911880493, -3.2335000038146973, -3.33270001411438, -3.494800090789795, -3.6084001064300537, -3.72760009765625, -3.7688000202178955, -3.847599983215332, -4.154099941253662, -4.179299831390381, -4.180600166320801, -4.230899810791016, -4.253200054168701, -4.27810001373291, -4.303299903869629, -4.313199996948242, -4.339300155639648, -4.345099925994873, -4.39709997177124, -4.438799858093262, -4.465099811553955, -4.491199970245361, -4.540999889373779, -4.576499938964844, -4.7692999839782715, -4.98769998550415, -5.02400016784668, -4.729599952697754, -4.2600998878479, -3.466200113296509, -2.014400005340576, -2.3541998863220215, -2.8227999210357666, -3.199199914932251, -3.5903000831604004, -3.6387999057769775, -3.6454999446868896, -3.7506000995635986, -3.7588000297546387, -3.881200075149536, -3.980600118637085, -4.125400066375732, -4.2519001960754395, -4.320499897003174, -4.374800205230713, -4.3796000480651855, -4.409900188446045, -4.4120001792907715, -4.44789981842041, -4.4822998046875, -4.50570011138916, -4.506800174713135, -4.533599853515625, -4.5609002113342285, -4.5619001388549805, -4.631400108337402, -4.692999839782715, -4.723499774932861, -4.735000133514404, -4.747700214385986, -3.256999969482422, -3.2637999057769775, -3.3417000770568848, -3.3571999073028564, -3.402400016784668, -3.7184998989105225, -3.7209999561309814, -3.733099937438965, -3.8201000690460205, -3.910099983215332, -3.9414000511169434, -4.005899906158447, -4.031000137329102, -4.035099983215332, -4.079100131988525, -4.114699840545654, -4.259500026702881, -4.26140022277832, -4.313000202178955, -4.332200050354004, -4.404600143432617, -4.432000160217285, -4.450900077819824, -4.5335001945495605, -4.553400039672852, -4.59689998626709, -4.599599838256836, -4.614500045776367, -4.705100059509277, -4.743500232696533, -3.8376998901367188, -4.560500144958496, -4.174200057983398, -1.5853999853134155, -3.190500020980835, -3.2281999588012695, -3.300100088119507, -3.3849000930786133, -3.3893001079559326, -3.6247000694274902, -3.6270999908447266, -3.6524999141693115, -3.6800999641418457, -3.717600107192993, -4.016600131988525, -4.117700099945068, -4.123499870300293, -4.219600200653076, -4.314700126647949, -4.386199951171875, -4.526400089263916, -4.521699905395508, -4.5345001220703125, -4.730400085449219, -4.818699836730957, -4.8403000831604, -4.960700035095215, -4.997799873352051, -5.0142998695373535, -5.073800086975098, -5.102700233459473, -5.1128997802734375, -5.173699855804443, -3.0088000297546387, -3.891700029373169, -2.955399990081787, -3.1846001148223877, -3.200500011444092, -3.283900022506714, -3.391900062561035, -3.4123001098632812, -3.4511001110076904, -3.511699914932251, -3.7363998889923096, -3.7667999267578125, -3.831199884414673, -3.93530011177063, -4.0742998123168945, -4.105000019073486, -4.124899864196777, -4.214300155639648, -4.236999988555908, -4.382299900054932, -4.385200023651123, -4.388599872589111, -4.394499778747559, -4.395899772644043, -4.456999778747559, -4.498899936676025, -4.520599842071533, -4.531099796295166, -4.579899787902832, -4.62060022354126, -4.63129997253418, -4.688199996948242, -3.2379000186920166, -2.949899911880493, -2.9885001182556152, -2.7425999641418457, -3.137399911880493, -3.149199962615967, -3.2060999870300293, -3.6322999000549316, -3.785599946975708, -3.9247000217437744, -3.962899923324585, -4.062399864196777, -4.189499855041504, -4.2758002281188965, -4.323299884796143, -4.33650016784668, -4.339399814605713, -4.364500045776367, -4.407199859619141, -4.415200233459473, -4.4893999099731445, -4.514599800109863, -4.5218000411987305, -4.528299808502197, -4.658199787139893, -4.727399826049805, -4.763800144195557, -4.772500038146973, -4.781899929046631, -4.795899868011475, -4.802800178527832, -3.714200019836426, -3.4184000492095947, -2.8201000690460205, -2.868499994277954, -3.1075000762939453, -3.295300006866455, -3.50600004196167, -3.582900047302246, -3.6663999557495117, -3.7915000915527344, -3.7922000885009766, -3.8420000076293945, -3.8533999919891357, -3.8864998817443848, -3.9077999591827393, -4.008500099182129, -4.012199878692627, -4.089200019836426, -4.106400012969971, -4.246300220489502, -4.2555999755859375, -4.2795000076293945, -4.31790018081665, -4.343599796295166, -4.381199836730957, -4.394599914550781, -4.404099941253662, -4.448500156402588, -4.451099872589111, -4.600299835205078, -4.60260009765625, -4.645899772644043, -4.310100078582764, -3.206399917602539, -2.6995999813079834, -3.1180999279022217, -3.2021000385284424, -3.2098000049591064, -3.25819993019104, -3.2908999919891357, -3.36299991607666, -3.3987998962402344, -3.5232999324798584, -3.5230000019073486, -3.598400115966797, -3.7950000762939453, -3.8422999382019043, -3.8601999282836914, -3.9138998985290527, -3.9660000801086426, -4.127099990844727, -4.164299964904785, -4.182199954986572, -4.1905999183654785, -4.4008002281188965, -4.592700004577637, -4.597400188446045, -4.6178998947143555, -4.63070011138916, -4.656199932098389, -4.702199935913086, -4.713399887084961, -4.713500022888184, -4.7428998947143555, -2.2929000854492188, -2.7151999473571777, -2.937700033187866, -3.148200035095215, -3.1974000930786133, -3.19950008392334, -3.324399948120117, -3.3464999198913574, -3.518199920654297, -3.6875998973846436, -3.750999927520752, -3.856800079345703, -3.869800090789795, -4.062600135803223, -4.1331000328063965, -4.203199863433838, -4.26609992980957, -4.289400100708008, -4.3018999099731445, -4.379000186920166, -4.4679999351501465, -4.641900062561035, -4.678100109100342, -4.693299770355225, -4.709499835968018, -4.736100196838379, -4.764999866485596, -4.81820011138916, -4.845699787139893, -4.864299774169922, -2.3515000343322754, -2.9047999382019043, -2.993499994277954, -3.253999948501587, -3.425600051879883, -3.468100070953369, -3.5244998931884766, -3.5499000549316406, -3.597899913787842, -3.6421000957489014, -3.704900026321411, -3.8269999027252197, -3.8980000019073486, -3.950000047683716, -4.024199962615967, -4.095399856567383, -4.256700038909912, -4.256899833679199, -4.360199928283691, -4.436399936676025, -4.457900047302246, -4.47189998626709, -4.492099761962891, -4.511300086975098, -4.543799877166748, -4.60860013961792, -4.6092000007629395, -4.609799861907959, -4.619500160217285, -4.656700134277344, -2.2207000255584717, -2.645900011062622, -2.8264000415802, -2.9098000526428223, -3.4056999683380127, -3.437999963760376, -3.5766000747680664, -3.59879994392395, -3.661099910736084, -3.782399892807007, -3.907599925994873, -3.9814000129699707, -4.058899879455566, -4.070099830627441, -4.180699825286865, -4.2789998054504395, -4.30620002746582, -4.43149995803833, -4.501399993896484, -4.532100200653076, -4.5507001876831055, -4.570700168609619, -4.588699817657471, -4.597700119018555, -4.602799892425537, -4.669899940490723, -4.697500228881836, -4.729400157928467, -4.742300033569336, -4.892600059509277, -4.822800159454346, -1.523800015449524, -2.8313000202178955, -3.094399929046631, -3.3784000873565674, -3.5834999084472656, -3.632499933242798, -3.65939998626709, -3.814300060272217, -3.853800058364868, -4.0345001220703125, -4.048099994659424, -4.059700012207031, -4.121600151062012, -4.13129997253418, -4.174600124359131, -4.198800086975098, -4.242099761962891, -4.346099853515625, -4.352099895477295, -4.382500171661377, -4.388899803161621, -4.410299777984619, -4.410799980163574, -4.433199882507324, -4.465700149536133, -4.468100070953369, -4.4934000968933105, -4.495999813079834, -4.660200119018555, -4.683199882507324, -3.8280999660491943, -2.3649001121520996, -2.6119000911712646, -2.872299909591675, -2.888700008392334, -3.251699924468994, -3.4962000846862793, -3.4967000484466553, -3.554500102996826, -3.6770999431610107, -3.7904000282287598, -3.9177000522613525, -4.0192999839782715, -4.143099784851074, -4.1539998054504395, -4.177199840545654, -4.36359977722168, -4.03879976272583, -4.548999786376953, -4.554999828338623, -4.674699783325195, -4.677800178527832, -4.692500114440918, -4.726600170135498, -4.734600067138672, -4.797999858856201, -4.809599876403809, -4.8445000648498535, -4.853300094604492, -4.959000110626221, -4.998000144958496, -4.390900135040283, -4.438300132751465, -4.487299919128418, -2.4928998947143555, -2.6034998893737793, -2.777600049972534, -2.834700107574463, -3.2578999996185303, -3.327500104904175, -3.408799886703491, -3.529099941253662, -3.607100009918213, -3.610100030899048, -3.6898000240325928, -3.7669999599456787, -3.941800117492676, -3.963599920272827, -3.9804999828338623, -3.9911999702453613, -3.9967000484466553, -4.122099876403809, -4.144800186157227, -4.357800006866455, -4.420499801635742, -4.478799819946289, -4.515500068664551, -4.525599956512451, -4.570799827575684, -4.643799781799316, -4.651899814605713, -4.695499897003174, -4.6992998123168945, -4.768599987030029, -2.4600000381469727, -2.8631999492645264, -3.0678999423980713, -3.132699966430664, -3.189500093460083, -3.3203001022338867, -3.542099952697754, -3.5497000217437744, -3.549999952316284, -3.5850000381469727, -3.608599901199341, -3.708699941635132, -3.8171000480651855, -3.848400115966797, -3.916100025177002, -3.9465999603271484, -3.952699899673462, -3.9881999492645264, -4.075099945068359, -4.140200138092041, -4.217100143432617, -4.264400005340576, -4.327899932861328, -4.340000152587891, -4.348100185394287, -4.39870023727417, -4.595600128173828, -4.639800071716309, -4.72130012512207, -4.742700099945068, -3.176100015640259, -3.990499973297119, -1.8566999435424805, -2.8534998893737793, -3.2681000232696533, -3.4584999084472656, -3.5717999935150146, -3.6963999271392822, -3.741499900817871, -3.7643001079559326, -3.8443000316619873, -4.155600070953369, -4.272299766540527, -4.2820000648498535, -4.2870001792907715, -4.299699783325195, -4.330100059509277, -4.379799842834473, -4.420499801635742, -4.424699783325195, -4.425300121307373, -4.447500228881836, -4.456399917602539, -4.47189998626709, -4.5019001960754395, -4.50439977645874, -4.549799919128418, -4.590099811553955, -4.593699932098389, -4.596199989318848, -4.722300052642822, -4.796199798583984], \"loglift\": [30.0, 29.0, 28.0, 27.0, 26.0, 25.0, 24.0, 23.0, 22.0, 21.0, 20.0, 19.0, 18.0, 17.0, 16.0, 15.0, 14.0, 13.0, 12.0, 11.0, 10.0, 9.0, 8.0, 7.0, 6.0, 5.0, 4.0, 3.0, 2.0, 1.0, 1.0775, 1.0775, 1.0775, 1.0775, 1.0775, 1.0774, 1.0774, 1.0774, 1.0774, 1.0774, 1.0774, 1.0774, 1.0774, 1.0774, 1.0774, 1.0773, 1.0772, 1.0772, 1.0772, 1.0772, 1.0772, 1.0772, 1.0772, 1.0772, 1.0771, 1.0771, 1.0771, 1.0771, 1.0771, 1.0771, 1.0768, 1.0758, 1.0746, 1.0747, 1.0763, 1.077, 1.0667, 1.0734, 1.0613, 0.9201, 2.1415, 2.1414, 2.1414, 2.1413, 2.1413, 2.1412, 2.1412, 2.1411, 2.141, 2.141, 2.1409, 2.1409, 2.1409, 2.1408, 2.1408, 2.1407, 2.1407, 2.1406, 2.1406, 2.1406, 2.1405, 2.1405, 2.1405, 2.1404, 2.1404, 2.1404, 2.1404, 2.1404, 2.1403, 2.1403, 2.1402, 2.1356, 2.1353, 2.124, 2.0992, 0.2147, 3.0484, 3.0484, 3.0483, 3.0482, 3.0481, 3.0481, 3.0479, 3.0478, 3.0478, 3.0476, 3.0473, 3.0472, 3.0472, 3.0471, 3.0471, 3.0471, 3.0469, 3.0469, 3.0468, 3.0467, 3.0467, 3.0466, 3.0465, 3.0464, 3.0464, 3.0463, 3.0463, 3.0462, 3.0462, 3.0462, 3.0348, 3.0194, 3.0932, 3.0932, 3.0931, 3.0931, 3.093, 3.093, 3.0929, 3.0927, 3.0926, 3.0924, 3.0921, 3.092, 3.0919, 3.0918, 3.0917, 3.0917, 3.0915, 3.0913, 3.0913, 3.0911, 3.0909, 3.0905, 3.0904, 3.0902, 3.09, 3.0899, 3.0898, 3.0896, 3.0894, 3.0891, 3.0588, 3.0488, 3.0037, 2.9816, 3.1116, 3.1116, 3.1115, 3.1112, 3.1111, 3.111, 3.1109, 3.1108, 3.1106, 3.1106, 3.1105, 3.11, 3.11, 3.11, 3.1099, 3.1098, 3.1098, 3.1097, 3.1097, 3.1096, 3.1096, 3.1095, 3.1094, 3.1093, 3.1093, 3.1091, 3.109, 3.1084, 3.1076, 3.1075, 3.1022, 3.0846, 3.045, 3.1891, 3.189, 3.1888, 3.1885, 3.1881, 3.1881, 3.1881, 3.188, 3.188, 3.1878, 3.1876, 3.1874, 3.1871, 3.187, 3.1868, 3.1868, 3.1867, 3.1867, 3.1866, 3.1865, 3.1865, 3.1865, 3.1864, 3.1863, 3.1863, 3.1861, 3.1859, 3.1858, 3.1857, 3.1857, 3.357, 3.357, 3.357, 3.3569, 3.3569, 3.3565, 3.3565, 3.3565, 3.3563, 3.3562, 3.3561, 3.356, 3.3559, 3.3559, 3.3558, 3.3557, 3.3554, 3.3554, 3.3552, 3.3552, 3.355, 3.3549, 3.3548, 3.3546, 3.3545, 3.3543, 3.3543, 3.3543, 3.3539, 3.3538, 3.3533, 3.3537, 3.3027, 3.4351, 3.4344, 3.4343, 3.4342, 3.4341, 3.4341, 3.4338, 3.4338, 3.4338, 3.4337, 3.4337, 3.4331, 3.4329, 3.4329, 3.4326, 3.4323, 3.4321, 3.4316, 3.4316, 3.4316, 3.4308, 3.4304, 3.4303, 3.4296, 3.4294, 3.4293, 3.4289, 3.4287, 3.4287, 3.4283, 3.3663, 3.2373, 3.439, 3.4388, 3.4388, 3.4387, 3.4386, 3.4386, 3.4385, 3.4384, 3.4381, 3.438, 3.4379, 3.4377, 3.4374, 3.4373, 3.4373, 3.4371, 3.437, 3.4366, 3.4365, 3.4365, 3.4365, 3.4365, 3.4363, 3.4362, 3.4361, 3.436, 3.4359, 3.4357, 3.4356, 3.4354, 3.4007, 3.5519, 3.5519, 3.5518, 3.5518, 3.5517, 3.5517, 3.5511, 3.5508, 3.5505, 3.5504, 3.5502, 3.5498, 3.5496, 3.5494, 3.5493, 3.5493, 3.5493, 3.5491, 3.5491, 3.5488, 3.5487, 3.5486, 3.5486, 3.548, 3.5477, 3.5475, 3.5475, 3.5474, 3.5473, 3.5473, 3.5171, 3.2928, 3.5579, 3.5579, 3.5577, 3.5575, 3.5572, 3.5571, 3.5569, 3.5567, 3.5567, 3.5566, 3.5566, 3.5565, 3.5565, 3.5562, 3.5562, 3.556, 3.556, 3.5555, 3.5555, 3.5554, 3.5553, 3.5552, 3.5551, 3.555, 3.555, 3.5548, 3.5548, 3.5542, 3.5542, 3.554, 3.5467, 3.4666, 3.5692, 3.5689, 3.5688, 3.5688, 3.5687, 3.5687, 3.5686, 3.5686, 3.5684, 3.5684, 3.5682, 3.5679, 3.5678, 3.5677, 3.5676, 3.5675, 3.5671, 3.567, 3.5669, 3.5669, 3.5662, 3.5654, 3.5654, 3.5653, 3.5652, 3.5651, 3.5649, 3.5648, 3.5648, 3.5647, 3.6276, 3.6274, 3.6272, 3.627, 3.6269, 3.6269, 3.6268, 3.6267, 3.6265, 3.6262, 3.626, 3.6258, 3.6258, 3.6253, 3.6251, 3.6249, 3.6246, 3.6246, 3.6245, 3.6242, 3.6239, 3.6231, 3.6229, 3.6228, 3.6227, 3.6226, 3.6224, 3.6221, 3.6219, 3.6218, 3.6525, 3.6521, 3.652, 3.6517, 3.6515, 3.6514, 3.6513, 3.6513, 3.6512, 3.6511, 3.651, 3.6507, 3.6505, 3.6504, 3.6502, 3.65, 3.6495, 3.6495, 3.6491, 3.6488, 3.6487, 3.6486, 3.6485, 3.6485, 3.6483, 3.648, 3.648, 3.648, 3.6479, 3.6478, 3.7235, 3.7232, 3.7231, 3.723, 3.7224, 3.7223, 3.7221, 3.722, 3.7219, 3.7216, 3.7213, 3.7211, 3.7209, 3.7208, 3.7205, 3.7201, 3.72, 3.7195, 3.7192, 3.719, 3.7189, 3.7188, 3.7187, 3.7187, 3.7186, 3.7183, 3.7181, 3.7179, 3.7178, 3.7169, 3.6078, 3.7747, 3.774, 3.7738, 3.7733, 3.773, 3.7729, 3.7728, 3.7724, 3.7723, 3.7718, 3.7718, 3.7717, 3.7715, 3.7715, 3.7713, 3.7712, 3.7711, 3.7706, 3.7706, 3.7705, 3.7704, 3.7703, 3.7703, 3.7702, 3.7701, 3.7701, 3.7699, 3.7699, 3.769, 3.7689, 3.7673, 3.7986, 3.7984, 3.7982, 3.7981, 3.7977, 3.7973, 3.7973, 3.7972, 3.7969, 3.7966, 3.7963, 3.796, 3.7955, 3.7955, 3.7954, 3.7946, 3.7945, 3.7937, 3.7937, 3.793, 3.793, 3.7929, 3.7927, 3.7926, 3.7922, 3.7921, 3.7918, 3.7918, 3.791, 3.7906, 2.3204, 2.42, 1.3992, 3.9427, 3.9427, 3.9425, 3.9424, 3.9418, 3.9417, 3.9415, 3.9413, 3.9411, 3.9411, 3.9409, 3.9407, 3.9401, 3.94, 3.94, 3.9399, 3.9399, 3.9394, 3.9393, 3.9383, 3.938, 3.9377, 3.9374, 3.9374, 3.9371, 3.9366, 3.9366, 3.9362, 3.9362, 3.9357, 3.9438, 3.9434, 3.9432, 3.9431, 3.943, 3.9428, 3.9423, 3.9423, 3.9423, 3.9422, 3.9421, 3.9419, 3.9416, 3.9415, 3.9413, 3.9412, 3.9411, 3.941, 3.9407, 3.9404, 3.9401, 3.9399, 3.9396, 3.9395, 3.9395, 3.9392, 3.938, 3.9377, 3.9371, 3.937, 3.8952, 3.8567, 3.9822, 3.9815, 3.9808, 3.9805, 3.9802, 3.9799, 3.9797, 3.9797, 3.9794, 3.9782, 3.9777, 3.9777, 3.9776, 3.9776, 3.9774, 3.9771, 3.9769, 3.9769, 3.9769, 3.9768, 3.9767, 3.9766, 3.9764, 3.9764, 3.9761, 3.9758, 3.9758, 3.9758, 3.9749, 3.9743]}, \"token.table\": {\"Topic\": [2, 3, 7, 3, 5, 17, 17, 10, 12, 1, 13, 2, 4, 16, 2, 5, 12, 14, 10, 17, 7, 2, 13, 1, 2, 15, 7, 10, 7, 20, 18, 9, 13, 16, 18, 12, 11, 12, 18, 19, 20, 17, 4, 3, 9, 19, 1, 2, 5, 4, 1, 4, 11, 11, 16, 11, 7, 14, 9, 18, 8, 17, 17, 3, 8, 9, 5, 17, 14, 10, 4, 8, 2, 19, 11, 6, 1, 13, 1, 2, 12, 3, 6, 13, 6, 4, 7, 6, 10, 4, 12, 19, 2, 15, 17, 14, 13, 17, 1, 2, 17, 14, 6, 11, 7, 11, 16, 20, 2, 17, 8, 17, 13, 7, 2, 1, 4, 5, 5, 11, 5, 5, 7, 14, 3, 13, 14, 7, 19, 5, 18, 6, 15, 5, 20, 17, 8, 4, 10, 5, 18, 9, 2, 11, 17, 5, 13, 8, 18, 13, 12, 12, 19, 1, 3, 17, 3, 11, 16, 2, 3, 20, 7, 5, 10, 13, 9, 11, 4, 4, 5, 13, 6, 20, 7, 4, 17, 9, 20, 6, 16, 16, 14, 3, 1, 2, 16, 11, 8, 13, 17, 2, 2, 9, 18, 18, 8, 11, 14, 4, 9, 9, 11, 9, 3, 2, 15, 19, 13, 5, 1, 17, 13, 5, 10, 15, 14, 6, 18, 15, 6, 8, 19, 8, 20, 4, 10, 11, 18, 6, 14, 14, 20, 4, 13, 16, 15, 5, 4, 17, 1, 2, 1, 1, 6, 4, 7, 12, 6, 7, 15, 3, 20, 16, 6, 10, 6, 19, 2, 3, 17, 3, 15, 5, 8, 16, 9, 9, 5, 4, 17, 17, 17, 3, 3, 11, 17, 6, 6, 15, 9, 8, 7, 7, 11, 5, 13, 14, 10, 16, 2, 16, 10, 6, 11, 14, 13, 14, 5, 19, 18, 19, 11, 1, 6, 10, 17, 2, 17, 6, 20, 3, 9, 15, 11, 6, 16, 9, 4, 17, 11, 14, 8, 3, 3, 11, 12, 14, 13, 8, 9, 12, 9, 14, 7, 8, 18, 2, 4, 8, 14, 1, 6, 2, 3, 19, 7, 4, 15, 3, 1, 2, 12, 8, 12, 1, 2, 4, 8, 10, 18, 1, 2, 15, 7, 17, 6, 11, 5, 18, 19, 4, 7, 19, 4, 5, 8, 6, 8, 2, 17, 14, 13, 14, 15, 16, 3, 4, 17, 3, 19, 17, 3, 1, 19, 8, 5, 19, 10, 10, 9, 1, 2, 17, 1, 2, 2, 18, 9, 10, 14, 20, 13, 2, 2, 20, 16, 8, 6, 19, 18, 11, 16, 17, 4, 12, 20, 7, 11, 9, 18, 15, 3, 20, 2, 1, 15, 10, 19, 17, 3, 16, 14, 16, 6, 19, 10, 12, 7, 1, 4, 10, 20, 20, 7, 4, 17, 13, 13, 2, 1, 3, 6, 11, 2, 10, 10, 20, 5, 4, 10, 7, 12, 4, 6, 12, 7, 6, 19, 4, 3, 7, 11, 18, 11, 1, 12, 15, 5, 17, 18, 18, 19, 18, 8, 17, 15, 5, 3, 7, 12, 19, 7, 16, 1, 3, 3, 19, 12, 15, 4, 18, 4, 10, 1, 3, 3, 9, 2, 16, 1, 10, 19, 16, 18, 9, 11, 1, 17, 9, 15, 2, 16, 19, 14, 9, 12, 5, 2, 20, 12, 16, 14, 8, 15, 20, 20, 20, 7, 4, 5, 20, 7, 10, 9, 3, 10, 16, 20, 5, 18, 7, 9, 12, 14, 10, 3, 7, 12, 11, 14, 19, 8, 2, 12, 4, 18, 6, 16, 10, 1, 2, 6, 16, 10, 9, 17, 18, 9, 18, 13, 11, 17, 11, 1, 8, 3, 9, 17, 5, 15, 20, 20, 7, 15, 19, 20, 1, 2, 17, 12, 18, 13, 1, 1, 19, 13, 20, 9, 17, 15, 4, 1, 2, 17, 10, 2, 17, 13, 15, 2, 13, 4, 15, 3, 17, 14, 14, 16, 16, 12, 12, 8, 17, 15, 1, 8, 6, 5, 7, 8, 1, 2, 4, 19, 16, 4, 17, 10, 12, 8, 8, 2, 13, 1, 20, 14, 1, 19, 5, 15, 19, 1, 8, 17, 16, 17, 15, 12, 15, 5, 15, 18, 1, 18, 2, 13, 20], \"Freq\": [0.99931763619864, 0.9985135240217835, 0.9975753304538172, 0.9982060998416322, 0.9971900139571668, 0.9964750091735657, 0.991053987966053, 0.9973734278420426, 0.9973959246656747, 0.999766361541066, 0.9918455214794405, 0.9986596031290432, 0.9967577049973757, 0.9967528794776246, 0.9990960493030903, 0.9960091466408021, 0.9984511843983872, 0.9944180730213826, 0.964530275723305, 0.03366597821023752, 0.9987718726759417, 0.998213615206571, 0.9994077772218934, 0.9972216823196097, 0.0027382522480069163, 0.9987823811344823, 0.9960732575026224, 0.9980490325951065, 0.9959010852634875, 0.993436524127724, 0.9962082334302534, 0.9982341816562567, 0.996067293284203, 0.9969649784879775, 0.9937738190689703, 0.9991362315601262, 0.9974065643519445, 0.997937434128796, 0.9966408108801107, 0.9984739311289564, 0.9961565536343946, 0.9982886129779066, 0.9988520274423242, 0.9982002133504698, 0.9987532997707224, 0.9981168651101302, 0.9996928087700333, 0.9990540325443189, 0.9984469655530053, 0.9995981379552251, 0.9998735253994407, 0.9969625396071146, 0.9947981127255833, 0.9988339949058007, 0.9967822715901674, 0.9938863544026741, 0.999268353319052, 0.9963328766677239, 0.9989349378170826, 0.9983826715655106, 0.9968228269952919, 0.9957891504208111, 0.9915193968578988, 0.9984883964750944, 0.9983485596903577, 0.9992045946888757, 0.935672028753343, 0.06390754662238245, 0.9949130563389611, 0.9959516492800206, 0.9984504978950802, 0.9961255601474024, 0.9995307824467885, 0.9993383824072511, 0.9978070685175885, 0.998179164595675, 0.9996387831234226, 0.9950925528279924, 0.001495493067015895, 0.9984509912624921, 0.9937901655722637, 0.9982126439812886, 0.998269670917982, 0.9951498816383375, 0.9966083517613121, 0.999451447840968, 0.99862899435112, 0.9991953600440504, 0.9941087841252345, 0.998938974470285, 0.9976303222123581, 0.9978881562681091, 0.9989805898855196, 0.9977628757064761, 0.9962089278336269, 0.9953520174940088, 0.9981025039472122, 0.9992933088220811, 0.9957866593830508, 0.003719406877152312, 0.9991821559683014, 0.9964198005085246, 0.9998158162891472, 0.9986290518811846, 0.9967475516328234, 0.9945689278195589, 0.9929118307031424, 0.9910914444821213, 0.9990570169734844, 0.9896771677909333, 0.8205485630975525, 0.17778552200446973, 0.9993567175951696, 0.9980219748994932, 0.9994679617081605, 0.9998390375562567, 0.9980978560061293, 0.9981180319850181, 0.9981241082475113, 0.9984602974245287, 0.9983386949215057, 0.9983557780364686, 0.9974400459770907, 0.995209589342631, 0.9966986979239238, 0.9978539050424069, 0.9982497926512074, 0.08102500475017906, 0.9162058229443324, 0.9997457217644182, 0.9924653495736, 0.9961774113788868, 0.9942001976168795, 0.9992987974429536, 0.9996625644621621, 0.9960490879158209, 0.995693696569813, 0.9983218614571496, 0.9991698493929725, 0.9911678589418145, 0.006137262284469439, 0.9967821162597524, 0.9983266526717034, 0.9988382581412123, 0.9941048804168724, 0.9987856170187032, 0.9961011145202411, 0.9983071423987198, 0.995931598228442, 0.99766908628284, 0.995518909901577, 0.9942295789319261, 0.9942645019993384, 0.9837352197252603, 0.0017756953424643688, 0.01420556273971495, 0.9996238009956067, 0.9987054493147908, 0.995576791497231, 0.01293636934703267, 0.9850121231383446, 0.9927729712008806, 0.9979669565489526, 0.9990935992920201, 0.9973244742241507, 0.9983872122994069, 0.9958877383310951, 0.9979479195138601, 0.9974031116128607, 0.9992922501297112, 0.9994295526695087, 0.9993530494323964, 0.9989088513445604, 0.9930435015724888, 0.9991107974482305, 0.8937191248334143, 0.10514342645098991, 0.9966070188820376, 0.9958179266651689, 0.9971300177629556, 0.9952186224864783, 0.9949490418000064, 0.9979995705832614, 0.9966370212939171, 0.998170000290169, 0.0016560265454834823, 0.9976616110780279, 0.9989393197604961, 0.9946256784394345, 0.9984716354261126, 0.9976389800463944, 0.9981553681456846, 0.9986875523684432, 0.9983883079230582, 0.9957715547121619, 0.9973514692921263, 0.993936762229886, 0.9982221835573015, 0.9979396376968285, 0.9947529323070732, 0.9966003707260415, 0.9978027254798639, 0.9975676863217879, 0.9990872913354975, 0.9993604310914285, 0.9981296217145981, 0.9938631218544511, 0.9959687270198597, 0.9926891542183068, 0.9975760659400942, 0.9089075024117015, 0.09080301785676748, 0.9965648679445158, 0.9980097201079957, 0.9943456315462157, 0.9924257762111316, 0.9960881559826068, 0.9969376189661909, 0.9966328072952313, 0.9957006804075689, 0.9965675549708214, 0.9979271283888713, 0.9974257872767169, 0.9985365149852969, 0.9925162551559237, 0.9985699363295597, 0.998715579798023, 0.9974871425543473, 0.9925464114335258, 0.9986965545330109, 0.9967554475089364, 0.9962595997657648, 0.9988738545657463, 0.9986956947721299, 0.9976200630407425, 0.9961055221963581, 0.9965020149208874, 0.9938599237215997, 0.9975789798485662, 0.9907102535750147, 0.9996262517674184, 0.00036585076922072165, 0.9994398917082984, 0.9998812504848864, 0.9998539489143948, 0.996946863884003, 0.9956069508707769, 0.995943601827121, 0.9959678244070852, 0.9987907408913588, 0.9978335918986261, 0.9981923957315839, 0.9974108111887644, 0.9967231601169035, 0.9986212724751631, 0.9949845149628591, 0.9992960160725372, 0.9905709207234001, 0.958168734346274, 0.006689685041085694, 0.03447760751944166, 0.9993088816963605, 0.9975692193507443, 0.998607265389116, 0.9971452845687088, 0.9986013786881541, 0.9966175975485232, 0.9964471933985963, 0.9994268209654639, 0.9991254311633857, 0.9983089051095, 0.9990225601527967, 0.9970193013314996, 0.9988524773495275, 0.998388064635594, 0.9121414973892518, 0.08668715392294896, 0.9985853640680111, 0.9987871700569133, 0.9951920451363686, 0.9984999354936166, 0.9957962633659475, 0.9963234322734875, 0.9991002262376899, 0.9969179424348151, 0.9972749072085014, 0.9937939681986996, 0.994443721382693, 0.9974671677622158, 0.9974893425891391, 0.9982015845841389, 0.9965949889624919, 0.9942065359814206, 0.9977442953467598, 0.9971421259582004, 0.9962868812170714, 0.9948457744160276, 0.9991130158028587, 0.9992699991877652, 0.9983129985581422, 0.9913126192470221, 0.9984044939320997, 0.9983651230047361, 0.9998816082286429, 0.9964143998967683, 0.7715688385480629, 0.22816821684689798, 0.9993551114308836, 0.9977728155854032, 0.9981273872736628, 0.9981650625369098, 0.9984689563537624, 0.9979188585272032, 0.9957909559058062, 0.997284986132485, 0.99865276393431, 0.9991515725177755, 0.9994343704677215, 0.9996401500127101, 0.9971389623069984, 0.9986190053042632, 0.9949900524123124, 0.9987210095483482, 0.9982570361465473, 0.9983086587900232, 0.998636350797326, 0.9984561462203336, 0.9946074384488718, 0.9971609649098419, 0.9980034155726766, 0.999015495712028, 0.9991202964925471, 0.9988731414465017, 0.9971302344345946, 0.9974311447076686, 0.9968710029566377, 0.9962816709248341, 0.9934481886977282, 0.006009691229907151, 0.9998724020202928, 0.9991434776352885, 0.9996950062764407, 0.9996958460300932, 0.9822896490924274, 0.01664897710326148, 0.9926174054270158, 0.9950996696398834, 0.10611059691731564, 0.8879781531501677, 0.9963476481509678, 0.9995299846403102, 0.00036724922889417395, 0.9927974982544515, 0.9984224993858068, 0.9951929645161192, 0.9996567895186638, 0.9989070275454782, 0.998334749225251, 0.9943267795351279, 0.9970493639764464, 0.9959695426345269, 0.9995764267153942, 0.000410166773375213, 0.9995677680305313, 0.9468947571515725, 0.05164880493554031, 0.00943934989950302, 0.9879852894813161, 0.9989468060046336, 0.9950941991007202, 0.9939623705116611, 0.9991493496109615, 0.9981777373011325, 0.9963474334899437, 0.9143380074472574, 0.08530617415079536, 0.9923721936444285, 0.9961380876554023, 0.9964282993680693, 0.993829102312327, 0.005999345646858039, 0.9955181821251758, 0.9966691141587932, 0.9995112685954277, 0.9992468802617406, 0.9968907116027927, 0.9965390231487833, 0.956207523474574, 0.04283809705166092, 0.9991466730054436, 0.9932136748054123, 0.9947540263860767, 0.9982484619383344, 0.9996447469532668, 0.9959660001794507, 0.9962516255428332, 0.9963737652214756, 0.9973726778577351, 0.9949211187115325, 0.9951280733157228, 0.9948601203742626, 0.9997674528540902, 0.003073296792417986, 0.9957481607434274, 0.9993482006273, 0.9994190628407902, 0.9994660758014741, 0.9994236827186656, 0.998706431001762, 0.996385294129999, 0.9975089562561402, 0.9954325460088878, 0.9985041897772601, 0.9994228357442946, 0.9987033939230046, 0.9952558391492738, 0.9977060010726091, 0.9985852226096066, 0.9989387944108696, 0.998550637993369, 0.9970083025440096, 0.9980124817518594, 0.9933561356438244, 0.004845639686067436, 0.9990942936614662, 0.9963167278249526, 0.9965491776856404, 0.996355538320557, 0.9971032666556199, 0.9987080034292148, 0.9993845410082347, 0.9993738731134904, 0.9988292105057154, 0.9933567983480577, 0.9995696471688449, 0.9999238518629294, 0.9936696681359787, 0.9976960745212949, 0.9987973557086014, 0.9923267297888854, 0.9971219677857874, 0.9975494594998103, 0.9983286472795686, 0.9927475459737757, 0.047337423297977646, 0.9524863354502168, 0.9959629139439503, 0.9974456116000847, 0.9975424289378199, 0.999453369086094, 0.9970107148445548, 0.9928472956946004, 0.992458619972476, 0.9975385890231888, 0.999133809766016, 0.999459813599233, 0.9910804500001981, 0.9994015100387389, 0.9910791785580284, 0.999164852456918, 0.9994231942824551, 0.9988204967181725, 0.9953052792243343, 0.9982921770705332, 0.998273471995341, 0.9993166319072535, 0.9974037039160468, 0.99327048147364, 0.9944741784320095, 0.9960269421177571, 0.9968406530498032, 0.9972951665798248, 0.9980086543306809, 0.9972950072338334, 0.9979006856278883, 0.9972929855815993, 0.9977583963068741, 0.9976506234936597, 0.9984518144656792, 0.9990403400279166, 0.9987023438788845, 0.9971079262083746, 0.9977498323765622, 0.9984731498515876, 0.9932357930167328, 0.9998545331779638, 0.9984138937069721, 0.9958848041625287, 0.9969827346789721, 0.9991789727156972, 0.9939430719035642, 0.9941127264890447, 0.9979133683059057, 0.992259856297478, 0.9991119905622275, 0.9930835907661517, 0.9976472772269749, 0.9976255240000936, 0.003233454801345467, 0.9959040788144038, 0.9966675661790705, 0.9985973929691204, 0.9959747092499835, 0.9972217056461488, 0.9996387334480855, 0.9982866537491379, 0.9989594494399971, 0.9971583647240947, 0.9971291006063489, 0.9994068694934097, 0.9952075203358849, 0.9952526818127119, 0.0006595600704329075, 0.9992335067058549, 0.9997138875131828, 0.9989441283509555, 0.9973424494856811, 0.9971106344582097, 0.9989287596318687, 0.9951268336384149, 0.9998922026905278, 0.9959464274916161, 0.996329354284714, 0.9981086736276169, 0.9982909580869224, 0.9987139015405454, 0.9976948082869974, 0.9891004606179132, 0.010723772569802888, 0.9942351876464455, 0.9970690859255663, 0.9992412183610594, 0.9977507925492374, 0.9986424382275062, 0.9989958277812477, 0.9979408771310052, 0.9966446519654465, 0.998392457017227, 0.9982567683080604, 0.9907483347592775, 0.9983737114755458, 0.9980070830749326, 0.9976748701994143, 0.9986609873998141, 0.9962736560714861, 0.9950183616850162, 0.9915779437213886, 0.9946898498586164, 0.998860359264649, 0.02451105709139903, 0.9729004199355308, 0.998582029224142, 0.9966427132157372, 0.9984770254383576, 0.9982553170648782, 0.9973522932393931, 0.9993846209219058, 0.9963804933106896, 0.9965296520913602, 0.996856146177233, 0.9964345370016409, 0.9964226537362897, 0.9952972116365443, 0.998861427125316, 0.9988411866007496, 0.9945077918777788, 0.9990528050386887, 0.9984901793795363, 0.9926412854419366, 0.9968031176155201, 0.9972069000896202, 0.9961680745461393, 0.9974945241899876, 0.9985885613797338, 0.9987026380747278, 0.9970282096934168, 0.9974731894925497, 0.9984076361948421, 0.9928225657163399, 0.9981966834116636, 0.998676244105816, 0.0008978210165769997, 0.9985804861607895, 0.9961511788490556, 0.9958106346476495, 0.9969582345417316, 0.9986963435968178, 0.9902810583164025, 0.9983194424424705, 0.995598154302768, 0.9987069504122505, 0.9958207495493817, 0.9977225999503435, 0.9985601671160949, 0.9994024925184356, 0.9967082537667352, 0.008375235940707743, 0.961290969639011, 0.028848034906882224, 0.9996056028644414, 0.99514971935954, 0.9962195798462407, 0.993396091410078, 0.9987202592467969, 0.9956373680944268, 0.9979934614517013, 0.9940741765876493, 0.8542368966017184, 0.14561333049981806, 0.9991508369825896, 0.9981919953372362, 0.9989685279950645, 0.997053845439175, 0.9997144677720352, 0.9997973031551264, 0.9958624342146575, 0.9987334918408247, 0.9978276944756627, 0.997728647050816, 0.9941841848501779, 0.9966174862835223, 0.9961074600754848, 0.997038423033586, 0.0025635515009128015, 0.00036622164298754305, 0.999136873030837, 0.7466070229494555, 0.2515741055590557, 0.9961789912798625, 0.9972005668136518, 0.9979627877022217, 0.9925196938137637, 0.9945242259466324, 0.9964784581198758, 0.971681948399575, 0.026207189479656588, 0.9984497653524365, 0.9986604640902693, 0.9970016732260152, 0.9997697591812571, 0.9987500990598979, 0.9926537800952202, 0.9988609479203853, 0.9947197705386069, 0.9941752200663754, 0.999539822172827, 0.9988727712150078, 0.998213474392132, 0.99854279331805, 0.998503025702402, 0.994573785292312, 0.9992204470698224, 0.00018517799241471876, 0.0003703559848294375, 0.9959162038816706, 0.994716854580686, 0.9659363605771785, 0.03374623536747232, 0.9975939117396755, 0.9991532339215198, 0.9980171957854991, 0.9921944002793607, 0.999407831613794, 0.9944562957305926, 0.999670457829631, 0.9885494348524133, 0.996765502382403, 0.9997383076289094, 0.9957669705795962, 0.9986299622199877, 0.9990088599384208, 0.9976267651116847, 0.999788537983648, 0.9331750170034027, 0.06578705100713643, 0.9943252818892985, 0.9953045305480126, 0.996355578030189, 0.9981609435568586, 0.9971205943976992, 0.9997056119652151, 0.9951599309478332, 0.998119657831296, 0.9998476203358867, 0.9982935828881011, 0.9997499315222843, 0.9959237544034398, 0.9988801801092756], \"Term\": [\"able\", \"acceleration\", \"access\", \"accident\", \"account\", \"acronym\", \"acronym_bot\", \"action\", \"actual\", \"actually\", \"ad\", \"add\", \"advantage\", \"aerodynamic\", \"afford\", \"ago\", \"agree\", \"ahead\", \"air\", \"air\", \"allow\", \"almost\", \"already\", \"also\", \"also\", \"amazing\", \"american\", \"amount\", \"answer\", \"anymore\", \"anyway\", \"app\", \"apparently\", \"apple\", \"appreciate\", \"area\", \"argument\", \"around\", \"article\", \"ask\", \"ass\", \"autopilot\", \"average\", \"avoid\", \"away\", \"awesome\", \"back\", \"base\", \"basically\", \"battery\", \"be\", \"beat\", \"beautiful\", \"become\", \"bed\", \"begin\", \"believe\", \"benefit\", \"bit\", \"black\", \"body\", \"bottom\", \"brain\", \"brake\", \"brand\", \"break\", \"build\", \"build\", \"bunch\", \"burn\", \"business\", \"button\", \"buy\", \"call\", \"camera\", \"camping\", \"can\", \"capacity\", \"car\", \"car\", \"cash\", \"cause\", \"certain\", \"certainly\", \"chance\", \"charge\", \"cheap\", \"check\", \"choice\", \"city\", \"class\", \"clear\", \"close\", \"co\", \"code\", \"cold\", \"color\", \"com\", \"come\", \"come\", \"comment\", \"common\", \"company\", \"compare\", \"computer\", \"concept\", \"confirm\", \"congrat\", \"consider\", \"context\", \"control\", \"control\", \"cool\", \"correct\", \"cost\", \"could\", \"country\", \"couple\", \"course\", \"cover\", \"crash\", \"crazy\", \"create\", \"curious\", \"cut\", \"damage\", \"damn\", \"datum\", \"datum\", \"day\", \"debt\", \"decision\", \"deep\", \"definitely\", \"delete\", \"delivery\", \"demand\", \"depend\", \"design\", \"die\", \"die\", \"diesel\", \"difference\", \"different\", \"display\", \"do\", \"dog\", \"door\", \"double\", \"doubt\", \"downvote\", \"drag\", \"dream\", \"drive\", \"drive\", \"drive\", \"driver\", \"drop\", \"dude\", \"due\", \"due\", \"dumb\", \"easily\", \"easy\", \"eat\", \"edit\", \"effect\", \"efficiency\", \"efficient\", \"electric\", \"elon\", \"else\", \"employee\", \"empty\", \"energy\", \"engine\", \"engine\", \"engineer\", \"engineering\", \"enjoy\", \"enter\", \"entire\", \"especially\", \"ev\", \"even\", \"even\", \"event\", \"ever\", \"exact\", \"exactly\", \"expand\", \"expect\", \"expensive\", \"experience\", \"explain\", \"extra\", \"eye\", \"face\", \"fact\", \"factor\", \"fair\", \"fall\", \"fan\", \"far\", \"fast\", \"feature\", \"field\", \"fight\", \"file\", \"fire\", \"first\", \"first\", \"fit\", \"fix\", \"flat\", \"fly\", \"folk\", \"follow\", \"food\", \"foot\", \"force\", \"forward\", \"friend\", \"front\", \"fucking\", \"fuel\", \"full\", \"fully\", \"function\", \"future\", \"gain\", \"game\", \"garage\", \"gas\", \"gate\", \"gear\", \"generally\", \"generate\", \"generation\", \"german\", \"get\", \"get\", \"give\", \"go\", \"good\", \"government\", \"green\", \"ground\", \"grow\", \"guess\", \"hand\", \"handle\", \"happy\", \"hate\", \"hear\", \"hell\", \"help\", \"here\", \"high\", \"high\", \"high\", \"hit\", \"hold\", \"home\", \"honestly\", \"hope\", \"hopefully\", \"hot\", \"hour\", \"house\", \"http\", \"https\", \"https_www\", \"huge\", \"human\", \"ice\", \"ice\", \"idea\", \"imagine\", \"immediately\", \"impact\", \"impossible\", \"improve\", \"include\", \"increase\", \"industry\", \"info\", \"inside\", \"instal\", \"install\", \"instead\", \"insurance\", \"interested\", \"interesting\", \"interior\", \"invest\", \"involve\", \"issue\", \"job\", \"joke\", \"jump\", \"kid\", \"kind\", \"know\", \"lack\", \"large\", \"large\", \"last\", \"last_usage\", \"late\", \"launch\", \"law\", \"lay\", \"lbs\", \"lead\", \"learn\", \"least\", \"leave\", \"less\", \"letter\", \"level\", \"lie\", \"light\", \"likely\", \"limit\", \"line\", \"link\", \"list\", \"listen\", \"literally\", \"little\", \"live\", \"load\", \"local\", \"location\", \"lock\", \"lol\", \"long\", \"long\", \"look\", \"lose\", \"lot\", \"love\", \"low\", \"low\", \"machine\", \"main\", \"maintain\", \"maintain\", \"major\", \"make\", \"make\", \"makes_sense\", \"man\", \"manufacture\", \"many\", \"market\", \"marketing\", \"mass\", \"massive\", \"match\", \"may\", \"may\", \"mean\", \"medium\", \"medium\", \"meet\", \"meet\", \"mention\", \"message\", \"middle\", \"mile\", \"mind\", \"mine\", \"minute\", \"minute\", \"mirror\", \"miss\", \"mission\", \"model\", \"model\", \"modern\", \"moment\", \"money\", \"month\", \"morning\", \"mostly\", \"motor\", \"motor\", \"move\", \"movie\", \"mpg\", \"mph\", \"much\", \"multiple\", \"music\", \"musk\", \"name\", \"nearly\", \"necessary\", \"nee\", \"need\", \"network\", \"network\", \"never\", \"new\", \"next\", \"nice\", \"night\", \"none\", \"normal\", \"notice\", \"oil\", \"old\", \"one\", \"online\", \"op\", \"open\", \"option\", \"order\", \"original\", \"otherwise\", \"own\", \"own\", \"owner\", \"pack\", \"package\", \"paint\", \"panel\", \"park\", \"parking\", \"part\", \"pass\", \"passenger\", \"pay\", \"people\", \"perhaps\", \"personal\", \"phone\", \"phrase\", \"pick\", \"pickup\", \"picture\", \"piece\", \"plan\", \"plan\", \"planet\", \"play\", \"plug\", \"point\", \"police\", \"policy\", \"popular\", \"position\", \"possible\", \"power\", \"practical\", \"pretty\", \"prevent\", \"price\", \"probably\", \"problem\", \"process\", \"produce\", \"product\", \"production\", \"profit\", \"project\", \"prototype\", \"prove\", \"provide\", \"public\", \"pull\", \"pump\", \"purchase\", \"quality\", \"question\", \"quick\", \"race\", \"range\", \"rate\", \"rather\", \"reach\", \"read\", \"reality\", \"really\", \"rear\", \"recently\", \"record\", \"reddit\", \"reliable\", \"remain\", \"remember\", \"remind\", \"remove\", \"rent\", \"repair\", \"report\", \"require\", \"require\", \"response\", \"rest\", \"result\", \"rich\", \"right\", \"risk\", \"road\", \"rocket\", \"roll\", \"roof\", \"room\", \"rule\", \"run\", \"run\", \"s\", \"safe\", \"safety\", \"sale\", \"save\", \"saving\", \"say\", \"scale\", \"school\", \"screen\", \"seat\", \"second\", \"security\", \"see\", \"see\", \"self\", \"self_driving\", \"sell\", \"semi\", \"send\", \"sense\", \"sensor\", \"seriously\", \"service\", \"set\", \"setup\", \"share\", \"short\", \"should\", \"side\", \"sign\", \"significant\", \"silly\", \"silver\", \"similar\", \"single\", \"single\", \"sit\", \"site\", \"size\", \"sleep\", \"slow\", \"small\", \"solution\", \"somehow\", \"sometimes\", \"somewhere\", \"sorry\", \"sort\", \"source\", \"space\", \"special\", \"speed\", \"spend\", \"spin\", \"sport\", \"spot\", \"stage\", \"stand\", \"standard\", \"state\", \"station\", \"status\", \"stay\", \"steal\", \"step\", \"still\", \"still\", \"stock\", \"store\", \"street\", \"style\", \"sub\", \"subject\", \"suck\", \"summon\", \"super\", \"supply\", \"support\", \"suppose\", \"sure\", \"sweet\", \"system\", \"system\", \"system\", \"take\", \"target\", \"team\", \"technically\", \"technology\", \"temperature\", \"term\", \"terrible\", \"tesla\", \"tesla\", \"teslamotors_comment\", \"test\", \"thank\", \"there\", \"thing\", \"think\", \"thinking\", \"though\", \"thought\", \"thousand\", \"thread_fewer\", \"throw\", \"tile\", \"time\", \"time\", \"time\", \"tire\", \"today\", \"today\", \"together\", \"ton\", \"top\", \"touch\", \"town\", \"traditional\", \"traffic\", \"traffic\", \"trailer\", \"travel\", \"trip\", \"truck\", \"true\", \"truly\", \"trump\", \"trunk\", \"trust\", \"try\", \"turn\", \"tweet\", \"twitter\", \"type\", \"ugly\", \"use\", \"use\", \"use\", \"user\", \"utility\", \"vehicle\", \"vehicle\", \"version\", \"video\", \"view\", \"vision\", \"wait\", \"walk\", \"want\", \"warm\", \"waste\", \"way\", \"wear\", \"week\", \"weight\", \"weird\", \"well\", \"wheel\", \"wheel\", \"white\", \"wiki\", \"willing\", \"window\", \"wonder\", \"work\", \"worry\", \"worth\", \"would\", \"write\", \"year\", \"yesterday\", \"yet\"]}, \"R\": 30, \"lambda.step\": 0.01, \"plot.opts\": {\"xlab\": \"PC1\", \"ylab\": \"PC2\"}, \"topic.order\": [19, 3, 9, 1, 8, 4, 6, 20, 11, 18, 14, 12, 13, 10, 17, 7, 5, 16, 15, 2]};\n",
       "\n",
       "function LDAvis_load_lib(url, callback){\n",
       "  var s = document.createElement('script');\n",
       "  s.src = url;\n",
       "  s.async = true;\n",
       "  s.onreadystatechange = s.onload = callback;\n",
       "  s.onerror = function(){console.warn(\"failed to load library \" + url);};\n",
       "  document.getElementsByTagName(\"head\")[0].appendChild(s);\n",
       "}\n",
       "\n",
       "if(typeof(LDAvis) !== \"undefined\"){\n",
       "   // already loaded: just create the visualization\n",
       "   !function(LDAvis){\n",
       "       new LDAvis(\"#\" + \"ldavis_el421451404063142147847714307500\", ldavis_el421451404063142147847714307500_data);\n",
       "   }(LDAvis);\n",
       "}else if(typeof define === \"function\" && define.amd){\n",
       "   // require.js is available: use it to load d3/LDAvis\n",
       "   require.config({paths: {d3: \"https://cdnjs.cloudflare.com/ajax/libs/d3/3.5.5/d3.min\"}});\n",
       "   require([\"d3\"], function(d3){\n",
       "      window.d3 = d3;\n",
       "      LDAvis_load_lib(\"https://cdn.rawgit.com/bmabey/pyLDAvis/files/ldavis.v1.0.0.js\", function(){\n",
       "        new LDAvis(\"#\" + \"ldavis_el421451404063142147847714307500\", ldavis_el421451404063142147847714307500_data);\n",
       "      });\n",
       "    });\n",
       "}else{\n",
       "    // require.js not available: dynamically load d3 & LDAvis\n",
       "    LDAvis_load_lib(\"https://cdnjs.cloudflare.com/ajax/libs/d3/3.5.5/d3.min.js\", function(){\n",
       "         LDAvis_load_lib(\"https://cdn.rawgit.com/bmabey/pyLDAvis/files/ldavis.v1.0.0.js\", function(){\n",
       "                 new LDAvis(\"#\" + \"ldavis_el421451404063142147847714307500\", ldavis_el421451404063142147847714307500_data);\n",
       "            })\n",
       "         });\n",
       "}\n",
       "</script>"
      ],
      "text/plain": [
       "PreparedData(topic_coordinates=              x         y  topics  cluster       Freq\n",
       "topic                                                \n",
       "18    -0.374266 -0.204751       1        1  34.040880\n",
       "2     -0.273781  0.138540       2        1  11.744702\n",
       "8     -0.021366 -0.075066       3        1   4.740307\n",
       "0     -0.019992  0.270847       4        1   4.533623\n",
       "7     -0.004388  0.099981       5        1   4.451834\n",
       "3      0.016519 -0.137164       6        1   4.120043\n",
       "5      0.032763 -0.032306       7        1   3.480458\n",
       "19     0.019223  0.084084       8        1   3.221452\n",
       "10     0.039268 -0.043499       9        1   3.207188\n",
       "17     0.044404  0.057215      10        1   2.864461\n",
       "13     0.049684  0.002756      11        1   2.847556\n",
       "11     0.055713 -0.055150      12        1   2.815798\n",
       "12     0.062779 -0.049988      13        1   2.656658\n",
       "9      0.059550 -0.051440      14        1   2.591321\n",
       "16     0.065152 -0.022349      15        1   2.413764\n",
       "6      0.060868 -0.047990      16        1   2.293698\n",
       "4     -0.064753  0.172163      17        1   2.238882\n",
       "15     0.079074 -0.034541      18        1   1.937919\n",
       "14     0.086001 -0.040496      19        1   1.935877\n",
       "1      0.087547 -0.030845      20        1   1.863578, topic_info=         Term          Freq         Total Category  logprob  loglift\n",
       "36        car  16716.000000  16716.000000  Default  30.0000  30.0000\n",
       "175      look   5419.000000   5419.000000  Default  29.0000  29.0000\n",
       "2202    truck   4103.000000   4103.000000  Default  28.0000  28.0000\n",
       "13       good   4513.000000   4513.000000  Default  27.0000  27.0000\n",
       "129      work   4450.000000   4450.000000  Default  26.0000  26.0000\n",
       "...       ...           ...           ...      ...      ...      ...\n",
       "264   congrat    155.329442    156.393238  Topic20  -4.5901   3.9758\n",
       "2618   silver    154.763671    155.827467  Topic20  -4.5937   3.9758\n",
       "1600    setup    154.374265    155.438061  Topic20  -4.5962   3.9758\n",
       "1657    silly    136.091332    137.155128  Topic20  -4.7223   3.9749\n",
       "2712     warm    126.395687    127.459483  Topic20  -4.7962   3.9743\n",
       "\n",
       "[672 rows x 6 columns], token_table=      Topic      Freq          Term\n",
       "term                               \n",
       "463       2  0.999318          able\n",
       "1878      3  0.998514  acceleration\n",
       "475       7  0.997575        access\n",
       "353       3  0.998206      accident\n",
       "259       5  0.997190       account\n",
       "...     ...       ...           ...\n",
       "49        1  0.999848         would\n",
       "1305     18  0.998294         write\n",
       "391       2  0.999750          year\n",
       "3188     13  0.995924     yesterday\n",
       "474      20  0.998880           yet\n",
       "\n",
       "[688 rows x 3 columns], R=30, lambda_step=0.01, plot_opts={'xlab': 'PC1', 'ylab': 'PC2'}, topic_order=[19, 3, 9, 1, 8, 4, 6, 20, 11, 18, 14, 12, 13, 10, 17, 7, 5, 16, 15, 2])"
      ]
     },
     "execution_count": 27,
     "metadata": {},
     "output_type": "execute_result"
    }
   ],
   "source": [
    "# Visualize the topics\n",
    "pyLDAvis.enable_notebook()\n",
    "vis = pyLDAvis.gensim.prepare(lda_model, corpus, id2word)\n",
    "vis"
   ]
  },
  {
   "cell_type": "markdown",
   "metadata": {},
   "source": [
    "## Indexación de documentos mediante Whoosh"
   ]
  },
  {
   "cell_type": "markdown",
   "metadata": {},
   "source": [
    "[Whoosh](https://whoosh.readthedocs.io/en/latest/quickstart.html) es una librería para Python que nos permite indexar documentos. Esto quiere decir que se puede realizar una búsqueda de los mismos por medio de una simple consulta, y esta devolverá todos los documentos relevantes para la misma. Vamos a inicializarla y a realizar algunas consultas para probar su funcionamiento. Pero primero, es necesario importar todas las librerías necesarias para su funcionamiento:"
   ]
  },
  {
   "cell_type": "code",
   "execution_count": 28,
   "metadata": {},
   "outputs": [],
   "source": [
    "from whoosh.fields import *\n",
    "from whoosh.index import create_in\n",
    "from whoosh.qparser import QueryParser\n",
    "from whoosh.index import open_dir\n",
    "from whoosh.query import *"
   ]
  },
  {
   "cell_type": "markdown",
   "metadata": {},
   "source": [
    "El esquema que he definido para el almacenamiento de los documentos se basa en solo dos campos para mantenerlo simple. El campo _title_ almacenará los títulos de los posts, mientras que el _content_ se encargará de almacenar tanto el _body_ de los posts, como los comentarios de los mismos."
   ]
  },
  {
   "cell_type": "code",
   "execution_count": 29,
   "metadata": {},
   "outputs": [],
   "source": [
    "schema = Schema(title=TEXT(stored = True), content=TEXT(stored= True))"
   ]
  },
  {
   "cell_type": "markdown",
   "metadata": {},
   "source": [
    "Creamos una carpeta para la indexación en caso de que no exista, y lo cargamos."
   ]
  },
  {
   "cell_type": "code",
   "execution_count": 30,
   "metadata": {
    "scrolled": true
   },
   "outputs": [],
   "source": [
    "if not os.path.exists(\"index\"):\n",
    "    os.mkdir(\"index\")\n",
    "    ix = create_in(\"index\", schema)\n",
    "# Cargamos el index\n",
    "ix = open_dir(\"index\")"
   ]
  },
  {
   "cell_type": "markdown",
   "metadata": {},
   "source": [
    "A continuación, vamos a llenar el indice con el archivo `new.xml` (por elegir uno). Dado que esta vez si que diferenciamos entre el título de un post y su contenido, debemos definir un nuevo método de extracción del fichero `xml`, ya que el desarrollado para el objetivo principal de la práctica no se ajusta a nuestras necesidades, pues devuelve una lista con todo el texto sin diferenciar entre títulos y cuerpos."
   ]
  },
  {
   "cell_type": "code",
   "execution_count": 31,
   "metadata": {},
   "outputs": [],
   "source": [
    "# Le pasamos el nombre del fichero y el writer de Whoosh\n",
    "def extract_XML_ix(filename, writer):\n",
    "    tree = ET.ElementTree(file = filename)\n",
    "    root = tree.getroot()\n",
    "    for doc in root:\n",
    "        if 'title' in doc.attrib:\n",
    "            if doc.text:\n",
    "                writer.add_document(title=doc.attrib[\"title\"], content=doc.text)\n",
    "        else:\n",
    "            writer.add_document(content=doc.text)\n",
    "    writer.commit()"
   ]
  },
  {
   "cell_type": "code",
   "execution_count": 32,
   "metadata": {},
   "outputs": [],
   "source": [
    "writer = ix.writer()\n",
    "collection = extract_XML_ix(\"new.xml\", writer)"
   ]
  },
  {
   "cell_type": "markdown",
   "metadata": {},
   "source": [
    "Ahora vamos a probar a realizar una búsqueda que contenga la palabra \"Tesla\". Siendo un subreddit dedicado a la marca, no debe ser complicado encontrar algún _match_. Dado que no incluyo el atributo _limit_ en el método `search`, solo se me devolverán los 10 primeros resultados, pero puedo consultar el total."
   ]
  },
  {
   "cell_type": "code",
   "execution_count": 33,
   "metadata": {},
   "outputs": [
    {
     "name": "stdout",
     "output_type": "stream",
     "text": [
      "<Top 10 Results for Term('content', 'tesla') runtime=0.10234807500000898>\n",
      "Total de resultados:  18366\n",
      "<Hit {'content': '\"not to excuse Tesla, but....\" <defends Tesla>😂😂\\n'}>\n",
      "<Hit {'content': '\"not to excuse Tesla, but....\" <defends Tesla>😂😂\\n'}>\n",
      "<Hit {'content': '\"not to excuse Tesla, but....\" <defends Tesla>😂😂\\n'}>\n",
      "<Hit {'content': \"This is the best I found: [https://tesla-info.com/blog/tesla-model-history.php](https://tesla-info.com/blog/tesla-model-history.php)\\n\\nHowever, it doesn't track range\\n\"}>\n",
      "<Hit {'content': \"This is the best I found: [https://tesla-info.com/blog/tesla-model-history.php](https://tesla-info.com/blog/tesla-model-history.php)\\n\\nHowever, it doesn't track range\\n\"}>\n",
      "<Hit {'content': \"This is the best I found: [https://tesla-info.com/blog/tesla-model-history.php](https://tesla-info.com/blog/tesla-model-history.php)\\n\\nHowever, it doesn't track range\\n\"}>\n",
      "<Hit {'content': \"They do not.\\n\\nSource: I'm the guy that maintains the Tesla API documentation: [https://tesla-api.timdorr.com/](https://tesla-api.timdorr.com/)\\n\"}>\n",
      "<Hit {'content': \"They do not.\\n\\nSource: I'm the guy that maintains the Tesla API documentation: [https://tesla-api.timdorr.com/](https://tesla-api.timdorr.com/)\\n\"}>\n",
      "<Hit {'content': \"They do not.\\n\\nSource: I'm the guy that maintains the Tesla API documentation: [https://tesla-api.timdorr.com/](https://tesla-api.timdorr.com/)\\n\"}>\n",
      "<Hit {'content': 'Tesla doesn’t need a charger there, YOU need it.... (or your Tesla)\\n'}>\n"
     ]
    }
   ],
   "source": [
    "parser = QueryParser(\"content\", ix.schema)\n",
    "myquery = parser.parse(\"tesla\")\n",
    "with ix.searcher() as searcher:\n",
    "    results = searcher.search(myquery)\n",
    "    print(results)\n",
    "    print(\"Total de resultados: \", len(results))\n",
    "    for r in results:\n",
    "        print(r)"
   ]
  },
  {
   "cell_type": "markdown",
   "metadata": {},
   "source": [
    "Como se puede observar, se obtienen un total de 6122 resultados en 0.04 segundos, por lo que confirmamos que funciona. Ahora vamos a probar una consulta algo más complicada. Quiero todos los posts o comentarios que incluyan las palabras _engine_ y _battery_."
   ]
  },
  {
   "cell_type": "code",
   "execution_count": 34,
   "metadata": {},
   "outputs": [
    {
     "name": "stdout",
     "output_type": "stream",
     "text": [
      "<Top 10 Results for And([Term('content', 'engine'), Term('content', 'battery')]) runtime=0.012251083000023755>\n",
      "Total de resultados:  90\n",
      "<Hit {'content': 'Not all are BEVs (battery electric vehicle), some are PHEVs (plug in hybrids, short range battery with an gas engine as range extender)\\n'}>\n",
      "<Hit {'content': 'Not all are BEVs (battery electric vehicle), some are PHEVs (plug in hybrids, short range battery with an gas engine as range extender)\\n'}>\n",
      "<Hit {'content': 'Not all are BEVs (battery electric vehicle), some are PHEVs (plug in hybrids, short range battery with an gas engine as range extender)\\n'}>\n",
      "<Hit {'content': \"A powertrain like in the Mercedes GLE PHEV would be good for someone who tows things regularly. I think it's a 33KWh battery and a diesel engine.\\n\"}>\n",
      "<Hit {'content': \"A powertrain like in the Mercedes GLE PHEV would be good for someone who tows things regularly. I think it's a 33KWh battery and a diesel engine.\\n\"}>\n",
      "<Hit {'content': \"A powertrain like in the Mercedes GLE PHEV would be good for someone who tows things regularly. I think it's a 33KWh battery and a diesel engine.\\n\"}>\n",
      "<Hit {'content': 'It\\'s the \"depth\" the battery is used and charge. A Prius Hybrid battery for example would restrict the state of charge to between 40% to 60% before turning the engine on or use it for the traction motors, which yields a 20% depth of discharge.\\n'}>\n",
      "<Hit {'content': 'It\\'s the \"depth\" the battery is used and charge. A Prius Hybrid battery for example would restrict the state of charge to between 40% to 60% before turning the engine on or use it for the traction motors, which yields a 20% depth of discharge.\\n'}>\n",
      "<Hit {'content': 'It\\'s the \"depth\" the battery is used and charge. A Prius Hybrid battery for example would restrict the state of charge to between 40% to 60% before turning the engine on or use it for the traction motors, which yields a 20% depth of discharge.\\n'}>\n",
      "<Hit {'content': 'I own a fusion hybrid - the engine will turn on and off periodically to recharge the hybrid battery (in summer) or reheat the coolant so the heater core stays hot (in winter)\\n'}>\n"
     ]
    }
   ],
   "source": [
    "parser = QueryParser(\"content\", ix.schema)\n",
    "myquery = And([Term(\"content\", \"engine\"),\n",
    "              Term(\"content\", \"battery\")])\n",
    "\n",
    "#myquery = parser.parse(\"Model Y\")\n",
    "with ix.searcher() as searcher:\n",
    "    results = searcher.search(myquery)\n",
    "    print(results)\n",
    "    print(\"Total de resultados: \", len(results))\n",
    "    for r in results:\n",
    "        print(r)"
   ]
  },
  {
   "cell_type": "markdown",
   "metadata": {},
   "source": [
    "Por último, vamos a realizar una consulta __OR__, la cual incluya un término u otro. Vamos a probar con _range_ y _wind_, que son dos términos que pueden aparecer juntos, ya que el viento afecta especialmente a la autonomía de los coches eléctricos, como separados."
   ]
  },
  {
   "cell_type": "code",
   "execution_count": 35,
   "metadata": {},
   "outputs": [
    {
     "name": "stdout",
     "output_type": "stream",
     "text": [
      "<Top 10 Results for Or([Term('content', 'range'), Term('content', 'wind')]) runtime=0.020133946999976615>\n",
      "Total de resultados:  4635\n",
      "<Hit {'content': 'Is it to adjust for wind noise?\\n'}>\n",
      "<Hit {'content': 'the cleaning power of wind\\n'}>\n",
      "<Hit {'content': 'Is it to adjust for wind noise?\\n'}>\n",
      "<Hit {'content': 'the cleaning power of wind\\n'}>\n",
      "<Hit {'content': 'Is it to adjust for wind noise?\\n'}>\n",
      "<Hit {'content': 'the cleaning power of wind\\n'}>\n",
      "<Hit {'content': 'I drive from SF to LA a lot (in both SR and Model Y), this chart is nowhere near accurate.\\n\\nHighway range at 80mph is around 60~70% of the EPA range, depending on the temperature/wind\\n\\nI mean I guess you can drive at 60mph in the slow lane with trucks spitting rocks at you if you really wanna hit EPA numbers\\n'}>\n",
      "<Hit {'content': 'I drive from SF to LA a lot (in both SR and Model Y), this chart is nowhere near accurate.\\n\\nHighway range at 80mph is around 60~70% of the EPA range, depending on the temperature/wind\\n\\nI mean I guess you can drive at 60mph in the slow lane with trucks spitting rocks at you if you really wanna hit EPA numbers\\n'}>\n",
      "<Hit {'content': 'I drive from SF to LA a lot (in both SR and Model Y), this chart is nowhere near accurate.\\n\\nHighway range at 80mph is around 60~70% of the EPA range, depending on the temperature/wind\\n\\nI mean I guess you can drive at 60mph in the slow lane with trucks spitting rocks at you if you really wanna hit EPA numbers\\n'}>\n",
      "<Hit {'content': 'Wind and tire nose, yep.\\n'}>\n"
     ]
    }
   ],
   "source": [
    "parser = QueryParser(\"content\", ix.schema)\n",
    "myquery = Or([Term(\"content\", \"range\"),\n",
    "              Term(\"content\", \"wind\")])\n",
    "\n",
    "#myquery = parser.parse(\"Model Y\")\n",
    "with ix.searcher() as searcher:\n",
    "    results = searcher.search(myquery)\n",
    "    print(results)\n",
    "    print(\"Total de resultados: \", len(results))\n",
    "    for r in results:\n",
    "        print(r)"
   ]
  }
 ],
 "metadata": {
  "kernelspec": {
   "display_name": "Python 3",
   "language": "python",
   "name": "python3"
  },
  "language_info": {
   "codemirror_mode": {
    "name": "ipython",
    "version": 3
   },
   "file_extension": ".py",
   "mimetype": "text/x-python",
   "name": "python",
   "nbconvert_exporter": "python",
   "pygments_lexer": "ipython3",
   "version": "3.8.5"
  }
 },
 "nbformat": 4,
 "nbformat_minor": 4
}
